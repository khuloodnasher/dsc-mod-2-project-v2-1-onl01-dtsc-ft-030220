{
 "cells": [
  {
   "cell_type": "markdown",
   "metadata": {
    "toc": true
   },
   "source": [
    "<h1>Table of Contents<span class=\"tocSkip\"></span></h1>\n",
    "<div class=\"toc\"><ul class=\"toc-item\"><li><ul class=\"toc-item\"><li><span><a href=\"#Introduction\" data-toc-modified-id=\"Introduction-0.1\"><span class=\"toc-item-num\">0.1&nbsp;&nbsp;</span>Introduction</a></span></li><li><span><a href=\"#Define-the-Problem\" data-toc-modified-id=\"Define-the-Problem-0.2\"><span class=\"toc-item-num\">0.2&nbsp;&nbsp;</span>Define the Problem</a></span></li><li><span><a href=\"#Acquire-Data\" data-toc-modified-id=\"Acquire-Data-0.3\"><span class=\"toc-item-num\">0.3&nbsp;&nbsp;</span>Acquire Data</a></span><ul class=\"toc-item\"><li><span><a href=\"#Uploading-the-data-and-reading-the-file\" data-toc-modified-id=\"Uploading-the-data-and-reading-the-file-0.3.1\"><span class=\"toc-item-num\">0.3.1&nbsp;&nbsp;</span>Uploading the data and reading the file</a></span></li></ul></li><li><span><a href=\"#Data-Cleaning\" data-toc-modified-id=\"Data-Cleaning-0.4\"><span class=\"toc-item-num\">0.4&nbsp;&nbsp;</span>Data Cleaning</a></span></li><li><span><a href=\"#Investigating-Collinearity\" data-toc-modified-id=\"Investigating-Collinearity-0.5\"><span class=\"toc-item-num\">0.5&nbsp;&nbsp;</span>Investigating Collinearity</a></span></li><li><span><a href=\"#Testing-Collinearity\" data-toc-modified-id=\"Testing-Collinearity-0.6\"><span class=\"toc-item-num\">0.6&nbsp;&nbsp;</span>Testing Collinearity</a></span></li><li><span><a href=\"#Checking-Correlation-with-the-dependent-variable\" data-toc-modified-id=\"Checking-Correlation-with-the-dependent-variable-0.7\"><span class=\"toc-item-num\">0.7&nbsp;&nbsp;</span>Checking Correlation with the dependent variable</a></span></li><li><span><a href=\"#Modeling-&amp;-Feature-Selection\" data-toc-modified-id=\"Modeling-&amp;-Feature-Selection-0.8\"><span class=\"toc-item-num\">0.8&nbsp;&nbsp;</span>Modeling &amp; Feature Selection</a></span></li><li><span><a href=\"#Feature-Scaling-and-normalization\" data-toc-modified-id=\"Feature-Scaling-and-normalization-0.9\"><span class=\"toc-item-num\">0.9&nbsp;&nbsp;</span>Feature Scaling and normalization</a></span></li><li><span><a href=\"#Feature-selection\" data-toc-modified-id=\"Feature-selection-0.10\"><span class=\"toc-item-num\">0.10&nbsp;&nbsp;</span>Feature selection</a></span></li><li><span><a href=\"#Different-Prediction-Models\" data-toc-modified-id=\"Different-Prediction-Models-0.11\"><span class=\"toc-item-num\">0.11&nbsp;&nbsp;</span>Different Prediction Models</a></span></li><li><span><a href=\"#Calculate-the-Mean-Squared-Error-(MSE)\" data-toc-modified-id=\"Calculate-the-Mean-Squared-Error-(MSE)-0.12\"><span class=\"toc-item-num\">0.12&nbsp;&nbsp;</span>Calculate the Mean Squared Error (MSE)</a></span></li><li><span><a href=\"#Polynomial-Regression\" data-toc-modified-id=\"Polynomial-Regression-0.13\"><span class=\"toc-item-num\">0.13&nbsp;&nbsp;</span>Polynomial Regression</a></span><ul class=\"toc-item\"><li><span><a href=\"#we-have-21-features-with-21597-inputs\" data-toc-modified-id=\"we-have-21-features-with-21597-inputs-0.13.1\"><span class=\"toc-item-num\">0.13.1&nbsp;&nbsp;</span>we have 21 features with 21597 inputs</a></span></li></ul></li></ul></li><li><span><a href=\"#Exploring-the-Data-for-Housing-Sales\" data-toc-modified-id=\"Exploring-the-Data-for-Housing-Sales-1\"><span class=\"toc-item-num\">1&nbsp;&nbsp;</span>Exploring the Data for Housing Sales</a></span><ul class=\"toc-item\"><li><span><a href=\"#investigating-into-each-feature\" data-toc-modified-id=\"investigating-into-each-feature-1.1\"><span class=\"toc-item-num\">1.1&nbsp;&nbsp;</span>investigating into each feature</a></span><ul class=\"toc-item\"><li><span><a href=\"#Year-built\" data-toc-modified-id=\"Year-built-1.1.1\"><span class=\"toc-item-num\">1.1.1&nbsp;&nbsp;</span>Year built</a></span></li></ul></li></ul></li><li><span><a href=\"#A-linear-model-using-statsmodels\" data-toc-modified-id=\"A-linear-model-using-statsmodels-2\"><span class=\"toc-item-num\">2&nbsp;&nbsp;</span>A linear model using statsmodels</a></span></li><li><span><a href=\"#Linear-regression-using-scikit-learn\" data-toc-modified-id=\"Linear-regression-using-scikit-learn-3\"><span class=\"toc-item-num\">3&nbsp;&nbsp;</span>Linear regression using scikit-learn</a></span><ul class=\"toc-item\"><li><span><a href=\"#Feature-ranking-with-recursive-feature-elimination\" data-toc-modified-id=\"Feature-ranking-with-recursive-feature-elimination-3.1\"><span class=\"toc-item-num\">3.1&nbsp;&nbsp;</span>Feature ranking with recursive feature elimination</a></span></li><li><span><a href=\"#Calling\" data-toc-modified-id=\"Calling-3.2\"><span class=\"toc-item-num\">3.2&nbsp;&nbsp;</span>Calling</a></span></li><li><span><a href=\"#Note-that-the-regression-coefficients-and-intercept-are-slightly-different.\" data-toc-modified-id=\"Note-that-the-regression-coefficients-and-intercept-are-slightly-different.-3.3\"><span class=\"toc-item-num\">3.3&nbsp;&nbsp;</span>Note that the regression coefficients and intercept are slightly different.</a></span></li></ul></li><li><span><a href=\"#kfold-cross-validation\" data-toc-modified-id=\"kfold-cross-validation-4\"><span class=\"toc-item-num\">4&nbsp;&nbsp;</span>kfold cross validation</a></span></li></ul></div>"
   ]
  },
  {
   "cell_type": "markdown",
   "metadata": {},
   "source": [
    "### Introduction\n",
    "In order to predict The King County’s home prices, I chose the housing price dataset that was sourced from Kaggle. This dataset contains house sale prices for King County, which includes Seattle. It includes homes sold between May 2014 and May 2015.\n",
    "The general framework for approaching a problem:\n",
    "1. Define the Problem\n",
    "2. Acquire Data\n",
    "3. Preprocess Data\n",
    "4. Explore the Data\n",
    "5. Model the Data & Select Features\n",
    "6. Communicate Results\n",
    "7. Deploy"
   ]
  },
  {
   "cell_type": "markdown",
   "metadata": {},
   "source": [
    "\n",
    "###  Define the Problem\n",
    "The Problem: Using housing data, I will try to predict housing prices using a regression model.\n",
    "There are many potential use cases for forecasting housing prices. A real-estate professional may be interested in forecasting revenue. A homeowner may be interested in identifying important features that affect sales price so that they can make appropriate renovation decisions before selling. In any case, my hypothesis is that the specific housing features I collect, such as square footage, bedrooms, etc, are predictive of future housing prices.\n"
   ]
  },
  {
   "cell_type": "code",
   "execution_count": 338,
   "metadata": {
    "ExecuteTime": {
     "end_time": "2020-04-21T02:02:42.312792Z",
     "start_time": "2020-04-21T02:02:42.303612Z"
    }
   },
   "outputs": [],
   "source": [
    "# Import Libraries\n",
    "import warnings  ## To remove warnings\n",
    "warnings.filterwarnings(\"ignore\")\n",
    "#  To run multi command in the same jupyter cells\n",
    "from IPython.core.interactiveshell import InteractiveShell\n",
    "InteractiveShell.ast_node_interactivity = \"all\"\n",
    "\n",
    "import numpy as np\n",
    "import pandas as pd\n",
    "import matplotlib.pyplot as plt\n",
    "%matplotlib inline\n",
    "import seaborn as sns\n",
    "from sklearn.preprocessing import LabelEncoder\n",
    "import statsmodels.api as sm\n",
    "from statsmodels.formula.api import ols\n",
    "\n"
   ]
  },
  {
   "cell_type": "markdown",
   "metadata": {},
   "source": [
    "### Acquire Data\n",
    "Data: The data for this project comes from Kaggle’s House Prices Dataset. The dataset consists of 21597 houses and 21 columns. Each column contains features, both qualitative and quantitative, that characterize a housing property. The price column is the target variable."
   ]
  },
  {
   "cell_type": "markdown",
   "metadata": {},
   "source": [
    "#### Uploading the data and reading the file"
   ]
  },
  {
   "cell_type": "code",
   "execution_count": 339,
   "metadata": {
    "ExecuteTime": {
     "end_time": "2020-04-21T02:02:42.429946Z",
     "start_time": "2020-04-21T02:02:42.316124Z"
    }
   },
   "outputs": [
    {
     "data": {
      "text/html": [
       "<div>\n",
       "<style scoped>\n",
       "    .dataframe tbody tr th:only-of-type {\n",
       "        vertical-align: middle;\n",
       "    }\n",
       "\n",
       "    .dataframe tbody tr th {\n",
       "        vertical-align: top;\n",
       "    }\n",
       "\n",
       "    .dataframe thead th {\n",
       "        text-align: right;\n",
       "    }\n",
       "</style>\n",
       "<table border=\"1\" class=\"dataframe\">\n",
       "  <thead>\n",
       "    <tr style=\"text-align: right;\">\n",
       "      <th></th>\n",
       "      <th>id</th>\n",
       "      <th>date</th>\n",
       "      <th>price</th>\n",
       "      <th>bedrooms</th>\n",
       "      <th>bathrooms</th>\n",
       "      <th>sqft_living</th>\n",
       "      <th>sqft_lot</th>\n",
       "      <th>floors</th>\n",
       "      <th>waterfront</th>\n",
       "      <th>view</th>\n",
       "      <th>...</th>\n",
       "      <th>grade</th>\n",
       "      <th>sqft_above</th>\n",
       "      <th>sqft_basement</th>\n",
       "      <th>yr_built</th>\n",
       "      <th>yr_renovated</th>\n",
       "      <th>zipcode</th>\n",
       "      <th>lat</th>\n",
       "      <th>long</th>\n",
       "      <th>sqft_living15</th>\n",
       "      <th>sqft_lot15</th>\n",
       "    </tr>\n",
       "  </thead>\n",
       "  <tbody>\n",
       "    <tr>\n",
       "      <td>0</td>\n",
       "      <td>7129300520</td>\n",
       "      <td>10/13/2014</td>\n",
       "      <td>221900.0</td>\n",
       "      <td>3</td>\n",
       "      <td>1.00</td>\n",
       "      <td>1180</td>\n",
       "      <td>5650</td>\n",
       "      <td>1.0</td>\n",
       "      <td>NaN</td>\n",
       "      <td>0.0</td>\n",
       "      <td>...</td>\n",
       "      <td>7</td>\n",
       "      <td>1180</td>\n",
       "      <td>0.0</td>\n",
       "      <td>1955</td>\n",
       "      <td>0.0</td>\n",
       "      <td>98178</td>\n",
       "      <td>47.5112</td>\n",
       "      <td>-122.257</td>\n",
       "      <td>1340</td>\n",
       "      <td>5650</td>\n",
       "    </tr>\n",
       "    <tr>\n",
       "      <td>1</td>\n",
       "      <td>6414100192</td>\n",
       "      <td>12/9/2014</td>\n",
       "      <td>538000.0</td>\n",
       "      <td>3</td>\n",
       "      <td>2.25</td>\n",
       "      <td>2570</td>\n",
       "      <td>7242</td>\n",
       "      <td>2.0</td>\n",
       "      <td>0.0</td>\n",
       "      <td>0.0</td>\n",
       "      <td>...</td>\n",
       "      <td>7</td>\n",
       "      <td>2170</td>\n",
       "      <td>400.0</td>\n",
       "      <td>1951</td>\n",
       "      <td>1991.0</td>\n",
       "      <td>98125</td>\n",
       "      <td>47.7210</td>\n",
       "      <td>-122.319</td>\n",
       "      <td>1690</td>\n",
       "      <td>7639</td>\n",
       "    </tr>\n",
       "    <tr>\n",
       "      <td>2</td>\n",
       "      <td>5631500400</td>\n",
       "      <td>2/25/2015</td>\n",
       "      <td>180000.0</td>\n",
       "      <td>2</td>\n",
       "      <td>1.00</td>\n",
       "      <td>770</td>\n",
       "      <td>10000</td>\n",
       "      <td>1.0</td>\n",
       "      <td>0.0</td>\n",
       "      <td>0.0</td>\n",
       "      <td>...</td>\n",
       "      <td>6</td>\n",
       "      <td>770</td>\n",
       "      <td>0.0</td>\n",
       "      <td>1933</td>\n",
       "      <td>NaN</td>\n",
       "      <td>98028</td>\n",
       "      <td>47.7379</td>\n",
       "      <td>-122.233</td>\n",
       "      <td>2720</td>\n",
       "      <td>8062</td>\n",
       "    </tr>\n",
       "    <tr>\n",
       "      <td>3</td>\n",
       "      <td>2487200875</td>\n",
       "      <td>12/9/2014</td>\n",
       "      <td>604000.0</td>\n",
       "      <td>4</td>\n",
       "      <td>3.00</td>\n",
       "      <td>1960</td>\n",
       "      <td>5000</td>\n",
       "      <td>1.0</td>\n",
       "      <td>0.0</td>\n",
       "      <td>0.0</td>\n",
       "      <td>...</td>\n",
       "      <td>7</td>\n",
       "      <td>1050</td>\n",
       "      <td>910.0</td>\n",
       "      <td>1965</td>\n",
       "      <td>0.0</td>\n",
       "      <td>98136</td>\n",
       "      <td>47.5208</td>\n",
       "      <td>-122.393</td>\n",
       "      <td>1360</td>\n",
       "      <td>5000</td>\n",
       "    </tr>\n",
       "    <tr>\n",
       "      <td>4</td>\n",
       "      <td>1954400510</td>\n",
       "      <td>2/18/2015</td>\n",
       "      <td>510000.0</td>\n",
       "      <td>3</td>\n",
       "      <td>2.00</td>\n",
       "      <td>1680</td>\n",
       "      <td>8080</td>\n",
       "      <td>1.0</td>\n",
       "      <td>0.0</td>\n",
       "      <td>0.0</td>\n",
       "      <td>...</td>\n",
       "      <td>8</td>\n",
       "      <td>1680</td>\n",
       "      <td>0.0</td>\n",
       "      <td>1987</td>\n",
       "      <td>0.0</td>\n",
       "      <td>98074</td>\n",
       "      <td>47.6168</td>\n",
       "      <td>-122.045</td>\n",
       "      <td>1800</td>\n",
       "      <td>7503</td>\n",
       "    </tr>\n",
       "  </tbody>\n",
       "</table>\n",
       "<p>5 rows × 21 columns</p>\n",
       "</div>"
      ],
      "text/plain": [
       "           id        date     price  bedrooms  bathrooms  sqft_living  \\\n",
       "0  7129300520  10/13/2014  221900.0         3       1.00         1180   \n",
       "1  6414100192   12/9/2014  538000.0         3       2.25         2570   \n",
       "2  5631500400   2/25/2015  180000.0         2       1.00          770   \n",
       "3  2487200875   12/9/2014  604000.0         4       3.00         1960   \n",
       "4  1954400510   2/18/2015  510000.0         3       2.00         1680   \n",
       "\n",
       "   sqft_lot  floors  waterfront  view  ...  grade  sqft_above  sqft_basement  \\\n",
       "0      5650     1.0         NaN   0.0  ...      7        1180            0.0   \n",
       "1      7242     2.0         0.0   0.0  ...      7        2170          400.0   \n",
       "2     10000     1.0         0.0   0.0  ...      6         770            0.0   \n",
       "3      5000     1.0         0.0   0.0  ...      7        1050          910.0   \n",
       "4      8080     1.0         0.0   0.0  ...      8        1680            0.0   \n",
       "\n",
       "  yr_built  yr_renovated  zipcode      lat     long  sqft_living15  sqft_lot15  \n",
       "0     1955           0.0    98178  47.5112 -122.257           1340        5650  \n",
       "1     1951        1991.0    98125  47.7210 -122.319           1690        7639  \n",
       "2     1933           NaN    98028  47.7379 -122.233           2720        8062  \n",
       "3     1965           0.0    98136  47.5208 -122.393           1360        5000  \n",
       "4     1987           0.0    98074  47.6168 -122.045           1800        7503  \n",
       "\n",
       "[5 rows x 21 columns]"
      ]
     },
     "execution_count": 339,
     "metadata": {},
     "output_type": "execute_result"
    },
    {
     "data": {
      "text/plain": [
       "21597"
      ]
     },
     "execution_count": 339,
     "metadata": {},
     "output_type": "execute_result"
    }
   ],
   "source": [
    "df=pd.read_csv('kc_house_data.csv')\n",
    "df.head()\n",
    "len(df)"
   ]
  },
  {
   "cell_type": "code",
   "execution_count": 340,
   "metadata": {
    "ExecuteTime": {
     "end_time": "2020-04-21T02:02:42.448776Z",
     "start_time": "2020-04-21T02:02:42.433602Z"
    }
   },
   "outputs": [
    {
     "name": "stdout",
     "output_type": "stream",
     "text": [
      "<class 'pandas.core.frame.DataFrame'>\n",
      "RangeIndex: 21597 entries, 0 to 21596\n",
      "Data columns (total 21 columns):\n",
      "id               21597 non-null int64\n",
      "date             21597 non-null object\n",
      "price            21597 non-null float64\n",
      "bedrooms         21597 non-null int64\n",
      "bathrooms        21597 non-null float64\n",
      "sqft_living      21597 non-null int64\n",
      "sqft_lot         21597 non-null int64\n",
      "floors           21597 non-null float64\n",
      "waterfront       19221 non-null float64\n",
      "view             21534 non-null float64\n",
      "condition        21597 non-null int64\n",
      "grade            21597 non-null int64\n",
      "sqft_above       21597 non-null int64\n",
      "sqft_basement    21597 non-null object\n",
      "yr_built         21597 non-null int64\n",
      "yr_renovated     17755 non-null float64\n",
      "zipcode          21597 non-null int64\n",
      "lat              21597 non-null float64\n",
      "long             21597 non-null float64\n",
      "sqft_living15    21597 non-null int64\n",
      "sqft_lot15       21597 non-null int64\n",
      "dtypes: float64(8), int64(11), object(2)\n",
      "memory usage: 3.5+ MB\n"
     ]
    }
   ],
   "source": [
    "df.info()"
   ]
  },
  {
   "cell_type": "markdown",
   "metadata": {
    "ExecuteTime": {
     "end_time": "2020-04-20T22:05:09.267772Z",
     "start_time": "2020-04-20T22:05:09.265540Z"
    }
   },
   "source": [
    "### Data Cleaning"
   ]
  },
  {
   "cell_type": "code",
   "execution_count": 341,
   "metadata": {
    "ExecuteTime": {
     "end_time": "2020-04-21T02:02:42.469663Z",
     "start_time": "2020-04-21T02:02:42.452238Z"
    }
   },
   "outputs": [
    {
     "data": {
      "text/plain": [
       "array([ 0., nan,  3.,  4.,  2.,  1.])"
      ]
     },
     "execution_count": 341,
     "metadata": {},
     "output_type": "execute_result"
    },
    {
     "data": {
      "text/plain": [
       "0.0    19422\n",
       "2.0      957\n",
       "3.0      508\n",
       "1.0      330\n",
       "4.0      317\n",
       "Name: view, dtype: int64"
      ]
     },
     "execution_count": 341,
     "metadata": {},
     "output_type": "execute_result"
    },
    {
     "data": {
      "text/plain": [
       "0        False\n",
       "1        False\n",
       "2        False\n",
       "3        False\n",
       "4        False\n",
       "         ...  \n",
       "21592    False\n",
       "21593    False\n",
       "21594    False\n",
       "21595    False\n",
       "21596    False\n",
       "Name: view, Length: 21597, dtype: bool"
      ]
     },
     "execution_count": 341,
     "metadata": {},
     "output_type": "execute_result"
    },
    {
     "data": {
      "text/plain": [
       "0        0.0\n",
       "1        0.0\n",
       "2        0.0\n",
       "3        0.0\n",
       "4        0.0\n",
       "        ... \n",
       "21592    0.0\n",
       "21593    0.0\n",
       "21594    0.0\n",
       "21595    0.0\n",
       "21596    0.0\n",
       "Name: view, Length: 21534, dtype: float64"
      ]
     },
     "execution_count": 341,
     "metadata": {},
     "output_type": "execute_result"
    }
   ],
   "source": [
    "df['view'].unique()\n",
    "df['view'].value_counts()\n",
    "df['view'].isna()\n",
    "df['view'].dropna()\n"
   ]
  },
  {
   "cell_type": "code",
   "execution_count": 342,
   "metadata": {
    "ExecuteTime": {
     "end_time": "2020-04-21T02:02:42.483432Z",
     "start_time": "2020-04-21T02:02:42.472211Z"
    }
   },
   "outputs": [
    {
     "data": {
      "text/plain": [
       "<bound method Series.unique of 0        0.0\n",
       "1        0.0\n",
       "2        0.0\n",
       "3        0.0\n",
       "4        0.0\n",
       "        ... \n",
       "21592    0.0\n",
       "21593    0.0\n",
       "21594    0.0\n",
       "21595    0.0\n",
       "21596    0.0\n",
       "Name: view, Length: 21597, dtype: float64>"
      ]
     },
     "execution_count": 342,
     "metadata": {},
     "output_type": "execute_result"
    },
    {
     "data": {
      "text/plain": [
       "False    21534\n",
       "True        63\n",
       "Name: view, dtype: int64"
      ]
     },
     "execution_count": 342,
     "metadata": {},
     "output_type": "execute_result"
    }
   ],
   "source": [
    "df['view'].unique\n",
    "df['view'].isna().value_counts()"
   ]
  },
  {
   "cell_type": "code",
   "execution_count": 343,
   "metadata": {
    "ExecuteTime": {
     "end_time": "2020-04-21T02:02:42.492752Z",
     "start_time": "2020-04-21T02:02:42.485523Z"
    },
    "scrolled": true
   },
   "outputs": [
    {
     "name": "stdout",
     "output_type": "stream",
     "text": [
      " Waterfront null = 11.00152798999861 \n",
      " View null = 0.29170718155299347 \n",
      " Yr_renovated null = 17.78950780200954\n"
     ]
    }
   ],
   "source": [
    "waterna_perc = (df['waterfront'].isna().sum() / len(df['waterfront']))* 100 \n",
    "viewna_perc = (df['view'].isna().sum() / len(df['view'])) * 100 \n",
    "yearna_perc = (df['yr_renovated'].isna().sum() / len(df['yr_renovated'])) * 100\n",
    "print(\" Waterfront null = {} \\n \" \"View null = {} \\n \"  \"Yr_renovated null = {}\".format(waterna_perc ,viewna_perc , yearna_perc ))"
   ]
  },
  {
   "cell_type": "code",
   "execution_count": 344,
   "metadata": {
    "ExecuteTime": {
     "end_time": "2020-04-21T02:02:42.510076Z",
     "start_time": "2020-04-21T02:02:42.496009Z"
    }
   },
   "outputs": [
    {
     "data": {
      "text/plain": [
       "array([nan,  0.,  1.])"
      ]
     },
     "execution_count": 344,
     "metadata": {},
     "output_type": "execute_result"
    },
    {
     "data": {
      "text/plain": [
       "0.0    19075\n",
       "1.0      146\n",
       "Name: waterfront, dtype: int64"
      ]
     },
     "execution_count": 344,
     "metadata": {},
     "output_type": "execute_result"
    },
    {
     "data": {
      "text/plain": [
       "False    19221\n",
       "True      2376\n",
       "Name: waterfront, dtype: int64"
      ]
     },
     "execution_count": 344,
     "metadata": {},
     "output_type": "execute_result"
    },
    {
     "data": {
      "text/plain": [
       "0.0"
      ]
     },
     "execution_count": 344,
     "metadata": {},
     "output_type": "execute_result"
    }
   ],
   "source": [
    "df['waterfront'].unique()\n",
    "df['waterfront'].value_counts()\n",
    "df['waterfront'].isna().value_counts()\n",
    "df['waterfront'].mean().round()\n"
   ]
  },
  {
   "cell_type": "code",
   "execution_count": 345,
   "metadata": {
    "ExecuteTime": {
     "end_time": "2020-04-21T02:02:42.520666Z",
     "start_time": "2020-04-21T02:02:42.513100Z"
    }
   },
   "outputs": [],
   "source": [
    "df['waterfront']=df['waterfront'].fillna(df['view'].median())\n",
    "df['yr_renovated'] = df['yr_renovated'].fillna(0.0)\n",
    "\n",
    "df['view'] = df['view'].fillna(df['view'].median()) \n"
   ]
  },
  {
   "cell_type": "code",
   "execution_count": 346,
   "metadata": {
    "ExecuteTime": {
     "end_time": "2020-04-21T02:02:42.624890Z",
     "start_time": "2020-04-21T02:02:42.522461Z"
    }
   },
   "outputs": [
    {
     "data": {
      "text/plain": [
       "0.0       12826\n",
       "0           454\n",
       "600.0       217\n",
       "500.0       209\n",
       "700.0       208\n",
       "          ...  \n",
       "2300.0        1\n",
       "225.0         1\n",
       "2360.0        1\n",
       "1245.0        1\n",
       "207.0         1\n",
       "Name: sqft_basement, Length: 304, dtype: int64"
      ]
     },
     "execution_count": 346,
     "metadata": {},
     "output_type": "execute_result"
    },
    {
     "data": {
      "text/plain": [
       "array(['0.0', '400.0', '910.0', '1530.0', 0, '730.0', '1700.0', '300.0',\n",
       "       '970.0', '760.0', '720.0', '700.0', '820.0', '780.0', '790.0',\n",
       "       '330.0', '1620.0', '360.0', '588.0', '1510.0', '410.0', '990.0',\n",
       "       '600.0', '560.0', '550.0', '1000.0', '1600.0', '500.0', '1040.0',\n",
       "       '880.0', '1010.0', '240.0', '265.0', '290.0', '800.0', '540.0',\n",
       "       '710.0', '840.0', '380.0', '770.0', '480.0', '570.0', '1490.0',\n",
       "       '620.0', '1250.0', '1270.0', '120.0', '650.0', '180.0', '1130.0',\n",
       "       '450.0', '1640.0', '1460.0', '1020.0', '1030.0', '750.0', '640.0',\n",
       "       '1070.0', '490.0', '1310.0', '630.0', '2000.0', '390.0', '430.0',\n",
       "       '850.0', '210.0', '1430.0', '1950.0', '440.0', '220.0', '1160.0',\n",
       "       '860.0', '580.0', '2060.0', '1820.0', '1180.0', '200.0', '1150.0',\n",
       "       '1200.0', '680.0', '530.0', '1450.0', '1170.0', '1080.0', '960.0',\n",
       "       '280.0', '870.0', '1100.0', '460.0', '1400.0', '660.0', '1220.0',\n",
       "       '900.0', '420.0', '1580.0', '1380.0', '475.0', '690.0', '270.0',\n",
       "       '350.0', '935.0', '1370.0', '980.0', '1470.0', '160.0', '950.0',\n",
       "       '50.0', '740.0', '1780.0', '1900.0', '340.0', '470.0', '370.0',\n",
       "       '140.0', '1760.0', '130.0', '520.0', '890.0', '1110.0', '150.0',\n",
       "       '1720.0', '810.0', '190.0', '1290.0', '670.0', '1800.0', '1120.0',\n",
       "       '1810.0', '60.0', '1050.0', '940.0', '310.0', '930.0', '1390.0',\n",
       "       '610.0', '1830.0', '1300.0', '510.0', '1330.0', '1590.0', '920.0',\n",
       "       '1320.0', '1420.0', '1240.0', '1960.0', '1560.0', '2020.0',\n",
       "       '1190.0', '2110.0', '1280.0', '250.0', '2390.0', '1230.0', '170.0',\n",
       "       '830.0', '1260.0', '1410.0', '1340.0', '590.0', '1500.0', '1140.0',\n",
       "       '260.0', '100.0', '320.0', '1480.0', '1060.0', '1284.0', '1670.0',\n",
       "       '1350.0', '2570.0', '1090.0', '110.0', '2500.0', '90.0', '1940.0',\n",
       "       '1550.0', '2350.0', '2490.0', '1481.0', '1360.0', '1135.0',\n",
       "       '1520.0', '1850.0', '1660.0', '2130.0', '2600.0', '1690.0',\n",
       "       '243.0', '1210.0', '1024.0', '1798.0', '1610.0', '1440.0',\n",
       "       '1570.0', '1650.0', '704.0', '1910.0', '1630.0', '2360.0',\n",
       "       '1852.0', '2090.0', '2400.0', '1790.0', '2150.0', '230.0', '70.0',\n",
       "       '1680.0', '2100.0', '3000.0', '1870.0', '1710.0', '2030.0',\n",
       "       '875.0', '1540.0', '2850.0', '2170.0', '506.0', '906.0', '145.0',\n",
       "       '2040.0', '784.0', '1750.0', '374.0', '518.0', '2720.0', '2730.0',\n",
       "       '1840.0', '3480.0', '2160.0', '1920.0', '2330.0', '1860.0',\n",
       "       '2050.0', '4820.0', '1913.0', '80.0', '2010.0', '3260.0', '2200.0',\n",
       "       '415.0', '1730.0', '652.0', '2196.0', '1930.0', '515.0', '40.0',\n",
       "       '2080.0', '2580.0', '1548.0', '1740.0', '235.0', '861.0', '1890.0',\n",
       "       '2220.0', '792.0', '2070.0', '4130.0', '2250.0', '2240.0',\n",
       "       '1990.0', '768.0', '2550.0', '435.0', '1008.0', '2300.0', '2610.0',\n",
       "       '666.0', '3500.0', '172.0', '1816.0', '2190.0', '1245.0', '1525.0',\n",
       "       '1880.0', '862.0', '946.0', '1281.0', '414.0', '2180.0', '276.0',\n",
       "       '1248.0', '602.0', '516.0', '176.0', '225.0', '1275.0', '266.0',\n",
       "       '283.0', '65.0', '2310.0', '10.0', '1770.0', '2120.0', '295.0',\n",
       "       '207.0', '915.0', '556.0', '417.0', '143.0', '508.0', '2810.0',\n",
       "       '20.0', '274.0', '248.0'], dtype=object)"
      ]
     },
     "execution_count": 346,
     "metadata": {},
     "output_type": "execute_result"
    }
   ],
   "source": [
    "df = df.replace(to_replace='?', value = 0)\n",
    "df['sqft_basement'].value_counts()\n",
    "df['sqft_basement'].unique() ## Square feet basement represnt area and must be converted to float type\n"
   ]
  },
  {
   "cell_type": "code",
   "execution_count": 347,
   "metadata": {
    "ExecuteTime": {
     "end_time": "2020-04-21T02:02:42.647232Z",
     "start_time": "2020-04-21T02:02:42.627252Z"
    }
   },
   "outputs": [
    {
     "data": {
      "text/plain": [
       "array([0., 1.])"
      ]
     },
     "execution_count": 347,
     "metadata": {},
     "output_type": "execute_result"
    },
    {
     "data": {
      "text/plain": [
       "array([0., 3., 4., 2., 1.])"
      ]
     },
     "execution_count": 347,
     "metadata": {},
     "output_type": "execute_result"
    },
    {
     "data": {
      "text/plain": [
       "array([ 3,  2,  4,  5,  1,  6,  7,  8,  9, 11, 10, 33])"
      ]
     },
     "execution_count": 347,
     "metadata": {},
     "output_type": "execute_result"
    },
    {
     "data": {
      "text/plain": [
       "array([1.  , 2.25, 3.  , 2.  , 4.5 , 1.5 , 2.5 , 1.75, 2.75, 3.25, 4.  ,\n",
       "       3.5 , 0.75, 4.75, 5.  , 4.25, 3.75, 1.25, 5.25, 6.  , 0.5 , 5.5 ,\n",
       "       6.75, 5.75, 8.  , 7.5 , 7.75, 6.25, 6.5 ])"
      ]
     },
     "execution_count": 347,
     "metadata": {},
     "output_type": "execute_result"
    },
    {
     "data": {
      "text/plain": [
       "array([1. , 2. , 1.5, 3. , 2.5, 3.5])"
      ]
     },
     "execution_count": 347,
     "metadata": {},
     "output_type": "execute_result"
    },
    {
     "data": {
      "text/plain": [
       "array([ 7,  6,  8, 11,  9,  5, 10, 12,  4,  3, 13])"
      ]
     },
     "execution_count": 347,
     "metadata": {},
     "output_type": "execute_result"
    },
    {
     "data": {
      "text/plain": [
       "array([98178, 98125, 98028, 98136, 98074, 98053, 98003, 98198, 98146,\n",
       "       98038, 98007, 98115, 98107, 98126, 98019, 98103, 98002, 98133,\n",
       "       98040, 98092, 98030, 98119, 98112, 98052, 98027, 98117, 98058,\n",
       "       98001, 98056, 98166, 98023, 98070, 98148, 98105, 98042, 98008,\n",
       "       98059, 98122, 98144, 98004, 98005, 98034, 98075, 98116, 98010,\n",
       "       98118, 98199, 98032, 98045, 98102, 98077, 98108, 98168, 98177,\n",
       "       98065, 98029, 98006, 98109, 98022, 98033, 98155, 98024, 98011,\n",
       "       98031, 98106, 98072, 98188, 98014, 98055, 98039])"
      ]
     },
     "execution_count": 347,
     "metadata": {},
     "output_type": "execute_result"
    }
   ],
   "source": [
    "df['waterfront'].unique()\n",
    "df['view'] .unique() \n",
    "df['bedrooms'].unique()\n",
    "df['bathrooms'].unique()\n",
    "df['floors'].unique()\n",
    "df['grade'].unique()\n",
    "df['zipcode'].unique()"
   ]
  },
  {
   "cell_type": "code",
   "execution_count": 348,
   "metadata": {
    "ExecuteTime": {
     "end_time": "2020-04-21T02:02:42.653148Z",
     "start_time": "2020-04-21T02:02:42.648884Z"
    }
   },
   "outputs": [],
   "source": [
    "df.drop(['id'], axis=1, inplace=True)\n",
    "\n"
   ]
  },
  {
   "cell_type": "code",
   "execution_count": 349,
   "metadata": {
    "ExecuteTime": {
     "end_time": "2020-04-21T02:02:42.671075Z",
     "start_time": "2020-04-21T02:02:42.655039Z"
    }
   },
   "outputs": [
    {
     "data": {
      "text/html": [
       "<div>\n",
       "<style scoped>\n",
       "    .dataframe tbody tr th:only-of-type {\n",
       "        vertical-align: middle;\n",
       "    }\n",
       "\n",
       "    .dataframe tbody tr th {\n",
       "        vertical-align: top;\n",
       "    }\n",
       "\n",
       "    .dataframe thead th {\n",
       "        text-align: right;\n",
       "    }\n",
       "</style>\n",
       "<table border=\"1\" class=\"dataframe\">\n",
       "  <thead>\n",
       "    <tr style=\"text-align: right;\">\n",
       "      <th></th>\n",
       "      <th>date</th>\n",
       "      <th>price</th>\n",
       "      <th>bedrooms</th>\n",
       "      <th>bathrooms</th>\n",
       "      <th>sqft_living</th>\n",
       "      <th>sqft_lot</th>\n",
       "      <th>floors</th>\n",
       "      <th>waterfront</th>\n",
       "      <th>view</th>\n",
       "      <th>condition</th>\n",
       "      <th>grade</th>\n",
       "      <th>sqft_above</th>\n",
       "      <th>sqft_basement</th>\n",
       "      <th>yr_built</th>\n",
       "      <th>yr_renovated</th>\n",
       "      <th>zipcode</th>\n",
       "      <th>lat</th>\n",
       "      <th>long</th>\n",
       "      <th>sqft_living15</th>\n",
       "      <th>sqft_lot15</th>\n",
       "    </tr>\n",
       "  </thead>\n",
       "  <tbody>\n",
       "    <tr>\n",
       "      <td>0</td>\n",
       "      <td>10/13/2014</td>\n",
       "      <td>221900.0</td>\n",
       "      <td>3</td>\n",
       "      <td>1.00</td>\n",
       "      <td>1180</td>\n",
       "      <td>5650</td>\n",
       "      <td>1.0</td>\n",
       "      <td>0.0</td>\n",
       "      <td>0.0</td>\n",
       "      <td>3</td>\n",
       "      <td>7</td>\n",
       "      <td>1180</td>\n",
       "      <td>0.0</td>\n",
       "      <td>1955</td>\n",
       "      <td>0.0</td>\n",
       "      <td>98178</td>\n",
       "      <td>47.5112</td>\n",
       "      <td>-122.257</td>\n",
       "      <td>1340</td>\n",
       "      <td>5650</td>\n",
       "    </tr>\n",
       "    <tr>\n",
       "      <td>1</td>\n",
       "      <td>12/9/2014</td>\n",
       "      <td>538000.0</td>\n",
       "      <td>3</td>\n",
       "      <td>2.25</td>\n",
       "      <td>2570</td>\n",
       "      <td>7242</td>\n",
       "      <td>2.0</td>\n",
       "      <td>0.0</td>\n",
       "      <td>0.0</td>\n",
       "      <td>3</td>\n",
       "      <td>7</td>\n",
       "      <td>2170</td>\n",
       "      <td>400.0</td>\n",
       "      <td>1951</td>\n",
       "      <td>1991.0</td>\n",
       "      <td>98125</td>\n",
       "      <td>47.7210</td>\n",
       "      <td>-122.319</td>\n",
       "      <td>1690</td>\n",
       "      <td>7639</td>\n",
       "    </tr>\n",
       "    <tr>\n",
       "      <td>2</td>\n",
       "      <td>2/25/2015</td>\n",
       "      <td>180000.0</td>\n",
       "      <td>2</td>\n",
       "      <td>1.00</td>\n",
       "      <td>770</td>\n",
       "      <td>10000</td>\n",
       "      <td>1.0</td>\n",
       "      <td>0.0</td>\n",
       "      <td>0.0</td>\n",
       "      <td>3</td>\n",
       "      <td>6</td>\n",
       "      <td>770</td>\n",
       "      <td>0.0</td>\n",
       "      <td>1933</td>\n",
       "      <td>0.0</td>\n",
       "      <td>98028</td>\n",
       "      <td>47.7379</td>\n",
       "      <td>-122.233</td>\n",
       "      <td>2720</td>\n",
       "      <td>8062</td>\n",
       "    </tr>\n",
       "    <tr>\n",
       "      <td>3</td>\n",
       "      <td>12/9/2014</td>\n",
       "      <td>604000.0</td>\n",
       "      <td>4</td>\n",
       "      <td>3.00</td>\n",
       "      <td>1960</td>\n",
       "      <td>5000</td>\n",
       "      <td>1.0</td>\n",
       "      <td>0.0</td>\n",
       "      <td>0.0</td>\n",
       "      <td>5</td>\n",
       "      <td>7</td>\n",
       "      <td>1050</td>\n",
       "      <td>910.0</td>\n",
       "      <td>1965</td>\n",
       "      <td>0.0</td>\n",
       "      <td>98136</td>\n",
       "      <td>47.5208</td>\n",
       "      <td>-122.393</td>\n",
       "      <td>1360</td>\n",
       "      <td>5000</td>\n",
       "    </tr>\n",
       "    <tr>\n",
       "      <td>4</td>\n",
       "      <td>2/18/2015</td>\n",
       "      <td>510000.0</td>\n",
       "      <td>3</td>\n",
       "      <td>2.00</td>\n",
       "      <td>1680</td>\n",
       "      <td>8080</td>\n",
       "      <td>1.0</td>\n",
       "      <td>0.0</td>\n",
       "      <td>0.0</td>\n",
       "      <td>3</td>\n",
       "      <td>8</td>\n",
       "      <td>1680</td>\n",
       "      <td>0.0</td>\n",
       "      <td>1987</td>\n",
       "      <td>0.0</td>\n",
       "      <td>98074</td>\n",
       "      <td>47.6168</td>\n",
       "      <td>-122.045</td>\n",
       "      <td>1800</td>\n",
       "      <td>7503</td>\n",
       "    </tr>\n",
       "  </tbody>\n",
       "</table>\n",
       "</div>"
      ],
      "text/plain": [
       "         date     price  bedrooms  bathrooms  sqft_living  sqft_lot  floors  \\\n",
       "0  10/13/2014  221900.0         3       1.00         1180      5650     1.0   \n",
       "1   12/9/2014  538000.0         3       2.25         2570      7242     2.0   \n",
       "2   2/25/2015  180000.0         2       1.00          770     10000     1.0   \n",
       "3   12/9/2014  604000.0         4       3.00         1960      5000     1.0   \n",
       "4   2/18/2015  510000.0         3       2.00         1680      8080     1.0   \n",
       "\n",
       "   waterfront  view  condition  grade  sqft_above sqft_basement  yr_built  \\\n",
       "0         0.0   0.0          3      7        1180           0.0      1955   \n",
       "1         0.0   0.0          3      7        2170         400.0      1951   \n",
       "2         0.0   0.0          3      6         770           0.0      1933   \n",
       "3         0.0   0.0          5      7        1050         910.0      1965   \n",
       "4         0.0   0.0          3      8        1680           0.0      1987   \n",
       "\n",
       "   yr_renovated  zipcode      lat     long  sqft_living15  sqft_lot15  \n",
       "0           0.0    98178  47.5112 -122.257           1340        5650  \n",
       "1        1991.0    98125  47.7210 -122.319           1690        7639  \n",
       "2           0.0    98028  47.7379 -122.233           2720        8062  \n",
       "3           0.0    98136  47.5208 -122.393           1360        5000  \n",
       "4           0.0    98074  47.6168 -122.045           1800        7503  "
      ]
     },
     "execution_count": 349,
     "metadata": {},
     "output_type": "execute_result"
    }
   ],
   "source": [
    "df.head()"
   ]
  },
  {
   "cell_type": "code",
   "execution_count": 350,
   "metadata": {
    "ExecuteTime": {
     "end_time": "2020-04-21T02:02:42.680624Z",
     "start_time": "2020-04-21T02:02:42.673865Z"
    }
   },
   "outputs": [],
   "source": [
    "df['sqft_basement'] = df.sqft_basement.astype(float) \n",
    "#df['waterfront'] = df.waterfront.astype('str') \n",
    "#df['view'] = df.view.astype('str') \n",
    "#df['grade'] = df.grade.astype('str')\n",
    "#df['zipcode'] = df.zipcode.astype('str')\n",
    "#df.info()"
   ]
  },
  {
   "cell_type": "code",
   "execution_count": 351,
   "metadata": {
    "ExecuteTime": {
     "end_time": "2020-04-21T02:02:42.719793Z",
     "start_time": "2020-04-21T02:02:42.682380Z"
    }
   },
   "outputs": [
    {
     "data": {
      "text/plain": [
       "7316    2014-05-02\n",
       "20586   2014-05-02\n",
       "1040    2014-05-02\n",
       "20543   2014-05-02\n",
       "9587    2014-05-02\n",
       "           ...    \n",
       "19381   2015-05-14\n",
       "12623   2015-05-14\n",
       "5632    2015-05-15\n",
       "13040   2015-05-24\n",
       "16580   2015-05-27\n",
       "Name: date, Length: 21597, dtype: datetime64[ns]"
      ]
     },
     "execution_count": 351,
     "metadata": {},
     "output_type": "execute_result"
    }
   ],
   "source": [
    "df['date'] = pd.to_datetime(df['date']) \n",
    "df['date'].sort_values(ascending=True)"
   ]
  },
  {
   "cell_type": "code",
   "execution_count": 352,
   "metadata": {
    "ExecuteTime": {
     "end_time": "2020-04-21T02:02:42.732545Z",
     "start_time": "2020-04-21T02:02:42.721274Z"
    }
   },
   "outputs": [
    {
     "name": "stdout",
     "output_type": "stream",
     "text": [
      "<class 'pandas.core.frame.DataFrame'>\n",
      "RangeIndex: 21597 entries, 0 to 21596\n",
      "Data columns (total 20 columns):\n",
      "date             21597 non-null datetime64[ns]\n",
      "price            21597 non-null float64\n",
      "bedrooms         21597 non-null int64\n",
      "bathrooms        21597 non-null float64\n",
      "sqft_living      21597 non-null int64\n",
      "sqft_lot         21597 non-null int64\n",
      "floors           21597 non-null float64\n",
      "waterfront       21597 non-null float64\n",
      "view             21597 non-null float64\n",
      "condition        21597 non-null int64\n",
      "grade            21597 non-null int64\n",
      "sqft_above       21597 non-null int64\n",
      "sqft_basement    21597 non-null float64\n",
      "yr_built         21597 non-null int64\n",
      "yr_renovated     21597 non-null float64\n",
      "zipcode          21597 non-null int64\n",
      "lat              21597 non-null float64\n",
      "long             21597 non-null float64\n",
      "sqft_living15    21597 non-null int64\n",
      "sqft_lot15       21597 non-null int64\n",
      "dtypes: datetime64[ns](1), float64(9), int64(10)\n",
      "memory usage: 3.3 MB\n"
     ]
    }
   ],
   "source": [
    "df.info()"
   ]
  },
  {
   "cell_type": "code",
   "execution_count": 353,
   "metadata": {
    "ExecuteTime": {
     "end_time": "2020-04-21T02:02:44.122407Z",
     "start_time": "2020-04-21T02:02:42.734974Z"
    }
   },
   "outputs": [
    {
     "data": {
      "text/plain": [
       "<matplotlib.axes._subplots.AxesSubplot at 0x1c21f55b38>"
      ]
     },
     "execution_count": 353,
     "metadata": {},
     "output_type": "execute_result"
    },
    {
     "data": {
      "text/plain": [
       "Text(0.5, 1.0, 'condition')"
      ]
     },
     "execution_count": 353,
     "metadata": {},
     "output_type": "execute_result"
    },
    {
     "data": {
      "text/plain": [
       "<matplotlib.axes._subplots.AxesSubplot at 0x1c2e0be9b0>"
      ]
     },
     "execution_count": 353,
     "metadata": {},
     "output_type": "execute_result"
    },
    {
     "data": {
      "text/plain": [
       "Text(0.5, 1.0, 'grade')"
      ]
     },
     "execution_count": 353,
     "metadata": {},
     "output_type": "execute_result"
    },
    {
     "data": {
      "text/plain": [
       "<matplotlib.axes._subplots.AxesSubplot at 0x1c31faa748>"
      ]
     },
     "execution_count": 353,
     "metadata": {},
     "output_type": "execute_result"
    },
    {
     "data": {
      "text/plain": [
       "Text(0.5, 1.0, 'view')"
      ]
     },
     "execution_count": 353,
     "metadata": {},
     "output_type": "execute_result"
    },
    {
     "data": {
      "text/plain": [
       "<matplotlib.axes._subplots.AxesSubplot at 0x1c2d3bbe80>"
      ]
     },
     "execution_count": 353,
     "metadata": {},
     "output_type": "execute_result"
    },
    {
     "data": {
      "text/plain": [
       "Text(0.5, 1.0, 'waterfront')"
      ]
     },
     "execution_count": 353,
     "metadata": {},
     "output_type": "execute_result"
    },
    {
     "data": {
      "image/png": "[encoded data removed]",
      "text/plain": [
       "<Figure size 1152x720 with 4 Axes>"
      ]
     },
     "metadata": {
      "needs_background": "light"
     },
     "output_type": "display_data"
    }
   ],
   "source": [
    "### plotting the Caterogical variables\n",
    "fig, axes = plt.subplots(nrows=2, ncols=2, figsize=(16,10), sharey=True)\n",
    "categoricals = ['condition', 'grade', 'view', 'waterfront']\n",
    "for col, ax in zip(categoricals, axes.flatten()):\n",
    "    (df.groupby(col)               # group values together by column of interest\n",
    "         .mean()['price']        # take the mean of the saleprice for each group\n",
    "         .sort_values()              # sort the groups in ascending order\n",
    "         .plot\n",
    "         .bar(ax=ax))                # create a bar graph on the ax\n",
    "    ax.set_title(col)                # Make the title the name of the column\n",
    "fig.tight_layout()"
   ]
  },
  {
   "cell_type": "markdown",
   "metadata": {},
   "source": [
    "### Investigating Collinearity"
   ]
  },
  {
   "cell_type": "code",
   "execution_count": 354,
   "metadata": {
    "ExecuteTime": {
     "end_time": "2020-04-21T02:02:44.255855Z",
     "start_time": "2020-04-21T02:02:44.125635Z"
    }
   },
   "outputs": [
    {
     "data": {
      "text/html": [
       "<div>\n",
       "<style scoped>\n",
       "    .dataframe tbody tr th:only-of-type {\n",
       "        vertical-align: middle;\n",
       "    }\n",
       "\n",
       "    .dataframe tbody tr th {\n",
       "        vertical-align: top;\n",
       "    }\n",
       "\n",
       "    .dataframe thead th {\n",
       "        text-align: right;\n",
       "    }\n",
       "</style>\n",
       "<table border=\"1\" class=\"dataframe\">\n",
       "  <thead>\n",
       "    <tr style=\"text-align: right;\">\n",
       "      <th></th>\n",
       "      <th>bathrooms</th>\n",
       "      <th>sqft_living</th>\n",
       "      <th>sqft_lot</th>\n",
       "      <th>floors</th>\n",
       "      <th>waterfront</th>\n",
       "      <th>view</th>\n",
       "      <th>condition</th>\n",
       "      <th>grade</th>\n",
       "      <th>sqft_above</th>\n",
       "      <th>sqft_basement</th>\n",
       "      <th>yr_built</th>\n",
       "      <th>yr_renovated</th>\n",
       "      <th>zipcode</th>\n",
       "      <th>lat</th>\n",
       "      <th>long</th>\n",
       "      <th>sqft_living15</th>\n",
       "      <th>sqft_lot15</th>\n",
       "    </tr>\n",
       "  </thead>\n",
       "  <tbody>\n",
       "    <tr>\n",
       "      <td>bathrooms</td>\n",
       "      <td>1.000000</td>\n",
       "      <td>0.755758</td>\n",
       "      <td>0.088373</td>\n",
       "      <td>0.502582</td>\n",
       "      <td>0.063629</td>\n",
       "      <td>0.186016</td>\n",
       "      <td>-0.126479</td>\n",
       "      <td>0.665838</td>\n",
       "      <td>0.686668</td>\n",
       "      <td>0.278485</td>\n",
       "      <td>0.507173</td>\n",
       "      <td>0.047177</td>\n",
       "      <td>-0.204786</td>\n",
       "      <td>0.024280</td>\n",
       "      <td>0.224903</td>\n",
       "      <td>0.569884</td>\n",
       "      <td>0.088303</td>\n",
       "    </tr>\n",
       "    <tr>\n",
       "      <td>sqft_living</td>\n",
       "      <td>0.755758</td>\n",
       "      <td>1.000000</td>\n",
       "      <td>0.173453</td>\n",
       "      <td>0.353953</td>\n",
       "      <td>0.104637</td>\n",
       "      <td>0.281715</td>\n",
       "      <td>-0.059445</td>\n",
       "      <td>0.762779</td>\n",
       "      <td>0.876448</td>\n",
       "      <td>0.428660</td>\n",
       "      <td>0.318152</td>\n",
       "      <td>0.051060</td>\n",
       "      <td>-0.199802</td>\n",
       "      <td>0.052155</td>\n",
       "      <td>0.241214</td>\n",
       "      <td>0.756402</td>\n",
       "      <td>0.184342</td>\n",
       "    </tr>\n",
       "    <tr>\n",
       "      <td>sqft_lot</td>\n",
       "      <td>0.088373</td>\n",
       "      <td>0.173453</td>\n",
       "      <td>1.000000</td>\n",
       "      <td>-0.004814</td>\n",
       "      <td>0.021459</td>\n",
       "      <td>0.075054</td>\n",
       "      <td>-0.008830</td>\n",
       "      <td>0.114731</td>\n",
       "      <td>0.184139</td>\n",
       "      <td>0.015031</td>\n",
       "      <td>0.052946</td>\n",
       "      <td>0.004979</td>\n",
       "      <td>-0.129586</td>\n",
       "      <td>-0.085514</td>\n",
       "      <td>0.230227</td>\n",
       "      <td>0.144763</td>\n",
       "      <td>0.718204</td>\n",
       "    </tr>\n",
       "    <tr>\n",
       "      <td>floors</td>\n",
       "      <td>0.502582</td>\n",
       "      <td>0.353953</td>\n",
       "      <td>-0.004814</td>\n",
       "      <td>1.000000</td>\n",
       "      <td>0.020797</td>\n",
       "      <td>0.028414</td>\n",
       "      <td>-0.264075</td>\n",
       "      <td>0.458794</td>\n",
       "      <td>0.523989</td>\n",
       "      <td>-0.241866</td>\n",
       "      <td>0.489193</td>\n",
       "      <td>0.003793</td>\n",
       "      <td>-0.059541</td>\n",
       "      <td>0.049239</td>\n",
       "      <td>0.125943</td>\n",
       "      <td>0.280102</td>\n",
       "      <td>-0.010722</td>\n",
       "    </tr>\n",
       "    <tr>\n",
       "      <td>waterfront</td>\n",
       "      <td>0.063629</td>\n",
       "      <td>0.104637</td>\n",
       "      <td>0.021459</td>\n",
       "      <td>0.020797</td>\n",
       "      <td>1.000000</td>\n",
       "      <td>0.380543</td>\n",
       "      <td>0.016648</td>\n",
       "      <td>0.082818</td>\n",
       "      <td>0.071778</td>\n",
       "      <td>0.083050</td>\n",
       "      <td>-0.024487</td>\n",
       "      <td>0.073939</td>\n",
       "      <td>0.028923</td>\n",
       "      <td>-0.012157</td>\n",
       "      <td>-0.037628</td>\n",
       "      <td>0.083823</td>\n",
       "      <td>0.030658</td>\n",
       "    </tr>\n",
       "    <tr>\n",
       "      <td>view</td>\n",
       "      <td>0.186016</td>\n",
       "      <td>0.281715</td>\n",
       "      <td>0.075054</td>\n",
       "      <td>0.028414</td>\n",
       "      <td>0.380543</td>\n",
       "      <td>1.000000</td>\n",
       "      <td>0.045622</td>\n",
       "      <td>0.249082</td>\n",
       "      <td>0.166017</td>\n",
       "      <td>0.270629</td>\n",
       "      <td>-0.054452</td>\n",
       "      <td>0.090339</td>\n",
       "      <td>0.085059</td>\n",
       "      <td>0.006321</td>\n",
       "      <td>-0.077702</td>\n",
       "      <td>0.278928</td>\n",
       "      <td>0.073083</td>\n",
       "    </tr>\n",
       "    <tr>\n",
       "      <td>condition</td>\n",
       "      <td>-0.126479</td>\n",
       "      <td>-0.059445</td>\n",
       "      <td>-0.008830</td>\n",
       "      <td>-0.264075</td>\n",
       "      <td>0.016648</td>\n",
       "      <td>0.045622</td>\n",
       "      <td>1.000000</td>\n",
       "      <td>-0.146896</td>\n",
       "      <td>-0.158904</td>\n",
       "      <td>0.168482</td>\n",
       "      <td>-0.361592</td>\n",
       "      <td>-0.055808</td>\n",
       "      <td>0.002888</td>\n",
       "      <td>-0.015102</td>\n",
       "      <td>-0.105877</td>\n",
       "      <td>-0.093072</td>\n",
       "      <td>-0.003126</td>\n",
       "    </tr>\n",
       "    <tr>\n",
       "      <td>grade</td>\n",
       "      <td>0.665838</td>\n",
       "      <td>0.762779</td>\n",
       "      <td>0.114731</td>\n",
       "      <td>0.458794</td>\n",
       "      <td>0.082818</td>\n",
       "      <td>0.249082</td>\n",
       "      <td>-0.146896</td>\n",
       "      <td>1.000000</td>\n",
       "      <td>0.756073</td>\n",
       "      <td>0.165843</td>\n",
       "      <td>0.447865</td>\n",
       "      <td>0.015623</td>\n",
       "      <td>-0.185771</td>\n",
       "      <td>0.113575</td>\n",
       "      <td>0.200341</td>\n",
       "      <td>0.713867</td>\n",
       "      <td>0.120981</td>\n",
       "    </tr>\n",
       "    <tr>\n",
       "      <td>sqft_above</td>\n",
       "      <td>0.686668</td>\n",
       "      <td>0.876448</td>\n",
       "      <td>0.184139</td>\n",
       "      <td>0.523989</td>\n",
       "      <td>0.071778</td>\n",
       "      <td>0.166017</td>\n",
       "      <td>-0.158904</td>\n",
       "      <td>0.756073</td>\n",
       "      <td>1.000000</td>\n",
       "      <td>-0.051175</td>\n",
       "      <td>0.424037</td>\n",
       "      <td>0.020645</td>\n",
       "      <td>-0.261570</td>\n",
       "      <td>-0.001199</td>\n",
       "      <td>0.344842</td>\n",
       "      <td>0.731767</td>\n",
       "      <td>0.195077</td>\n",
       "    </tr>\n",
       "    <tr>\n",
       "      <td>sqft_basement</td>\n",
       "      <td>0.278485</td>\n",
       "      <td>0.428660</td>\n",
       "      <td>0.015031</td>\n",
       "      <td>-0.241866</td>\n",
       "      <td>0.083050</td>\n",
       "      <td>0.270629</td>\n",
       "      <td>0.168482</td>\n",
       "      <td>0.165843</td>\n",
       "      <td>-0.051175</td>\n",
       "      <td>1.000000</td>\n",
       "      <td>-0.130085</td>\n",
       "      <td>0.065008</td>\n",
       "      <td>0.073271</td>\n",
       "      <td>0.109853</td>\n",
       "      <td>-0.142369</td>\n",
       "      <td>0.199288</td>\n",
       "      <td>0.015885</td>\n",
       "    </tr>\n",
       "    <tr>\n",
       "      <td>yr_built</td>\n",
       "      <td>0.507173</td>\n",
       "      <td>0.318152</td>\n",
       "      <td>0.052946</td>\n",
       "      <td>0.489193</td>\n",
       "      <td>-0.024487</td>\n",
       "      <td>-0.054452</td>\n",
       "      <td>-0.361592</td>\n",
       "      <td>0.447865</td>\n",
       "      <td>0.424037</td>\n",
       "      <td>-0.130085</td>\n",
       "      <td>1.000000</td>\n",
       "      <td>-0.202555</td>\n",
       "      <td>-0.347210</td>\n",
       "      <td>-0.148370</td>\n",
       "      <td>0.409993</td>\n",
       "      <td>0.326377</td>\n",
       "      <td>0.070777</td>\n",
       "    </tr>\n",
       "    <tr>\n",
       "      <td>yr_renovated</td>\n",
       "      <td>0.047177</td>\n",
       "      <td>0.051060</td>\n",
       "      <td>0.004979</td>\n",
       "      <td>0.003793</td>\n",
       "      <td>0.073939</td>\n",
       "      <td>0.090339</td>\n",
       "      <td>-0.055808</td>\n",
       "      <td>0.015623</td>\n",
       "      <td>0.020645</td>\n",
       "      <td>0.065008</td>\n",
       "      <td>-0.202555</td>\n",
       "      <td>1.000000</td>\n",
       "      <td>0.062397</td>\n",
       "      <td>0.027970</td>\n",
       "      <td>-0.064543</td>\n",
       "      <td>0.000683</td>\n",
       "      <td>0.004286</td>\n",
       "    </tr>\n",
       "    <tr>\n",
       "      <td>zipcode</td>\n",
       "      <td>-0.204786</td>\n",
       "      <td>-0.199802</td>\n",
       "      <td>-0.129586</td>\n",
       "      <td>-0.059541</td>\n",
       "      <td>0.028923</td>\n",
       "      <td>0.085059</td>\n",
       "      <td>0.002888</td>\n",
       "      <td>-0.185771</td>\n",
       "      <td>-0.261570</td>\n",
       "      <td>0.073271</td>\n",
       "      <td>-0.347210</td>\n",
       "      <td>0.062397</td>\n",
       "      <td>1.000000</td>\n",
       "      <td>0.266742</td>\n",
       "      <td>-0.564259</td>\n",
       "      <td>-0.279299</td>\n",
       "      <td>-0.147294</td>\n",
       "    </tr>\n",
       "    <tr>\n",
       "      <td>lat</td>\n",
       "      <td>0.024280</td>\n",
       "      <td>0.052155</td>\n",
       "      <td>-0.085514</td>\n",
       "      <td>0.049239</td>\n",
       "      <td>-0.012157</td>\n",
       "      <td>0.006321</td>\n",
       "      <td>-0.015102</td>\n",
       "      <td>0.113575</td>\n",
       "      <td>-0.001199</td>\n",
       "      <td>0.109853</td>\n",
       "      <td>-0.148370</td>\n",
       "      <td>0.027970</td>\n",
       "      <td>0.266742</td>\n",
       "      <td>1.000000</td>\n",
       "      <td>-0.135371</td>\n",
       "      <td>0.048679</td>\n",
       "      <td>-0.086139</td>\n",
       "    </tr>\n",
       "    <tr>\n",
       "      <td>long</td>\n",
       "      <td>0.224903</td>\n",
       "      <td>0.241214</td>\n",
       "      <td>0.230227</td>\n",
       "      <td>0.125943</td>\n",
       "      <td>-0.037628</td>\n",
       "      <td>-0.077702</td>\n",
       "      <td>-0.105877</td>\n",
       "      <td>0.200341</td>\n",
       "      <td>0.344842</td>\n",
       "      <td>-0.142369</td>\n",
       "      <td>0.409993</td>\n",
       "      <td>-0.064543</td>\n",
       "      <td>-0.564259</td>\n",
       "      <td>-0.135371</td>\n",
       "      <td>1.000000</td>\n",
       "      <td>0.335626</td>\n",
       "      <td>0.255586</td>\n",
       "    </tr>\n",
       "    <tr>\n",
       "      <td>sqft_living15</td>\n",
       "      <td>0.569884</td>\n",
       "      <td>0.756402</td>\n",
       "      <td>0.144763</td>\n",
       "      <td>0.280102</td>\n",
       "      <td>0.083823</td>\n",
       "      <td>0.278928</td>\n",
       "      <td>-0.093072</td>\n",
       "      <td>0.713867</td>\n",
       "      <td>0.731767</td>\n",
       "      <td>0.199288</td>\n",
       "      <td>0.326377</td>\n",
       "      <td>0.000683</td>\n",
       "      <td>-0.279299</td>\n",
       "      <td>0.048679</td>\n",
       "      <td>0.335626</td>\n",
       "      <td>1.000000</td>\n",
       "      <td>0.183515</td>\n",
       "    </tr>\n",
       "    <tr>\n",
       "      <td>sqft_lot15</td>\n",
       "      <td>0.088303</td>\n",
       "      <td>0.184342</td>\n",
       "      <td>0.718204</td>\n",
       "      <td>-0.010722</td>\n",
       "      <td>0.030658</td>\n",
       "      <td>0.073083</td>\n",
       "      <td>-0.003126</td>\n",
       "      <td>0.120981</td>\n",
       "      <td>0.195077</td>\n",
       "      <td>0.015885</td>\n",
       "      <td>0.070777</td>\n",
       "      <td>0.004286</td>\n",
       "      <td>-0.147294</td>\n",
       "      <td>-0.086139</td>\n",
       "      <td>0.255586</td>\n",
       "      <td>0.183515</td>\n",
       "      <td>1.000000</td>\n",
       "    </tr>\n",
       "  </tbody>\n",
       "</table>\n",
       "</div>"
      ],
      "text/plain": [
       "               bathrooms  sqft_living  sqft_lot    floors  waterfront  \\\n",
       "bathrooms       1.000000     0.755758  0.088373  0.502582    0.063629   \n",
       "sqft_living     0.755758     1.000000  0.173453  0.353953    0.104637   \n",
       "sqft_lot        0.088373     0.173453  1.000000 -0.004814    0.021459   \n",
       "floors          0.502582     0.353953 -0.004814  1.000000    0.020797   \n",
       "waterfront      0.063629     0.104637  0.021459  0.020797    1.000000   \n",
       "view            0.186016     0.281715  0.075054  0.028414    0.380543   \n",
       "condition      -0.126479    -0.059445 -0.008830 -0.264075    0.016648   \n",
       "grade           0.665838     0.762779  0.114731  0.458794    0.082818   \n",
       "sqft_above      0.686668     0.876448  0.184139  0.523989    0.071778   \n",
       "sqft_basement   0.278485     0.428660  0.015031 -0.241866    0.083050   \n",
       "yr_built        0.507173     0.318152  0.052946  0.489193   -0.024487   \n",
       "yr_renovated    0.047177     0.051060  0.004979  0.003793    0.073939   \n",
       "zipcode        -0.204786    -0.199802 -0.129586 -0.059541    0.028923   \n",
       "lat             0.024280     0.052155 -0.085514  0.049239   -0.012157   \n",
       "long            0.224903     0.241214  0.230227  0.125943   -0.037628   \n",
       "sqft_living15   0.569884     0.756402  0.144763  0.280102    0.083823   \n",
       "sqft_lot15      0.088303     0.184342  0.718204 -0.010722    0.030658   \n",
       "\n",
       "                   view  condition     grade  sqft_above  sqft_basement  \\\n",
       "bathrooms      0.186016  -0.126479  0.665838    0.686668       0.278485   \n",
       "sqft_living    0.281715  -0.059445  0.762779    0.876448       0.428660   \n",
       "sqft_lot       0.075054  -0.008830  0.114731    0.184139       0.015031   \n",
       "floors         0.028414  -0.264075  0.458794    0.523989      -0.241866   \n",
       "waterfront     0.380543   0.016648  0.082818    0.071778       0.083050   \n",
       "view           1.000000   0.045622  0.249082    0.166017       0.270629   \n",
       "condition      0.045622   1.000000 -0.146896   -0.158904       0.168482   \n",
       "grade          0.249082  -0.146896  1.000000    0.756073       0.165843   \n",
       "sqft_above     0.166017  -0.158904  0.756073    1.000000      -0.051175   \n",
       "sqft_basement  0.270629   0.168482  0.165843   -0.051175       1.000000   \n",
       "yr_built      -0.054452  -0.361592  0.447865    0.424037      -0.130085   \n",
       "yr_renovated   0.090339  -0.055808  0.015623    0.020645       0.065008   \n",
       "zipcode        0.085059   0.002888 -0.185771   -0.261570       0.073271   \n",
       "lat            0.006321  -0.015102  0.113575   -0.001199       0.109853   \n",
       "long          -0.077702  -0.105877  0.200341    0.344842      -0.142369   \n",
       "sqft_living15  0.278928  -0.093072  0.713867    0.731767       0.199288   \n",
       "sqft_lot15     0.073083  -0.003126  0.120981    0.195077       0.015885   \n",
       "\n",
       "               yr_built  yr_renovated   zipcode       lat      long  \\\n",
       "bathrooms      0.507173      0.047177 -0.204786  0.024280  0.224903   \n",
       "sqft_living    0.318152      0.051060 -0.199802  0.052155  0.241214   \n",
       "sqft_lot       0.052946      0.004979 -0.129586 -0.085514  0.230227   \n",
       "floors         0.489193      0.003793 -0.059541  0.049239  0.125943   \n",
       "waterfront    -0.024487      0.073939  0.028923 -0.012157 -0.037628   \n",
       "view          -0.054452      0.090339  0.085059  0.006321 -0.077702   \n",
       "condition     -0.361592     -0.055808  0.002888 -0.015102 -0.105877   \n",
       "grade          0.447865      0.015623 -0.185771  0.113575  0.200341   \n",
       "sqft_above     0.424037      0.020645 -0.261570 -0.001199  0.344842   \n",
       "sqft_basement -0.130085      0.065008  0.073271  0.109853 -0.142369   \n",
       "yr_built       1.000000     -0.202555 -0.347210 -0.148370  0.409993   \n",
       "yr_renovated  -0.202555      1.000000  0.062397  0.027970 -0.064543   \n",
       "zipcode       -0.347210      0.062397  1.000000  0.266742 -0.564259   \n",
       "lat           -0.148370      0.027970  0.266742  1.000000 -0.135371   \n",
       "long           0.409993     -0.064543 -0.564259 -0.135371  1.000000   \n",
       "sqft_living15  0.326377      0.000683 -0.279299  0.048679  0.335626   \n",
       "sqft_lot15     0.070777      0.004286 -0.147294 -0.086139  0.255586   \n",
       "\n",
       "               sqft_living15  sqft_lot15  \n",
       "bathrooms           0.569884    0.088303  \n",
       "sqft_living         0.756402    0.184342  \n",
       "sqft_lot            0.144763    0.718204  \n",
       "floors              0.280102   -0.010722  \n",
       "waterfront          0.083823    0.030658  \n",
       "view                0.278928    0.073083  \n",
       "condition          -0.093072   -0.003126  \n",
       "grade               0.713867    0.120981  \n",
       "sqft_above          0.731767    0.195077  \n",
       "sqft_basement       0.199288    0.015885  \n",
       "yr_built            0.326377    0.070777  \n",
       "yr_renovated        0.000683    0.004286  \n",
       "zipcode            -0.279299   -0.147294  \n",
       "lat                 0.048679   -0.086139  \n",
       "long                0.335626    0.255586  \n",
       "sqft_living15       1.000000    0.183515  \n",
       "sqft_lot15          0.183515    1.000000  "
      ]
     },
     "execution_count": 354,
     "metadata": {},
     "output_type": "execute_result"
    },
    {
     "data": {
      "text/html": [
       "<div>\n",
       "<style scoped>\n",
       "    .dataframe tbody tr th:only-of-type {\n",
       "        vertical-align: middle;\n",
       "    }\n",
       "\n",
       "    .dataframe tbody tr th {\n",
       "        vertical-align: top;\n",
       "    }\n",
       "\n",
       "    .dataframe thead th {\n",
       "        text-align: right;\n",
       "    }\n",
       "</style>\n",
       "<table border=\"1\" class=\"dataframe\">\n",
       "  <thead>\n",
       "    <tr style=\"text-align: right;\">\n",
       "      <th></th>\n",
       "      <th>price</th>\n",
       "      <th>bedrooms</th>\n",
       "      <th>bathrooms</th>\n",
       "      <th>sqft_living</th>\n",
       "      <th>sqft_lot</th>\n",
       "      <th>floors</th>\n",
       "      <th>waterfront</th>\n",
       "      <th>view</th>\n",
       "      <th>condition</th>\n",
       "      <th>grade</th>\n",
       "      <th>sqft_above</th>\n",
       "      <th>sqft_basement</th>\n",
       "      <th>yr_built</th>\n",
       "      <th>yr_renovated</th>\n",
       "      <th>zipcode</th>\n",
       "      <th>lat</th>\n",
       "      <th>long</th>\n",
       "      <th>sqft_living15</th>\n",
       "      <th>sqft_lot15</th>\n",
       "    </tr>\n",
       "  </thead>\n",
       "  <tbody>\n",
       "    <tr>\n",
       "      <td>price</td>\n",
       "      <td>True</td>\n",
       "      <td>False</td>\n",
       "      <td>False</td>\n",
       "      <td>False</td>\n",
       "      <td>False</td>\n",
       "      <td>False</td>\n",
       "      <td>False</td>\n",
       "      <td>False</td>\n",
       "      <td>False</td>\n",
       "      <td>False</td>\n",
       "      <td>False</td>\n",
       "      <td>False</td>\n",
       "      <td>False</td>\n",
       "      <td>False</td>\n",
       "      <td>False</td>\n",
       "      <td>False</td>\n",
       "      <td>False</td>\n",
       "      <td>False</td>\n",
       "      <td>False</td>\n",
       "    </tr>\n",
       "    <tr>\n",
       "      <td>bedrooms</td>\n",
       "      <td>False</td>\n",
       "      <td>True</td>\n",
       "      <td>False</td>\n",
       "      <td>False</td>\n",
       "      <td>False</td>\n",
       "      <td>False</td>\n",
       "      <td>False</td>\n",
       "      <td>False</td>\n",
       "      <td>False</td>\n",
       "      <td>False</td>\n",
       "      <td>False</td>\n",
       "      <td>False</td>\n",
       "      <td>False</td>\n",
       "      <td>False</td>\n",
       "      <td>False</td>\n",
       "      <td>False</td>\n",
       "      <td>False</td>\n",
       "      <td>False</td>\n",
       "      <td>False</td>\n",
       "    </tr>\n",
       "    <tr>\n",
       "      <td>bathrooms</td>\n",
       "      <td>False</td>\n",
       "      <td>False</td>\n",
       "      <td>True</td>\n",
       "      <td>True</td>\n",
       "      <td>False</td>\n",
       "      <td>False</td>\n",
       "      <td>False</td>\n",
       "      <td>False</td>\n",
       "      <td>False</td>\n",
       "      <td>False</td>\n",
       "      <td>False</td>\n",
       "      <td>False</td>\n",
       "      <td>False</td>\n",
       "      <td>False</td>\n",
       "      <td>False</td>\n",
       "      <td>False</td>\n",
       "      <td>False</td>\n",
       "      <td>False</td>\n",
       "      <td>False</td>\n",
       "    </tr>\n",
       "    <tr>\n",
       "      <td>sqft_living</td>\n",
       "      <td>False</td>\n",
       "      <td>False</td>\n",
       "      <td>True</td>\n",
       "      <td>True</td>\n",
       "      <td>False</td>\n",
       "      <td>False</td>\n",
       "      <td>False</td>\n",
       "      <td>False</td>\n",
       "      <td>False</td>\n",
       "      <td>True</td>\n",
       "      <td>True</td>\n",
       "      <td>False</td>\n",
       "      <td>False</td>\n",
       "      <td>False</td>\n",
       "      <td>False</td>\n",
       "      <td>False</td>\n",
       "      <td>False</td>\n",
       "      <td>True</td>\n",
       "      <td>False</td>\n",
       "    </tr>\n",
       "    <tr>\n",
       "      <td>sqft_lot</td>\n",
       "      <td>False</td>\n",
       "      <td>False</td>\n",
       "      <td>False</td>\n",
       "      <td>False</td>\n",
       "      <td>True</td>\n",
       "      <td>False</td>\n",
       "      <td>False</td>\n",
       "      <td>False</td>\n",
       "      <td>False</td>\n",
       "      <td>False</td>\n",
       "      <td>False</td>\n",
       "      <td>False</td>\n",
       "      <td>False</td>\n",
       "      <td>False</td>\n",
       "      <td>False</td>\n",
       "      <td>False</td>\n",
       "      <td>False</td>\n",
       "      <td>False</td>\n",
       "      <td>False</td>\n",
       "    </tr>\n",
       "    <tr>\n",
       "      <td>floors</td>\n",
       "      <td>False</td>\n",
       "      <td>False</td>\n",
       "      <td>False</td>\n",
       "      <td>False</td>\n",
       "      <td>False</td>\n",
       "      <td>True</td>\n",
       "      <td>False</td>\n",
       "      <td>False</td>\n",
       "      <td>False</td>\n",
       "      <td>False</td>\n",
       "      <td>False</td>\n",
       "      <td>False</td>\n",
       "      <td>False</td>\n",
       "      <td>False</td>\n",
       "      <td>False</td>\n",
       "      <td>False</td>\n",
       "      <td>False</td>\n",
       "      <td>False</td>\n",
       "      <td>False</td>\n",
       "    </tr>\n",
       "    <tr>\n",
       "      <td>waterfront</td>\n",
       "      <td>False</td>\n",
       "      <td>False</td>\n",
       "      <td>False</td>\n",
       "      <td>False</td>\n",
       "      <td>False</td>\n",
       "      <td>False</td>\n",
       "      <td>True</td>\n",
       "      <td>False</td>\n",
       "      <td>False</td>\n",
       "      <td>False</td>\n",
       "      <td>False</td>\n",
       "      <td>False</td>\n",
       "      <td>False</td>\n",
       "      <td>False</td>\n",
       "      <td>False</td>\n",
       "      <td>False</td>\n",
       "      <td>False</td>\n",
       "      <td>False</td>\n",
       "      <td>False</td>\n",
       "    </tr>\n",
       "    <tr>\n",
       "      <td>view</td>\n",
       "      <td>False</td>\n",
       "      <td>False</td>\n",
       "      <td>False</td>\n",
       "      <td>False</td>\n",
       "      <td>False</td>\n",
       "      <td>False</td>\n",
       "      <td>False</td>\n",
       "      <td>True</td>\n",
       "      <td>False</td>\n",
       "      <td>False</td>\n",
       "      <td>False</td>\n",
       "      <td>False</td>\n",
       "      <td>False</td>\n",
       "      <td>False</td>\n",
       "      <td>False</td>\n",
       "      <td>False</td>\n",
       "      <td>False</td>\n",
       "      <td>False</td>\n",
       "      <td>False</td>\n",
       "    </tr>\n",
       "    <tr>\n",
       "      <td>condition</td>\n",
       "      <td>False</td>\n",
       "      <td>False</td>\n",
       "      <td>False</td>\n",
       "      <td>False</td>\n",
       "      <td>False</td>\n",
       "      <td>False</td>\n",
       "      <td>False</td>\n",
       "      <td>False</td>\n",
       "      <td>True</td>\n",
       "      <td>False</td>\n",
       "      <td>False</td>\n",
       "      <td>False</td>\n",
       "      <td>False</td>\n",
       "      <td>False</td>\n",
       "      <td>False</td>\n",
       "      <td>False</td>\n",
       "      <td>False</td>\n",
       "      <td>False</td>\n",
       "      <td>False</td>\n",
       "    </tr>\n",
       "    <tr>\n",
       "      <td>grade</td>\n",
       "      <td>False</td>\n",
       "      <td>False</td>\n",
       "      <td>False</td>\n",
       "      <td>True</td>\n",
       "      <td>False</td>\n",
       "      <td>False</td>\n",
       "      <td>False</td>\n",
       "      <td>False</td>\n",
       "      <td>False</td>\n",
       "      <td>True</td>\n",
       "      <td>True</td>\n",
       "      <td>False</td>\n",
       "      <td>False</td>\n",
       "      <td>False</td>\n",
       "      <td>False</td>\n",
       "      <td>False</td>\n",
       "      <td>False</td>\n",
       "      <td>False</td>\n",
       "      <td>False</td>\n",
       "    </tr>\n",
       "    <tr>\n",
       "      <td>sqft_above</td>\n",
       "      <td>False</td>\n",
       "      <td>False</td>\n",
       "      <td>False</td>\n",
       "      <td>True</td>\n",
       "      <td>False</td>\n",
       "      <td>False</td>\n",
       "      <td>False</td>\n",
       "      <td>False</td>\n",
       "      <td>False</td>\n",
       "      <td>True</td>\n",
       "      <td>True</td>\n",
       "      <td>False</td>\n",
       "      <td>False</td>\n",
       "      <td>False</td>\n",
       "      <td>False</td>\n",
       "      <td>False</td>\n",
       "      <td>False</td>\n",
       "      <td>False</td>\n",
       "      <td>False</td>\n",
       "    </tr>\n",
       "    <tr>\n",
       "      <td>sqft_basement</td>\n",
       "      <td>False</td>\n",
       "      <td>False</td>\n",
       "      <td>False</td>\n",
       "      <td>False</td>\n",
       "      <td>False</td>\n",
       "      <td>False</td>\n",
       "      <td>False</td>\n",
       "      <td>False</td>\n",
       "      <td>False</td>\n",
       "      <td>False</td>\n",
       "      <td>False</td>\n",
       "      <td>True</td>\n",
       "      <td>False</td>\n",
       "      <td>False</td>\n",
       "      <td>False</td>\n",
       "      <td>False</td>\n",
       "      <td>False</td>\n",
       "      <td>False</td>\n",
       "      <td>False</td>\n",
       "    </tr>\n",
       "    <tr>\n",
       "      <td>yr_built</td>\n",
       "      <td>False</td>\n",
       "      <td>False</td>\n",
       "      <td>False</td>\n",
       "      <td>False</td>\n",
       "      <td>False</td>\n",
       "      <td>False</td>\n",
       "      <td>False</td>\n",
       "      <td>False</td>\n",
       "      <td>False</td>\n",
       "      <td>False</td>\n",
       "      <td>False</td>\n",
       "      <td>False</td>\n",
       "      <td>True</td>\n",
       "      <td>False</td>\n",
       "      <td>False</td>\n",
       "      <td>False</td>\n",
       "      <td>False</td>\n",
       "      <td>False</td>\n",
       "      <td>False</td>\n",
       "    </tr>\n",
       "    <tr>\n",
       "      <td>yr_renovated</td>\n",
       "      <td>False</td>\n",
       "      <td>False</td>\n",
       "      <td>False</td>\n",
       "      <td>False</td>\n",
       "      <td>False</td>\n",
       "      <td>False</td>\n",
       "      <td>False</td>\n",
       "      <td>False</td>\n",
       "      <td>False</td>\n",
       "      <td>False</td>\n",
       "      <td>False</td>\n",
       "      <td>False</td>\n",
       "      <td>False</td>\n",
       "      <td>True</td>\n",
       "      <td>False</td>\n",
       "      <td>False</td>\n",
       "      <td>False</td>\n",
       "      <td>False</td>\n",
       "      <td>False</td>\n",
       "    </tr>\n",
       "    <tr>\n",
       "      <td>zipcode</td>\n",
       "      <td>False</td>\n",
       "      <td>False</td>\n",
       "      <td>False</td>\n",
       "      <td>False</td>\n",
       "      <td>False</td>\n",
       "      <td>False</td>\n",
       "      <td>False</td>\n",
       "      <td>False</td>\n",
       "      <td>False</td>\n",
       "      <td>False</td>\n",
       "      <td>False</td>\n",
       "      <td>False</td>\n",
       "      <td>False</td>\n",
       "      <td>False</td>\n",
       "      <td>True</td>\n",
       "      <td>False</td>\n",
       "      <td>False</td>\n",
       "      <td>False</td>\n",
       "      <td>False</td>\n",
       "    </tr>\n",
       "    <tr>\n",
       "      <td>lat</td>\n",
       "      <td>False</td>\n",
       "      <td>False</td>\n",
       "      <td>False</td>\n",
       "      <td>False</td>\n",
       "      <td>False</td>\n",
       "      <td>False</td>\n",
       "      <td>False</td>\n",
       "      <td>False</td>\n",
       "      <td>False</td>\n",
       "      <td>False</td>\n",
       "      <td>False</td>\n",
       "      <td>False</td>\n",
       "      <td>False</td>\n",
       "      <td>False</td>\n",
       "      <td>False</td>\n",
       "      <td>True</td>\n",
       "      <td>False</td>\n",
       "      <td>False</td>\n",
       "      <td>False</td>\n",
       "    </tr>\n",
       "    <tr>\n",
       "      <td>long</td>\n",
       "      <td>False</td>\n",
       "      <td>False</td>\n",
       "      <td>False</td>\n",
       "      <td>False</td>\n",
       "      <td>False</td>\n",
       "      <td>False</td>\n",
       "      <td>False</td>\n",
       "      <td>False</td>\n",
       "      <td>False</td>\n",
       "      <td>False</td>\n",
       "      <td>False</td>\n",
       "      <td>False</td>\n",
       "      <td>False</td>\n",
       "      <td>False</td>\n",
       "      <td>False</td>\n",
       "      <td>False</td>\n",
       "      <td>True</td>\n",
       "      <td>False</td>\n",
       "      <td>False</td>\n",
       "    </tr>\n",
       "    <tr>\n",
       "      <td>sqft_living15</td>\n",
       "      <td>False</td>\n",
       "      <td>False</td>\n",
       "      <td>False</td>\n",
       "      <td>True</td>\n",
       "      <td>False</td>\n",
       "      <td>False</td>\n",
       "      <td>False</td>\n",
       "      <td>False</td>\n",
       "      <td>False</td>\n",
       "      <td>False</td>\n",
       "      <td>False</td>\n",
       "      <td>False</td>\n",
       "      <td>False</td>\n",
       "      <td>False</td>\n",
       "      <td>False</td>\n",
       "      <td>False</td>\n",
       "      <td>False</td>\n",
       "      <td>True</td>\n",
       "      <td>False</td>\n",
       "    </tr>\n",
       "    <tr>\n",
       "      <td>sqft_lot15</td>\n",
       "      <td>False</td>\n",
       "      <td>False</td>\n",
       "      <td>False</td>\n",
       "      <td>False</td>\n",
       "      <td>False</td>\n",
       "      <td>False</td>\n",
       "      <td>False</td>\n",
       "      <td>False</td>\n",
       "      <td>False</td>\n",
       "      <td>False</td>\n",
       "      <td>False</td>\n",
       "      <td>False</td>\n",
       "      <td>False</td>\n",
       "      <td>False</td>\n",
       "      <td>False</td>\n",
       "      <td>False</td>\n",
       "      <td>False</td>\n",
       "      <td>False</td>\n",
       "      <td>True</td>\n",
       "    </tr>\n",
       "  </tbody>\n",
       "</table>\n",
       "</div>"
      ],
      "text/plain": [
       "               price  bedrooms  bathrooms  sqft_living  sqft_lot  floors  \\\n",
       "price           True     False      False        False     False   False   \n",
       "bedrooms       False      True      False        False     False   False   \n",
       "bathrooms      False     False       True         True     False   False   \n",
       "sqft_living    False     False       True         True     False   False   \n",
       "sqft_lot       False     False      False        False      True   False   \n",
       "floors         False     False      False        False     False    True   \n",
       "waterfront     False     False      False        False     False   False   \n",
       "view           False     False      False        False     False   False   \n",
       "condition      False     False      False        False     False   False   \n",
       "grade          False     False      False         True     False   False   \n",
       "sqft_above     False     False      False         True     False   False   \n",
       "sqft_basement  False     False      False        False     False   False   \n",
       "yr_built       False     False      False        False     False   False   \n",
       "yr_renovated   False     False      False        False     False   False   \n",
       "zipcode        False     False      False        False     False   False   \n",
       "lat            False     False      False        False     False   False   \n",
       "long           False     False      False        False     False   False   \n",
       "sqft_living15  False     False      False         True     False   False   \n",
       "sqft_lot15     False     False      False        False     False   False   \n",
       "\n",
       "               waterfront   view  condition  grade  sqft_above  sqft_basement  \\\n",
       "price               False  False      False  False       False          False   \n",
       "bedrooms            False  False      False  False       False          False   \n",
       "bathrooms           False  False      False  False       False          False   \n",
       "sqft_living         False  False      False   True        True          False   \n",
       "sqft_lot            False  False      False  False       False          False   \n",
       "floors              False  False      False  False       False          False   \n",
       "waterfront           True  False      False  False       False          False   \n",
       "view                False   True      False  False       False          False   \n",
       "condition           False  False       True  False       False          False   \n",
       "grade               False  False      False   True        True          False   \n",
       "sqft_above          False  False      False   True        True          False   \n",
       "sqft_basement       False  False      False  False       False           True   \n",
       "yr_built            False  False      False  False       False          False   \n",
       "yr_renovated        False  False      False  False       False          False   \n",
       "zipcode             False  False      False  False       False          False   \n",
       "lat                 False  False      False  False       False          False   \n",
       "long                False  False      False  False       False          False   \n",
       "sqft_living15       False  False      False  False       False          False   \n",
       "sqft_lot15          False  False      False  False       False          False   \n",
       "\n",
       "               yr_built  yr_renovated  zipcode    lat   long  sqft_living15  \\\n",
       "price             False         False    False  False  False          False   \n",
       "bedrooms          False         False    False  False  False          False   \n",
       "bathrooms         False         False    False  False  False          False   \n",
       "sqft_living       False         False    False  False  False           True   \n",
       "sqft_lot          False         False    False  False  False          False   \n",
       "floors            False         False    False  False  False          False   \n",
       "waterfront        False         False    False  False  False          False   \n",
       "view              False         False    False  False  False          False   \n",
       "condition         False         False    False  False  False          False   \n",
       "grade             False         False    False  False  False          False   \n",
       "sqft_above        False         False    False  False  False          False   \n",
       "sqft_basement     False         False    False  False  False          False   \n",
       "yr_built           True         False    False  False  False          False   \n",
       "yr_renovated      False          True    False  False  False          False   \n",
       "zipcode           False         False     True  False  False          False   \n",
       "lat               False         False    False   True  False          False   \n",
       "long              False         False    False  False   True          False   \n",
       "sqft_living15     False         False    False  False  False           True   \n",
       "sqft_lot15        False         False    False  False  False          False   \n",
       "\n",
       "               sqft_lot15  \n",
       "price               False  \n",
       "bedrooms            False  \n",
       "bathrooms           False  \n",
       "sqft_living         False  \n",
       "sqft_lot            False  \n",
       "floors              False  \n",
       "waterfront          False  \n",
       "view                False  \n",
       "condition           False  \n",
       "grade               False  \n",
       "sqft_above          False  \n",
       "sqft_basement       False  \n",
       "yr_built            False  \n",
       "yr_renovated        False  \n",
       "zipcode             False  \n",
       "lat                 False  \n",
       "long                False  \n",
       "sqft_living15       False  \n",
       "sqft_lot15           True  "
      ]
     },
     "execution_count": 354,
     "metadata": {},
     "output_type": "execute_result"
    }
   ],
   "source": [
    "#Checking strong colinearity\n",
    "#pearsoncorr = df.iloc[:,3:21].corr(method='pearson')\n",
    "#corrst=pearsoncorr>0.75\n",
    "#corrst\n",
    "pearsoncorr = df.iloc[:,3:21].corr(method='pearson')\n",
    "pearsoncorr\n",
    "corrst=abs(df.corr()) > 0.75\n",
    "corrst"
   ]
  },
  {
   "cell_type": "markdown",
   "metadata": {},
   "source": [
    " ### Testing Collinearity\n",
    "collinearity will cause problem when there are high correlation between independent variables either positive or negative correlation. In my analyses, I focused in variables that have correlation over 0.75"
   ]
  },
  {
   "cell_type": "code",
   "execution_count": 355,
   "metadata": {
    "ExecuteTime": {
     "end_time": "2020-04-21T02:02:45.856704Z",
     "start_time": "2020-04-21T02:02:44.258498Z"
    }
   },
   "outputs": [
    {
     "data": {
      "text/plain": [
       "<matplotlib.axes._subplots.AxesSubplot at 0x1c31a7ee48>"
      ]
     },
     "execution_count": 355,
     "metadata": {},
     "output_type": "execute_result"
    },
    {
     "data": {
      "image/png": "[encoded data removed]",
      "text/plain": [
       "<Figure size 1080x720 with 2 Axes>"
      ]
     },
     "metadata": {
      "needs_background": "light"
     },
     "output_type": "display_data"
    }
   ],
   "source": [
    "ax, fig = plt.subplots(figsize = (15, 10))\n",
    "sns.heatmap(corrst, annot=True, cmap='RdBu')\n",
    "plt.show() #Looks like bathrooms, sqft_living, grade, sqft_above, and sqft_living15\n",
    "           #all have positive relationships to target variable\n"
   ]
  },
  {
   "cell_type": "markdown",
   "metadata": {},
   "source": [
    "The heatmap shows number 1 for any correlated variables over 0.75. Of course every variable is correlated with itself.The sqft_living however is highly correlated with sqft_living 15 and sqft_above,bathrooms,and grade. I think dropping sqft_living is good choice.I will also drop sqft-above and keep grade because it is highly correlated with grade, and grade is better correlated with price.\n",
    "\n"
   ]
  },
  {
   "cell_type": "code",
   "execution_count": 356,
   "metadata": {
    "ExecuteTime": {
     "end_time": "2020-04-21T02:02:45.871277Z",
     "start_time": "2020-04-21T02:02:45.863024Z"
    }
   },
   "outputs": [],
   "source": [
    "## dropping sqft_above,sqft_living\n",
    "df.drop(['sqft_living','sqft_above'], axis=1, inplace=True)\n"
   ]
  },
  {
   "cell_type": "code",
   "execution_count": 357,
   "metadata": {
    "ExecuteTime": {
     "end_time": "2020-04-21T02:02:45.883461Z",
     "start_time": "2020-04-21T02:02:45.876669Z"
    }
   },
   "outputs": [],
   "source": [
    "df.drop(['date'], axis=1, inplace=True)\n"
   ]
  },
  {
   "cell_type": "markdown",
   "metadata": {},
   "source": [
    "### Checking Correlation with the dependent variable\n"
   ]
  },
  {
   "cell_type": "code",
   "execution_count": 358,
   "metadata": {
    "ExecuteTime": {
     "end_time": "2020-04-21T02:02:45.904531Z",
     "start_time": "2020-04-21T02:02:45.885779Z"
    }
   },
   "outputs": [
    {
     "data": {
      "text/plain": [
       "price            1.000000\n",
       "grade            0.667951\n",
       "sqft_living15    0.585241\n",
       "bathrooms        0.525906\n",
       "view             0.393497\n",
       "sqft_basement    0.321108\n",
       "bedrooms         0.308787\n",
       "lat              0.306692\n",
       "waterfront       0.264306\n",
       "floors           0.256804\n",
       "yr_renovated     0.117855\n",
       "sqft_lot         0.089876\n",
       "sqft_lot15       0.082845\n",
       "yr_built         0.053953\n",
       "condition        0.036056\n",
       "long             0.022036\n",
       "zipcode         -0.053402\n",
       "Name: price, dtype: float64"
      ]
     },
     "execution_count": 358,
     "metadata": {},
     "output_type": "execute_result"
    }
   ],
   "source": [
    "df.corr()['price'].sort_values(ascending=False)\n"
   ]
  },
  {
   "cell_type": "markdown",
   "metadata": {},
   "source": [
    "  ### Modeling & Feature Selection\n",
    "Now that I have preprocessed and explored my data, I can now build a model."
   ]
  },
  {
   "cell_type": "code",
   "execution_count": 359,
   "metadata": {
    "ExecuteTime": {
     "end_time": "2020-04-21T02:02:45.918212Z",
     "start_time": "2020-04-21T02:02:45.906619Z"
    }
   },
   "outputs": [
    {
     "name": "stdout",
     "output_type": "stream",
     "text": [
      "<class 'pandas.core.frame.DataFrame'>\n",
      "RangeIndex: 21597 entries, 0 to 21596\n",
      "Data columns (total 17 columns):\n",
      "price            21597 non-null float64\n",
      "bedrooms         21597 non-null int64\n",
      "bathrooms        21597 non-null float64\n",
      "sqft_lot         21597 non-null int64\n",
      "floors           21597 non-null float64\n",
      "waterfront       21597 non-null float64\n",
      "view             21597 non-null float64\n",
      "condition        21597 non-null int64\n",
      "grade            21597 non-null int64\n",
      "sqft_basement    21597 non-null float64\n",
      "yr_built         21597 non-null int64\n",
      "yr_renovated     21597 non-null float64\n",
      "zipcode          21597 non-null int64\n",
      "lat              21597 non-null float64\n",
      "long             21597 non-null float64\n",
      "sqft_living15    21597 non-null int64\n",
      "sqft_lot15       21597 non-null int64\n",
      "dtypes: float64(9), int64(8)\n",
      "memory usage: 2.8 MB\n"
     ]
    }
   ],
   "source": [
    "df.info()"
   ]
  },
  {
   "cell_type": "code",
   "execution_count": 360,
   "metadata": {
    "ExecuteTime": {
     "end_time": "2020-04-21T02:02:46.078019Z",
     "start_time": "2020-04-21T02:02:45.920384Z"
    }
   },
   "outputs": [
    {
     "data": {
      "text/html": [
       "<table class=\"simpletable\">\n",
       "<caption>OLS Regression Results</caption>\n",
       "<tr>\n",
       "  <th>Dep. Variable:</th>          <td>price</td>      <th>  R-squared:         </th>  <td>   0.666</td>  \n",
       "</tr>\n",
       "<tr>\n",
       "  <th>Model:</th>                   <td>OLS</td>       <th>  Adj. R-squared:    </th>  <td>   0.666</td>  \n",
       "</tr>\n",
       "<tr>\n",
       "  <th>Method:</th>             <td>Least Squares</td>  <th>  F-statistic:       </th>  <td>   2695.</td>  \n",
       "</tr>\n",
       "<tr>\n",
       "  <th>Date:</th>             <td>Mon, 20 Apr 2020</td> <th>  Prob (F-statistic):</th>   <td>  0.00</td>   \n",
       "</tr>\n",
       "<tr>\n",
       "  <th>Time:</th>                 <td>22:02:46</td>     <th>  Log-Likelihood:    </th> <td>-2.9553e+05</td>\n",
       "</tr>\n",
       "<tr>\n",
       "  <th>No. Observations:</th>      <td> 21597</td>      <th>  AIC:               </th>  <td>5.911e+05</td> \n",
       "</tr>\n",
       "<tr>\n",
       "  <th>Df Residuals:</th>          <td> 21580</td>      <th>  BIC:               </th>  <td>5.912e+05</td> \n",
       "</tr>\n",
       "<tr>\n",
       "  <th>Df Model:</th>              <td>    16</td>      <th>                     </th>      <td> </td>     \n",
       "</tr>\n",
       "<tr>\n",
       "  <th>Covariance Type:</th>      <td>nonrobust</td>    <th>                     </th>      <td> </td>     \n",
       "</tr>\n",
       "</table>\n",
       "<table class=\"simpletable\">\n",
       "<tr>\n",
       "        <td></td>           <th>coef</th>     <th>std err</th>      <th>t</th>      <th>P>|t|</th>  <th>[0.025</th>    <th>0.975]</th>  \n",
       "</tr>\n",
       "<tr>\n",
       "  <th>Intercept</th>     <td> 1.388e+07</td> <td> 3.08e+06</td> <td>    4.498</td> <td> 0.000</td> <td> 7.83e+06</td> <td> 1.99e+07</td>\n",
       "</tr>\n",
       "<tr>\n",
       "  <th>bedrooms</th>      <td>-6884.8880</td> <td> 1904.024</td> <td>   -3.616</td> <td> 0.000</td> <td>-1.06e+04</td> <td>-3152.861</td>\n",
       "</tr>\n",
       "<tr>\n",
       "  <th>bathrooms</th>     <td> 9.276e+04</td> <td> 3251.514</td> <td>   28.527</td> <td> 0.000</td> <td> 8.64e+04</td> <td> 9.91e+04</td>\n",
       "</tr>\n",
       "<tr>\n",
       "  <th>sqft_lot</th>      <td>    0.2744</td> <td>    0.050</td> <td>    5.441</td> <td> 0.000</td> <td>    0.176</td> <td>    0.373</td>\n",
       "</tr>\n",
       "<tr>\n",
       "  <th>floors</th>        <td> 3.453e+04</td> <td> 3733.685</td> <td>    9.248</td> <td> 0.000</td> <td> 2.72e+04</td> <td> 4.18e+04</td>\n",
       "</tr>\n",
       "<tr>\n",
       "  <th>waterfront</th>    <td> 6.609e+05</td> <td> 1.91e+04</td> <td>   34.600</td> <td> 0.000</td> <td> 6.23e+05</td> <td> 6.98e+05</td>\n",
       "</tr>\n",
       "<tr>\n",
       "  <th>view</th>          <td> 5.173e+04</td> <td> 2236.041</td> <td>   23.134</td> <td> 0.000</td> <td> 4.73e+04</td> <td> 5.61e+04</td>\n",
       "</tr>\n",
       "<tr>\n",
       "  <th>condition</th>     <td> 2.431e+04</td> <td> 2472.491</td> <td>    9.833</td> <td> 0.000</td> <td> 1.95e+04</td> <td> 2.92e+04</td>\n",
       "</tr>\n",
       "<tr>\n",
       "  <th>grade</th>         <td> 1.387e+05</td> <td> 2094.826</td> <td>   66.201</td> <td> 0.000</td> <td> 1.35e+05</td> <td> 1.43e+05</td>\n",
       "</tr>\n",
       "<tr>\n",
       "  <th>sqft_basement</th> <td>   57.6441</td> <td>    4.172</td> <td>   13.817</td> <td> 0.000</td> <td>   49.467</td> <td>   65.822</td>\n",
       "</tr>\n",
       "<tr>\n",
       "  <th>yr_built</th>      <td>-3182.5905</td> <td>   74.938</td> <td>  -42.470</td> <td> 0.000</td> <td>-3329.475</td> <td>-3035.706</td>\n",
       "</tr>\n",
       "<tr>\n",
       "  <th>yr_renovated</th>  <td>   23.0532</td> <td>    4.194</td> <td>    5.497</td> <td> 0.000</td> <td>   14.833</td> <td>   31.274</td>\n",
       "</tr>\n",
       "<tr>\n",
       "  <th>zipcode</th>       <td> -540.7751</td> <td>   34.773</td> <td>  -15.551</td> <td> 0.000</td> <td> -608.934</td> <td> -472.617</td>\n",
       "</tr>\n",
       "<tr>\n",
       "  <th>lat</th>           <td> 5.611e+05</td> <td> 1.13e+04</td> <td>   49.699</td> <td> 0.000</td> <td> 5.39e+05</td> <td> 5.83e+05</td>\n",
       "</tr>\n",
       "<tr>\n",
       "  <th>long</th>          <td>-1.449e+05</td> <td> 1.38e+04</td> <td>  -10.514</td> <td> 0.000</td> <td>-1.72e+05</td> <td>-1.18e+05</td>\n",
       "</tr>\n",
       "<tr>\n",
       "  <th>sqft_living15</th> <td>   89.2170</td> <td>    3.336</td> <td>   26.744</td> <td> 0.000</td> <td>   82.678</td> <td>   95.756</td>\n",
       "</tr>\n",
       "<tr>\n",
       "  <th>sqft_lot15</th>    <td>   -0.1911</td> <td>    0.077</td> <td>   -2.475</td> <td> 0.013</td> <td>   -0.342</td> <td>   -0.040</td>\n",
       "</tr>\n",
       "</table>\n",
       "<table class=\"simpletable\">\n",
       "<tr>\n",
       "  <th>Omnibus:</th>       <td>21160.487</td> <th>  Durbin-Watson:     </th>  <td>   1.980</td>  \n",
       "</tr>\n",
       "<tr>\n",
       "  <th>Prob(Omnibus):</th>  <td> 0.000</td>   <th>  Jarque-Bera (JB):  </th> <td>3441644.219</td>\n",
       "</tr>\n",
       "<tr>\n",
       "  <th>Skew:</th>           <td> 4.374</td>   <th>  Prob(JB):          </th>  <td>    0.00</td>  \n",
       "</tr>\n",
       "<tr>\n",
       "  <th>Kurtosis:</th>       <td>64.221</td>   <th>  Cond. No.          </th>  <td>2.15e+08</td>  \n",
       "</tr>\n",
       "</table><br/><br/>Warnings:<br/>[1] Standard Errors assume that the covariance matrix of the errors is correctly specified.<br/>[2] The condition number is large, 2.15e+08. This might indicate that there are<br/>strong multicollinearity or other numerical problems."
      ],
      "text/plain": [
       "<class 'statsmodels.iolib.summary.Summary'>\n",
       "\"\"\"\n",
       "                            OLS Regression Results                            \n",
       "==============================================================================\n",
       "Dep. Variable:                  price   R-squared:                       0.666\n",
       "Model:                            OLS   Adj. R-squared:                  0.666\n",
       "Method:                 Least Squares   F-statistic:                     2695.\n",
       "Date:                Mon, 20 Apr 2020   Prob (F-statistic):               0.00\n",
       "Time:                        22:02:46   Log-Likelihood:            -2.9553e+05\n",
       "No. Observations:               21597   AIC:                         5.911e+05\n",
       "Df Residuals:                   21580   BIC:                         5.912e+05\n",
       "Df Model:                          16                                         \n",
       "Covariance Type:            nonrobust                                         \n",
       "=================================================================================\n",
       "                    coef    std err          t      P>|t|      [0.025      0.975]\n",
       "---------------------------------------------------------------------------------\n",
       "Intercept      1.388e+07   3.08e+06      4.498      0.000    7.83e+06    1.99e+07\n",
       "bedrooms      -6884.8880   1904.024     -3.616      0.000   -1.06e+04   -3152.861\n",
       "bathrooms      9.276e+04   3251.514     28.527      0.000    8.64e+04    9.91e+04\n",
       "sqft_lot          0.2744      0.050      5.441      0.000       0.176       0.373\n",
       "floors         3.453e+04   3733.685      9.248      0.000    2.72e+04    4.18e+04\n",
       "waterfront     6.609e+05   1.91e+04     34.600      0.000    6.23e+05    6.98e+05\n",
       "view           5.173e+04   2236.041     23.134      0.000    4.73e+04    5.61e+04\n",
       "condition      2.431e+04   2472.491      9.833      0.000    1.95e+04    2.92e+04\n",
       "grade          1.387e+05   2094.826     66.201      0.000    1.35e+05    1.43e+05\n",
       "sqft_basement    57.6441      4.172     13.817      0.000      49.467      65.822\n",
       "yr_built      -3182.5905     74.938    -42.470      0.000   -3329.475   -3035.706\n",
       "yr_renovated     23.0532      4.194      5.497      0.000      14.833      31.274\n",
       "zipcode        -540.7751     34.773    -15.551      0.000    -608.934    -472.617\n",
       "lat            5.611e+05   1.13e+04     49.699      0.000    5.39e+05    5.83e+05\n",
       "long          -1.449e+05   1.38e+04    -10.514      0.000   -1.72e+05   -1.18e+05\n",
       "sqft_living15    89.2170      3.336     26.744      0.000      82.678      95.756\n",
       "sqft_lot15       -0.1911      0.077     -2.475      0.013      -0.342      -0.040\n",
       "==============================================================================\n",
       "Omnibus:                    21160.487   Durbin-Watson:                   1.980\n",
       "Prob(Omnibus):                  0.000   Jarque-Bera (JB):          3441644.219\n",
       "Skew:                           4.374   Prob(JB):                         0.00\n",
       "Kurtosis:                      64.221   Cond. No.                     2.15e+08\n",
       "==============================================================================\n",
       "\n",
       "Warnings:\n",
       "[1] Standard Errors assume that the covariance matrix of the errors is correctly specified.\n",
       "[2] The condition number is large, 2.15e+08. This might indicate that there are\n",
       "strong multicollinearity or other numerical problems.\n",
       "\"\"\""
      ]
     },
     "execution_count": 360,
     "metadata": {},
     "output_type": "execute_result"
    }
   ],
   "source": [
    "from statsmodels.formula.api import ols\n",
    "outcome = 'price'\n",
    "predictors = df.drop('price', axis=1)\n",
    "pred_sum = '+'.join(predictors.columns)\n",
    "formula = outcome + '~' + pred_sum\n",
    "model_1 = ols(formula=formula, data=df).fit()\n",
    "model_1.summary()"
   ]
  },
  {
   "cell_type": "markdown",
   "metadata": {},
   "source": [
    "### Feature Scaling and normalization"
   ]
  },
  {
   "cell_type": "code",
   "execution_count": 361,
   "metadata": {
    "ExecuteTime": {
     "end_time": "2020-04-21T02:02:46.091197Z",
     "start_time": "2020-04-21T02:02:46.080807Z"
    }
   },
   "outputs": [
    {
     "data": {
      "text/plain": [
       "False    21597\n",
       "Name: yr_built, dtype: int64"
      ]
     },
     "execution_count": 361,
     "metadata": {},
     "output_type": "execute_result"
    }
   ],
   "source": [
    "df['yr_built'].isna().value_counts()\n"
   ]
  },
  {
   "cell_type": "code",
   "execution_count": 362,
   "metadata": {
    "ExecuteTime": {
     "end_time": "2020-04-21T02:02:46.119616Z",
     "start_time": "2020-04-21T02:02:46.093667Z"
    }
   },
   "outputs": [],
   "source": [
    "scaled_bed = (df.bedrooms - df.bedrooms.mean()) / df.bedrooms.std()\n",
    "scaled_bath = (df.bathrooms - df.bathrooms.mean()) / df.bathrooms.std()\n",
    "#scaled_living = (df.sqft_living - df.sqft_living.mean()) / df.sqft_living.std()\n",
    "scaled_floors = (df.floors - df.floors.mean()) /df.floors.std()\n",
    "#scaled_sqft_above = (df.sqft_above - df.sqft_above.mean()) / df.sqft_above.std()\n",
    "scaled_built = (df.yr_built - df.yr_built.mean()) / df.yr_built.std()\n",
    "scaled_lat = (df.lat - df.lat.mean()) / df.lat.std()\n",
    "scaled_long = (df.long - df.long.mean()) / df.long.std()\n",
    "scaled_sqft_living15 = (df.sqft_living15 - df.sqft_living15.mean()) / df.sqft_living15.std()\n",
    "scaled_sqft_lot15 = (df.sqft_lot15 - df.sqft_lot15.mean()) / df.sqft_lot15.std()\n",
    "scaled_sqft_lot = (df.sqft_lot - df.sqft_lot.mean()) / df.sqft_lot.std()\n"
   ]
  },
  {
   "cell_type": "markdown",
   "metadata": {},
   "source": [
    " ### Feature selection"
   ]
  },
  {
   "cell_type": "code",
   "execution_count": 363,
   "metadata": {
    "ExecuteTime": {
     "end_time": "2020-04-21T02:02:46.203793Z",
     "start_time": "2020-04-21T02:02:46.122048Z"
    }
   },
   "outputs": [
    {
     "name": "stdout",
     "output_type": "stream",
     "text": [
      "<class 'pandas.core.frame.DataFrame'>\n",
      "RangeIndex: 21597 entries, 0 to 21596\n",
      "Data columns (total 96 columns):\n",
      "price            21597 non-null float64\n",
      "bedrooms         21597 non-null float64\n",
      "bathrooms        21597 non-null float64\n",
      "sqft_lot         21597 non-null float64\n",
      "yr_built         21597 non-null float64\n",
      "sqft_living15    21597 non-null float64\n",
      "sqft_lot15       21597 non-null float64\n",
      "floors           21597 non-null float64\n",
      "grade_4          21597 non-null uint8\n",
      "grade_5          21597 non-null uint8\n",
      "grade_6          21597 non-null uint8\n",
      "grade_7          21597 non-null uint8\n",
      "grade_8          21597 non-null uint8\n",
      "grade_9          21597 non-null uint8\n",
      "grade_10         21597 non-null uint8\n",
      "grade_11         21597 non-null uint8\n",
      "grade_12         21597 non-null uint8\n",
      "grade_13         21597 non-null uint8\n",
      "cond_2           21597 non-null uint8\n",
      "cond_3           21597 non-null uint8\n",
      "cond_4           21597 non-null uint8\n",
      "cond_5           21597 non-null uint8\n",
      "view_1.0         21597 non-null uint8\n",
      "view_2.0         21597 non-null uint8\n",
      "view_3.0         21597 non-null uint8\n",
      "view_4.0         21597 non-null uint8\n",
      "water_1.0        21597 non-null uint8\n",
      "zip_98002        21597 non-null uint8\n",
      "zip_98003        21597 non-null uint8\n",
      "zip_98004        21597 non-null uint8\n",
      "zip_98005        21597 non-null uint8\n",
      "zip_98006        21597 non-null uint8\n",
      "zip_98007        21597 non-null uint8\n",
      "zip_98008        21597 non-null uint8\n",
      "zip_98010        21597 non-null uint8\n",
      "zip_98011        21597 non-null uint8\n",
      "zip_98014        21597 non-null uint8\n",
      "zip_98019        21597 non-null uint8\n",
      "zip_98022        21597 non-null uint8\n",
      "zip_98023        21597 non-null uint8\n",
      "zip_98024        21597 non-null uint8\n",
      "zip_98027        21597 non-null uint8\n",
      "zip_98028        21597 non-null uint8\n",
      "zip_98029        21597 non-null uint8\n",
      "zip_98030        21597 non-null uint8\n",
      "zip_98031        21597 non-null uint8\n",
      "zip_98032        21597 non-null uint8\n",
      "zip_98033        21597 non-null uint8\n",
      "zip_98034        21597 non-null uint8\n",
      "zip_98038        21597 non-null uint8\n",
      "zip_98039        21597 non-null uint8\n",
      "zip_98040        21597 non-null uint8\n",
      "zip_98042        21597 non-null uint8\n",
      "zip_98045        21597 non-null uint8\n",
      "zip_98052        21597 non-null uint8\n",
      "zip_98053        21597 non-null uint8\n",
      "zip_98055        21597 non-null uint8\n",
      "zip_98056        21597 non-null uint8\n",
      "zip_98058        21597 non-null uint8\n",
      "zip_98059        21597 non-null uint8\n",
      "zip_98065        21597 non-null uint8\n",
      "zip_98070        21597 non-null uint8\n",
      "zip_98072        21597 non-null uint8\n",
      "zip_98074        21597 non-null uint8\n",
      "zip_98075        21597 non-null uint8\n",
      "zip_98077        21597 non-null uint8\n",
      "zip_98092        21597 non-null uint8\n",
      "zip_98102        21597 non-null uint8\n",
      "zip_98103        21597 non-null uint8\n",
      "zip_98105        21597 non-null uint8\n",
      "zip_98106        21597 non-null uint8\n",
      "zip_98107        21597 non-null uint8\n",
      "zip_98108        21597 non-null uint8\n",
      "zip_98109        21597 non-null uint8\n",
      "zip_98112        21597 non-null uint8\n",
      "zip_98115        21597 non-null uint8\n",
      "zip_98116        21597 non-null uint8\n",
      "zip_98117        21597 non-null uint8\n",
      "zip_98118        21597 non-null uint8\n",
      "zip_98119        21597 non-null uint8\n",
      "zip_98122        21597 non-null uint8\n",
      "zip_98125        21597 non-null uint8\n",
      "zip_98126        21597 non-null uint8\n",
      "zip_98133        21597 non-null uint8\n",
      "zip_98136        21597 non-null uint8\n",
      "zip_98144        21597 non-null uint8\n",
      "zip_98146        21597 non-null uint8\n",
      "zip_98148        21597 non-null uint8\n",
      "zip_98155        21597 non-null uint8\n",
      "zip_98166        21597 non-null uint8\n",
      "zip_98168        21597 non-null uint8\n",
      "zip_98177        21597 non-null uint8\n",
      "zip_98178        21597 non-null uint8\n",
      "zip_98188        21597 non-null uint8\n",
      "zip_98198        21597 non-null uint8\n",
      "zip_98199        21597 non-null uint8\n",
      "dtypes: float64(8), uint8(88)\n",
      "memory usage: 3.1 MB\n"
     ]
    }
   ],
   "source": [
    "### feature selection\n",
    "data_final = pd.DataFrame([])\n",
    "data_final['bedrooms'] = scaled_bed\n",
    "data_final['bathrooms'] = scaled_bath\n",
    "data_final['sqft_lot'] = scaled_sqft_lot\n",
    "data_final['yr_built'] = scaled_built\n",
    "data_final['sqft_living15'] = scaled_sqft_living15\n",
    "data_final['sqft_lot15'] = scaled_sqft_lot15\n",
    "data_final['floors'] = scaled_floors\n",
    "grade_dummies = pd.get_dummies(df['grade'], prefix='grade', drop_first=True)\n",
    "condition_dummies = pd.get_dummies(df['condition'], prefix='cond', drop_first=True)\n",
    "view_dummies = pd.get_dummies(df['view'], prefix='view', drop_first=True)\n",
    "waterfront_dummies = pd.get_dummies(df['waterfront'], prefix='water', drop_first=True)\n",
    "zipcode_dummies = pd.get_dummies(df['zipcode'], prefix='zip', drop_first=True)\n",
    "sale_price = df['price']\n",
    "data_final = pd.concat([sale_price,data_final, grade_dummies, condition_dummies, view_dummies, waterfront_dummies,zipcode_dummies], axis=1)\n",
    "data_final.info()"
   ]
  },
  {
   "cell_type": "code",
   "execution_count": 364,
   "metadata": {
    "ExecuteTime": {
     "end_time": "2020-04-21T02:02:46.254805Z",
     "start_time": "2020-04-21T02:02:46.210049Z"
    }
   },
   "outputs": [
    {
     "name": "stdout",
     "output_type": "stream",
     "text": [
      "<class 'pandas.core.frame.DataFrame'>\n",
      "RangeIndex: 21597 entries, 0 to 21596\n",
      "Data columns (total 96 columns):\n",
      "price            21597 non-null float64\n",
      "bedrooms         21597 non-null float64\n",
      "bathrooms        21597 non-null float64\n",
      "sqft_lot         21597 non-null float64\n",
      "yr_built         21597 non-null float64\n",
      "sqft_living15    21597 non-null float64\n",
      "sqft_lot15       21597 non-null float64\n",
      "floors           21597 non-null float64\n",
      "grade_4          21597 non-null uint8\n",
      "grade_5          21597 non-null uint8\n",
      "grade_6          21597 non-null uint8\n",
      "grade_7          21597 non-null uint8\n",
      "grade_8          21597 non-null uint8\n",
      "grade_9          21597 non-null uint8\n",
      "grade_10         21597 non-null uint8\n",
      "grade_11         21597 non-null uint8\n",
      "grade_12         21597 non-null uint8\n",
      "grade_13         21597 non-null uint8\n",
      "cond_2           21597 non-null uint8\n",
      "cond_3           21597 non-null uint8\n",
      "cond_4           21597 non-null uint8\n",
      "cond_5           21597 non-null uint8\n",
      "view_1           21597 non-null uint8\n",
      "view_2           21597 non-null uint8\n",
      "view_3           21597 non-null uint8\n",
      "view_4           21597 non-null uint8\n",
      "water_1          21597 non-null uint8\n",
      "zip_98002        21597 non-null uint8\n",
      "zip_98003        21597 non-null uint8\n",
      "zip_98004        21597 non-null uint8\n",
      "zip_98005        21597 non-null uint8\n",
      "zip_98006        21597 non-null uint8\n",
      "zip_98007        21597 non-null uint8\n",
      "zip_98008        21597 non-null uint8\n",
      "zip_98010        21597 non-null uint8\n",
      "zip_98011        21597 non-null uint8\n",
      "zip_98014        21597 non-null uint8\n",
      "zip_98019        21597 non-null uint8\n",
      "zip_98022        21597 non-null uint8\n",
      "zip_98023        21597 non-null uint8\n",
      "zip_98024        21597 non-null uint8\n",
      "zip_98027        21597 non-null uint8\n",
      "zip_98028        21597 non-null uint8\n",
      "zip_98029        21597 non-null uint8\n",
      "zip_98030        21597 non-null uint8\n",
      "zip_98031        21597 non-null uint8\n",
      "zip_98032        21597 non-null uint8\n",
      "zip_98033        21597 non-null uint8\n",
      "zip_98034        21597 non-null uint8\n",
      "zip_98038        21597 non-null uint8\n",
      "zip_98039        21597 non-null uint8\n",
      "zip_98040        21597 non-null uint8\n",
      "zip_98042        21597 non-null uint8\n",
      "zip_98045        21597 non-null uint8\n",
      "zip_98052        21597 non-null uint8\n",
      "zip_98053        21597 non-null uint8\n",
      "zip_98055        21597 non-null uint8\n",
      "zip_98056        21597 non-null uint8\n",
      "zip_98058        21597 non-null uint8\n",
      "zip_98059        21597 non-null uint8\n",
      "zip_98065        21597 non-null uint8\n",
      "zip_98070        21597 non-null uint8\n",
      "zip_98072        21597 non-null uint8\n",
      "zip_98074        21597 non-null uint8\n",
      "zip_98075        21597 non-null uint8\n",
      "zip_98077        21597 non-null uint8\n",
      "zip_98092        21597 non-null uint8\n",
      "zip_98102        21597 non-null uint8\n",
      "zip_98103        21597 non-null uint8\n",
      "zip_98105        21597 non-null uint8\n",
      "zip_98106        21597 non-null uint8\n",
      "zip_98107        21597 non-null uint8\n",
      "zip_98108        21597 non-null uint8\n",
      "zip_98109        21597 non-null uint8\n",
      "zip_98112        21597 non-null uint8\n",
      "zip_98115        21597 non-null uint8\n",
      "zip_98116        21597 non-null uint8\n",
      "zip_98117        21597 non-null uint8\n",
      "zip_98118        21597 non-null uint8\n",
      "zip_98119        21597 non-null uint8\n",
      "zip_98122        21597 non-null uint8\n",
      "zip_98125        21597 non-null uint8\n",
      "zip_98126        21597 non-null uint8\n",
      "zip_98133        21597 non-null uint8\n",
      "zip_98136        21597 non-null uint8\n",
      "zip_98144        21597 non-null uint8\n",
      "zip_98146        21597 non-null uint8\n",
      "zip_98148        21597 non-null uint8\n",
      "zip_98155        21597 non-null uint8\n",
      "zip_98166        21597 non-null uint8\n",
      "zip_98168        21597 non-null uint8\n",
      "zip_98177        21597 non-null uint8\n",
      "zip_98178        21597 non-null uint8\n",
      "zip_98188        21597 non-null uint8\n",
      "zip_98198        21597 non-null uint8\n",
      "zip_98199        21597 non-null uint8\n",
      "dtypes: float64(8), uint8(88)\n",
      "memory usage: 3.1 MB\n"
     ]
    }
   ],
   "source": [
    "data_final=data_final.rename({'view_1.0':'view_1','view_2.0':'view_2','view_3.0':'view_3','view_4.0':'view_4','water_1.0':'water_1'}, axis=1)\n",
    "data_final.info()"
   ]
  },
  {
   "cell_type": "code",
   "execution_count": 365,
   "metadata": {
    "ExecuteTime": {
     "end_time": "2020-04-21T02:02:46.260371Z",
     "start_time": "2020-04-21T02:02:46.257417Z"
    }
   },
   "outputs": [],
   "source": [
    "#['sqft_lot15','floors','grade_4','grade_5','grade_6','grade_7','grade_8','grade_9','grade_10','zip_98002','zip_98003','zip_98022','zip_98030','zip_98031','zip_98032','zip_98042','zip_98055','zip_98058','zip_98070','zip_98092','zip_98168','zip_98178','zip_98188','zip_98198']\n"
   ]
  },
  {
   "cell_type": "code",
   "execution_count": 366,
   "metadata": {
    "ExecuteTime": {
     "end_time": "2020-04-21T02:02:46.944944Z",
     "start_time": "2020-04-21T02:02:46.263680Z"
    }
   },
   "outputs": [
    {
     "data": {
      "text/html": [
       "<table class=\"simpletable\">\n",
       "<caption>OLS Regression Results</caption>\n",
       "<tr>\n",
       "  <th>Dep. Variable:</th>          <td>price</td>      <th>  R-squared:         </th>  <td>   0.808</td>  \n",
       "</tr>\n",
       "<tr>\n",
       "  <th>Model:</th>                   <td>OLS</td>       <th>  Adj. R-squared:    </th>  <td>   0.808</td>  \n",
       "</tr>\n",
       "<tr>\n",
       "  <th>Method:</th>             <td>Least Squares</td>  <th>  F-statistic:       </th>  <td>   955.0</td>  \n",
       "</tr>\n",
       "<tr>\n",
       "  <th>Date:</th>             <td>Mon, 20 Apr 2020</td> <th>  Prob (F-statistic):</th>   <td>  0.00</td>   \n",
       "</tr>\n",
       "<tr>\n",
       "  <th>Time:</th>                 <td>22:02:46</td>     <th>  Log-Likelihood:    </th> <td>-2.8955e+05</td>\n",
       "</tr>\n",
       "<tr>\n",
       "  <th>No. Observations:</th>      <td> 21597</td>      <th>  AIC:               </th>  <td>5.793e+05</td> \n",
       "</tr>\n",
       "<tr>\n",
       "  <th>Df Residuals:</th>          <td> 21501</td>      <th>  BIC:               </th>  <td>5.801e+05</td> \n",
       "</tr>\n",
       "<tr>\n",
       "  <th>Df Model:</th>              <td>    95</td>      <th>                     </th>      <td> </td>     \n",
       "</tr>\n",
       "<tr>\n",
       "  <th>Covariance Type:</th>      <td>nonrobust</td>    <th>                     </th>      <td> </td>     \n",
       "</tr>\n",
       "</table>\n",
       "<table class=\"simpletable\">\n",
       "<tr>\n",
       "        <td></td>           <th>coef</th>     <th>std err</th>      <th>t</th>      <th>P>|t|</th>  <th>[0.025</th>    <th>0.975]</th>  \n",
       "</tr>\n",
       "<tr>\n",
       "  <th>Intercept</th>     <td> 2.423e+05</td> <td> 1.65e+05</td> <td>    1.472</td> <td> 0.141</td> <td>-8.04e+04</td> <td> 5.65e+05</td>\n",
       "</tr>\n",
       "<tr>\n",
       "  <th>bedrooms</th>      <td> 1.545e+04</td> <td> 1359.315</td> <td>   11.368</td> <td> 0.000</td> <td> 1.28e+04</td> <td> 1.81e+04</td>\n",
       "</tr>\n",
       "<tr>\n",
       "  <th>bathrooms</th>     <td> 6.338e+04</td> <td> 1813.933</td> <td>   34.940</td> <td> 0.000</td> <td> 5.98e+04</td> <td> 6.69e+04</td>\n",
       "</tr>\n",
       "<tr>\n",
       "  <th>sqft_lot</th>      <td> 1.428e+04</td> <td> 1595.049</td> <td>    8.951</td> <td> 0.000</td> <td> 1.12e+04</td> <td> 1.74e+04</td>\n",
       "</tr>\n",
       "<tr>\n",
       "  <th>yr_built</th>      <td>-3.134e+04</td> <td> 1818.300</td> <td>  -17.237</td> <td> 0.000</td> <td>-3.49e+04</td> <td>-2.78e+04</td>\n",
       "</tr>\n",
       "<tr>\n",
       "  <th>sqft_living15</th> <td> 4.831e+04</td> <td> 1871.539</td> <td>   25.815</td> <td> 0.000</td> <td> 4.46e+04</td> <td>  5.2e+04</td>\n",
       "</tr>\n",
       "<tr>\n",
       "  <th>sqft_lot15</th>    <td> -125.0014</td> <td> 1652.012</td> <td>   -0.076</td> <td> 0.940</td> <td>-3363.069</td> <td> 3113.066</td>\n",
       "</tr>\n",
       "<tr>\n",
       "  <th>floors</th>        <td>-2666.6213</td> <td> 1516.357</td> <td>   -1.759</td> <td> 0.079</td> <td>-5638.793</td> <td>  305.551</td>\n",
       "</tr>\n",
       "<tr>\n",
       "  <th>grade_4</th>       <td>-1.105e+05</td> <td> 1.65e+05</td> <td>   -0.672</td> <td> 0.502</td> <td>-4.33e+05</td> <td> 2.12e+05</td>\n",
       "</tr>\n",
       "<tr>\n",
       "  <th>grade_5</th>       <td>-1.327e+05</td> <td> 1.62e+05</td> <td>   -0.820</td> <td> 0.412</td> <td> -4.5e+05</td> <td> 1.85e+05</td>\n",
       "</tr>\n",
       "<tr>\n",
       "  <th>grade_6</th>       <td>-1.073e+05</td> <td> 1.62e+05</td> <td>   -0.664</td> <td> 0.507</td> <td>-4.24e+05</td> <td> 2.09e+05</td>\n",
       "</tr>\n",
       "<tr>\n",
       "  <th>grade_7</th>       <td>-8.355e+04</td> <td> 1.62e+05</td> <td>   -0.517</td> <td> 0.605</td> <td>   -4e+05</td> <td> 2.33e+05</td>\n",
       "</tr>\n",
       "<tr>\n",
       "  <th>grade_8</th>       <td>-3.256e+04</td> <td> 1.62e+05</td> <td>   -0.201</td> <td> 0.840</td> <td>-3.49e+05</td> <td> 2.84e+05</td>\n",
       "</tr>\n",
       "<tr>\n",
       "  <th>grade_9</th>       <td> 9.566e+04</td> <td> 1.62e+05</td> <td>    0.592</td> <td> 0.554</td> <td>-2.21e+05</td> <td> 4.13e+05</td>\n",
       "</tr>\n",
       "<tr>\n",
       "  <th>grade_10</th>      <td> 2.703e+05</td> <td> 1.62e+05</td> <td>    1.671</td> <td> 0.095</td> <td>-4.68e+04</td> <td> 5.87e+05</td>\n",
       "</tr>\n",
       "<tr>\n",
       "  <th>grade_11</th>      <td> 5.374e+05</td> <td> 1.62e+05</td> <td>    3.318</td> <td> 0.001</td> <td>  2.2e+05</td> <td> 8.55e+05</td>\n",
       "</tr>\n",
       "<tr>\n",
       "  <th>grade_12</th>      <td> 1.047e+06</td> <td> 1.63e+05</td> <td>    6.431</td> <td> 0.000</td> <td> 7.28e+05</td> <td> 1.37e+06</td>\n",
       "</tr>\n",
       "<tr>\n",
       "  <th>grade_13</th>      <td> 2.378e+06</td> <td> 1.68e+05</td> <td>   14.147</td> <td> 0.000</td> <td> 2.05e+06</td> <td> 2.71e+06</td>\n",
       "</tr>\n",
       "<tr>\n",
       "  <th>cond_2</th>        <td> 9.283e+04</td> <td> 3.26e+04</td> <td>    2.850</td> <td> 0.004</td> <td>  2.9e+04</td> <td> 1.57e+05</td>\n",
       "</tr>\n",
       "<tr>\n",
       "  <th>cond_3</th>        <td>  1.11e+05</td> <td> 3.03e+04</td> <td>    3.662</td> <td> 0.000</td> <td> 5.16e+04</td> <td>  1.7e+05</td>\n",
       "</tr>\n",
       "<tr>\n",
       "  <th>cond_4</th>        <td> 1.332e+05</td> <td> 3.03e+04</td> <td>    4.392</td> <td> 0.000</td> <td> 7.37e+04</td> <td> 1.93e+05</td>\n",
       "</tr>\n",
       "<tr>\n",
       "  <th>cond_5</th>        <td> 1.741e+05</td> <td> 3.05e+04</td> <td>    5.707</td> <td> 0.000</td> <td> 1.14e+05</td> <td> 2.34e+05</td>\n",
       "</tr>\n",
       "<tr>\n",
       "  <th>view_1</th>        <td> 9.248e+04</td> <td> 9162.669</td> <td>   10.093</td> <td> 0.000</td> <td> 7.45e+04</td> <td>  1.1e+05</td>\n",
       "</tr>\n",
       "<tr>\n",
       "  <th>view_2</th>        <td> 7.094e+04</td> <td> 5586.567</td> <td>   12.698</td> <td> 0.000</td> <td>    6e+04</td> <td> 8.19e+04</td>\n",
       "</tr>\n",
       "<tr>\n",
       "  <th>view_3</th>        <td> 1.549e+05</td> <td> 7612.012</td> <td>   20.353</td> <td> 0.000</td> <td>  1.4e+05</td> <td>  1.7e+05</td>\n",
       "</tr>\n",
       "<tr>\n",
       "  <th>view_4</th>        <td> 3.039e+05</td> <td> 1.15e+04</td> <td>   26.417</td> <td> 0.000</td> <td> 2.81e+05</td> <td> 3.26e+05</td>\n",
       "</tr>\n",
       "<tr>\n",
       "  <th>water_1</th>       <td> 6.239e+05</td> <td> 1.66e+04</td> <td>   37.540</td> <td> 0.000</td> <td> 5.91e+05</td> <td> 6.56e+05</td>\n",
       "</tr>\n",
       "<tr>\n",
       "  <th>zip_98002</th>     <td> 8876.6787</td> <td> 1.43e+04</td> <td>    0.621</td> <td> 0.534</td> <td>-1.91e+04</td> <td> 3.69e+04</td>\n",
       "</tr>\n",
       "<tr>\n",
       "  <th>zip_98003</th>     <td>-1.547e+04</td> <td> 1.29e+04</td> <td>   -1.203</td> <td> 0.229</td> <td>-4.07e+04</td> <td> 9740.141</td>\n",
       "</tr>\n",
       "<tr>\n",
       "  <th>zip_98004</th>     <td> 7.573e+05</td> <td> 1.26e+04</td> <td>   60.058</td> <td> 0.000</td> <td> 7.33e+05</td> <td> 7.82e+05</td>\n",
       "</tr>\n",
       "<tr>\n",
       "  <th>zip_98005</th>     <td> 2.816e+05</td> <td> 1.52e+04</td> <td>   18.493</td> <td> 0.000</td> <td> 2.52e+05</td> <td> 3.11e+05</td>\n",
       "</tr>\n",
       "<tr>\n",
       "  <th>zip_98006</th>     <td> 2.229e+05</td> <td> 1.14e+04</td> <td>   19.581</td> <td> 0.000</td> <td> 2.01e+05</td> <td> 2.45e+05</td>\n",
       "</tr>\n",
       "<tr>\n",
       "  <th>zip_98007</th>     <td> 2.252e+05</td> <td> 1.61e+04</td> <td>   14.012</td> <td> 0.000</td> <td> 1.94e+05</td> <td> 2.57e+05</td>\n",
       "</tr>\n",
       "<tr>\n",
       "  <th>zip_98008</th>     <td> 2.461e+05</td> <td> 1.29e+04</td> <td>   19.121</td> <td> 0.000</td> <td> 2.21e+05</td> <td> 2.71e+05</td>\n",
       "</tr>\n",
       "<tr>\n",
       "  <th>zip_98010</th>     <td> 7.556e+04</td> <td> 1.83e+04</td> <td>    4.127</td> <td> 0.000</td> <td> 3.97e+04</td> <td> 1.11e+05</td>\n",
       "</tr>\n",
       "<tr>\n",
       "  <th>zip_98011</th>     <td> 1.277e+05</td> <td> 1.44e+04</td> <td>    8.893</td> <td> 0.000</td> <td> 9.96e+04</td> <td> 1.56e+05</td>\n",
       "</tr>\n",
       "<tr>\n",
       "  <th>zip_98014</th>     <td>  1.07e+05</td> <td> 1.71e+04</td> <td>    6.261</td> <td> 0.000</td> <td> 7.35e+04</td> <td> 1.41e+05</td>\n",
       "</tr>\n",
       "<tr>\n",
       "  <th>zip_98019</th>     <td> 1.014e+05</td> <td> 1.45e+04</td> <td>    6.977</td> <td> 0.000</td> <td> 7.29e+04</td> <td>  1.3e+05</td>\n",
       "</tr>\n",
       "<tr>\n",
       "  <th>zip_98022</th>     <td>-1.271e+04</td> <td> 1.38e+04</td> <td>   -0.924</td> <td> 0.356</td> <td>-3.97e+04</td> <td> 1.43e+04</td>\n",
       "</tr>\n",
       "<tr>\n",
       "  <th>zip_98023</th>     <td>-3.856e+04</td> <td> 1.12e+04</td> <td>   -3.453</td> <td> 0.001</td> <td>-6.04e+04</td> <td>-1.67e+04</td>\n",
       "</tr>\n",
       "<tr>\n",
       "  <th>zip_98024</th>     <td> 1.647e+05</td> <td> 2.02e+04</td> <td>    8.161</td> <td> 0.000</td> <td> 1.25e+05</td> <td> 2.04e+05</td>\n",
       "</tr>\n",
       "<tr>\n",
       "  <th>zip_98027</th>     <td>  1.54e+05</td> <td> 1.17e+04</td> <td>   13.147</td> <td> 0.000</td> <td> 1.31e+05</td> <td> 1.77e+05</td>\n",
       "</tr>\n",
       "<tr>\n",
       "  <th>zip_98028</th>     <td> 1.244e+05</td> <td> 1.28e+04</td> <td>    9.698</td> <td> 0.000</td> <td> 9.92e+04</td> <td> 1.49e+05</td>\n",
       "</tr>\n",
       "<tr>\n",
       "  <th>zip_98029</th>     <td> 1.942e+05</td> <td> 1.25e+04</td> <td>   15.563</td> <td> 0.000</td> <td>  1.7e+05</td> <td> 2.19e+05</td>\n",
       "</tr>\n",
       "<tr>\n",
       "  <th>zip_98030</th>     <td> -284.9398</td> <td> 1.32e+04</td> <td>   -0.022</td> <td> 0.983</td> <td>-2.61e+04</td> <td> 2.55e+04</td>\n",
       "</tr>\n",
       "<tr>\n",
       "  <th>zip_98031</th>     <td> 2325.6694</td> <td> 1.29e+04</td> <td>    0.180</td> <td> 0.857</td> <td> -2.3e+04</td> <td> 2.77e+04</td>\n",
       "</tr>\n",
       "<tr>\n",
       "  <th>zip_98032</th>     <td>-1363.5185</td> <td> 1.68e+04</td> <td>   -0.081</td> <td> 0.935</td> <td>-3.42e+04</td> <td> 3.15e+04</td>\n",
       "</tr>\n",
       "<tr>\n",
       "  <th>zip_98033</th>     <td>  3.53e+05</td> <td> 1.16e+04</td> <td>   30.543</td> <td> 0.000</td> <td>  3.3e+05</td> <td> 3.76e+05</td>\n",
       "</tr>\n",
       "<tr>\n",
       "  <th>zip_98034</th>     <td> 1.849e+05</td> <td>  1.1e+04</td> <td>   16.872</td> <td> 0.000</td> <td> 1.63e+05</td> <td> 2.06e+05</td>\n",
       "</tr>\n",
       "<tr>\n",
       "  <th>zip_98038</th>     <td> 3.385e+04</td> <td> 1.08e+04</td> <td>    3.126</td> <td> 0.002</td> <td> 1.26e+04</td> <td> 5.51e+04</td>\n",
       "</tr>\n",
       "<tr>\n",
       "  <th>zip_98039</th>     <td> 1.236e+06</td> <td> 2.46e+04</td> <td>   50.149</td> <td> 0.000</td> <td> 1.19e+06</td> <td> 1.28e+06</td>\n",
       "</tr>\n",
       "<tr>\n",
       "  <th>zip_98040</th>     <td> 4.873e+05</td> <td> 1.31e+04</td> <td>   37.173</td> <td> 0.000</td> <td> 4.62e+05</td> <td> 5.13e+05</td>\n",
       "</tr>\n",
       "<tr>\n",
       "  <th>zip_98042</th>     <td> 5324.0228</td> <td> 1.09e+04</td> <td>    0.486</td> <td> 0.627</td> <td>-1.61e+04</td> <td> 2.68e+04</td>\n",
       "</tr>\n",
       "<tr>\n",
       "  <th>zip_98045</th>     <td> 1.012e+05</td> <td> 1.38e+04</td> <td>    7.315</td> <td> 0.000</td> <td> 7.41e+04</td> <td> 1.28e+05</td>\n",
       "</tr>\n",
       "<tr>\n",
       "  <th>zip_98052</th>     <td> 2.245e+05</td> <td> 1.09e+04</td> <td>   20.574</td> <td> 0.000</td> <td> 2.03e+05</td> <td> 2.46e+05</td>\n",
       "</tr>\n",
       "<tr>\n",
       "  <th>zip_98053</th>     <td> 2.361e+05</td> <td> 1.18e+04</td> <td>   19.983</td> <td> 0.000</td> <td> 2.13e+05</td> <td> 2.59e+05</td>\n",
       "</tr>\n",
       "<tr>\n",
       "  <th>zip_98055</th>     <td> 3.225e+04</td> <td>  1.3e+04</td> <td>    2.478</td> <td> 0.013</td> <td> 6736.916</td> <td> 5.78e+04</td>\n",
       "</tr>\n",
       "<tr>\n",
       "  <th>zip_98056</th>     <td>  9.24e+04</td> <td> 1.17e+04</td> <td>    7.893</td> <td> 0.000</td> <td> 6.94e+04</td> <td> 1.15e+05</td>\n",
       "</tr>\n",
       "<tr>\n",
       "  <th>zip_98058</th>     <td> 2.736e+04</td> <td> 1.14e+04</td> <td>    2.404</td> <td> 0.016</td> <td> 5052.942</td> <td> 4.97e+04</td>\n",
       "</tr>\n",
       "<tr>\n",
       "  <th>zip_98059</th>     <td> 8.453e+04</td> <td> 1.14e+04</td> <td>    7.442</td> <td> 0.000</td> <td> 6.23e+04</td> <td> 1.07e+05</td>\n",
       "</tr>\n",
       "<tr>\n",
       "  <th>zip_98065</th>     <td> 1.101e+05</td> <td> 1.26e+04</td> <td>    8.721</td> <td> 0.000</td> <td> 8.53e+04</td> <td> 1.35e+05</td>\n",
       "</tr>\n",
       "<tr>\n",
       "  <th>zip_98070</th>     <td> 2166.9891</td> <td> 1.77e+04</td> <td>    0.123</td> <td> 0.902</td> <td>-3.25e+04</td> <td> 3.68e+04</td>\n",
       "</tr>\n",
       "<tr>\n",
       "  <th>zip_98072</th>     <td> 1.558e+05</td> <td>  1.3e+04</td> <td>   11.985</td> <td> 0.000</td> <td>  1.3e+05</td> <td> 1.81e+05</td>\n",
       "</tr>\n",
       "<tr>\n",
       "  <th>zip_98074</th>     <td> 1.615e+05</td> <td> 1.16e+04</td> <td>   13.931</td> <td> 0.000</td> <td> 1.39e+05</td> <td> 1.84e+05</td>\n",
       "</tr>\n",
       "<tr>\n",
       "  <th>zip_98075</th>     <td> 1.578e+05</td> <td> 1.23e+04</td> <td>   12.840</td> <td> 0.000</td> <td> 1.34e+05</td> <td> 1.82e+05</td>\n",
       "</tr>\n",
       "<tr>\n",
       "  <th>zip_98077</th>     <td> 1.105e+05</td> <td> 1.45e+04</td> <td>    7.624</td> <td> 0.000</td> <td> 8.21e+04</td> <td> 1.39e+05</td>\n",
       "</tr>\n",
       "<tr>\n",
       "  <th>zip_98092</th>     <td>-2.797e+04</td> <td> 1.21e+04</td> <td>   -2.304</td> <td> 0.021</td> <td>-5.18e+04</td> <td>-4172.879</td>\n",
       "</tr>\n",
       "<tr>\n",
       "  <th>zip_98102</th>     <td>  4.28e+05</td> <td> 1.82e+04</td> <td>   23.459</td> <td> 0.000</td> <td> 3.92e+05</td> <td> 4.64e+05</td>\n",
       "</tr>\n",
       "<tr>\n",
       "  <th>zip_98103</th>     <td> 3.055e+05</td> <td> 1.11e+04</td> <td>   27.619</td> <td> 0.000</td> <td> 2.84e+05</td> <td> 3.27e+05</td>\n",
       "</tr>\n",
       "<tr>\n",
       "  <th>zip_98105</th>     <td> 4.329e+05</td> <td> 1.39e+04</td> <td>   31.109</td> <td> 0.000</td> <td> 4.06e+05</td> <td>  4.6e+05</td>\n",
       "</tr>\n",
       "<tr>\n",
       "  <th>zip_98106</th>     <td>  1.05e+05</td> <td> 1.23e+04</td> <td>    8.516</td> <td> 0.000</td> <td> 8.09e+04</td> <td> 1.29e+05</td>\n",
       "</tr>\n",
       "<tr>\n",
       "  <th>zip_98107</th>     <td> 2.976e+05</td> <td> 1.33e+04</td> <td>   22.453</td> <td> 0.000</td> <td> 2.72e+05</td> <td> 3.24e+05</td>\n",
       "</tr>\n",
       "<tr>\n",
       "  <th>zip_98108</th>     <td> 9.635e+04</td> <td> 1.46e+04</td> <td>    6.589</td> <td> 0.000</td> <td> 6.77e+04</td> <td> 1.25e+05</td>\n",
       "</tr>\n",
       "<tr>\n",
       "  <th>zip_98109</th>     <td> 4.612e+05</td> <td> 1.79e+04</td> <td>   25.756</td> <td> 0.000</td> <td> 4.26e+05</td> <td> 4.96e+05</td>\n",
       "</tr>\n",
       "<tr>\n",
       "  <th>zip_98112</th>     <td> 5.916e+05</td> <td> 1.34e+04</td> <td>   44.114</td> <td> 0.000</td> <td> 5.65e+05</td> <td> 6.18e+05</td>\n",
       "</tr>\n",
       "<tr>\n",
       "  <th>zip_98115</th>     <td>  3.17e+05</td> <td>  1.1e+04</td> <td>   28.832</td> <td> 0.000</td> <td> 2.95e+05</td> <td> 3.39e+05</td>\n",
       "</tr>\n",
       "<tr>\n",
       "  <th>zip_98116</th>     <td>  2.65e+05</td> <td> 1.25e+04</td> <td>   21.199</td> <td> 0.000</td> <td>  2.4e+05</td> <td> 2.89e+05</td>\n",
       "</tr>\n",
       "<tr>\n",
       "  <th>zip_98117</th>     <td> 2.961e+05</td> <td> 1.11e+04</td> <td>   26.606</td> <td> 0.000</td> <td> 2.74e+05</td> <td> 3.18e+05</td>\n",
       "</tr>\n",
       "<tr>\n",
       "  <th>zip_98118</th>     <td> 1.432e+05</td> <td> 1.13e+04</td> <td>   12.718</td> <td> 0.000</td> <td> 1.21e+05</td> <td> 1.65e+05</td>\n",
       "</tr>\n",
       "<tr>\n",
       "  <th>zip_98119</th>     <td> 4.361e+05</td> <td> 1.49e+04</td> <td>   29.190</td> <td> 0.000</td> <td> 4.07e+05</td> <td> 4.65e+05</td>\n",
       "</tr>\n",
       "<tr>\n",
       "  <th>zip_98122</th>     <td> 2.983e+05</td> <td>  1.3e+04</td> <td>   22.885</td> <td> 0.000</td> <td> 2.73e+05</td> <td> 3.24e+05</td>\n",
       "</tr>\n",
       "<tr>\n",
       "  <th>zip_98125</th>     <td> 1.906e+05</td> <td> 1.17e+04</td> <td>   16.266</td> <td> 0.000</td> <td> 1.68e+05</td> <td> 2.14e+05</td>\n",
       "</tr>\n",
       "<tr>\n",
       "  <th>zip_98126</th>     <td>  1.79e+05</td> <td> 1.22e+04</td> <td>   14.620</td> <td> 0.000</td> <td> 1.55e+05</td> <td> 2.03e+05</td>\n",
       "</tr>\n",
       "<tr>\n",
       "  <th>zip_98133</th>     <td> 1.514e+05</td> <td> 1.12e+04</td> <td>   13.484</td> <td> 0.000</td> <td> 1.29e+05</td> <td> 1.73e+05</td>\n",
       "</tr>\n",
       "<tr>\n",
       "  <th>zip_98136</th>     <td> 2.248e+05</td> <td> 1.32e+04</td> <td>   16.975</td> <td> 0.000</td> <td> 1.99e+05</td> <td> 2.51e+05</td>\n",
       "</tr>\n",
       "<tr>\n",
       "  <th>zip_98144</th>     <td>  2.52e+05</td> <td> 1.23e+04</td> <td>   20.427</td> <td> 0.000</td> <td> 2.28e+05</td> <td> 2.76e+05</td>\n",
       "</tr>\n",
       "<tr>\n",
       "  <th>zip_98146</th>     <td> 9.665e+04</td> <td> 1.28e+04</td> <td>    7.521</td> <td> 0.000</td> <td> 7.15e+04</td> <td> 1.22e+05</td>\n",
       "</tr>\n",
       "<tr>\n",
       "  <th>zip_98148</th>     <td> 6.295e+04</td> <td>  2.3e+04</td> <td>    2.734</td> <td> 0.006</td> <td> 1.78e+04</td> <td> 1.08e+05</td>\n",
       "</tr>\n",
       "<tr>\n",
       "  <th>zip_98155</th>     <td> 1.373e+05</td> <td> 1.15e+04</td> <td>   11.980</td> <td> 0.000</td> <td> 1.15e+05</td> <td>  1.6e+05</td>\n",
       "</tr>\n",
       "<tr>\n",
       "  <th>zip_98166</th>     <td> 6.116e+04</td> <td> 1.33e+04</td> <td>    4.596</td> <td> 0.000</td> <td> 3.51e+04</td> <td> 8.72e+04</td>\n",
       "</tr>\n",
       "<tr>\n",
       "  <th>zip_98168</th>     <td> 5.218e+04</td> <td> 1.31e+04</td> <td>    3.979</td> <td> 0.000</td> <td> 2.65e+04</td> <td> 7.79e+04</td>\n",
       "</tr>\n",
       "<tr>\n",
       "  <th>zip_98177</th>     <td>  2.06e+05</td> <td> 1.33e+04</td> <td>   15.443</td> <td> 0.000</td> <td>  1.8e+05</td> <td> 2.32e+05</td>\n",
       "</tr>\n",
       "<tr>\n",
       "  <th>zip_98178</th>     <td> 2.034e+04</td> <td> 1.32e+04</td> <td>    1.541</td> <td> 0.123</td> <td>-5527.581</td> <td> 4.62e+04</td>\n",
       "</tr>\n",
       "<tr>\n",
       "  <th>zip_98188</th>     <td> 3.001e+04</td> <td> 1.62e+04</td> <td>    1.847</td> <td> 0.065</td> <td>-1833.123</td> <td> 6.19e+04</td>\n",
       "</tr>\n",
       "<tr>\n",
       "  <th>zip_98198</th>     <td>-5054.0536</td> <td> 1.29e+04</td> <td>   -0.392</td> <td> 0.695</td> <td>-3.03e+04</td> <td> 2.02e+04</td>\n",
       "</tr>\n",
       "<tr>\n",
       "  <th>zip_98199</th>     <td> 3.591e+05</td> <td> 1.26e+04</td> <td>   28.472</td> <td> 0.000</td> <td> 3.34e+05</td> <td> 3.84e+05</td>\n",
       "</tr>\n",
       "</table>\n",
       "<table class=\"simpletable\">\n",
       "<tr>\n",
       "  <th>Omnibus:</th>       <td>18542.682</td> <th>  Durbin-Watson:     </th>  <td>   1.987</td>  \n",
       "</tr>\n",
       "<tr>\n",
       "  <th>Prob(Omnibus):</th>  <td> 0.000</td>   <th>  Jarque-Bera (JB):  </th> <td>3191126.202</td>\n",
       "</tr>\n",
       "<tr>\n",
       "  <th>Skew:</th>           <td> 3.441</td>   <th>  Prob(JB):          </th>  <td>    0.00</td>  \n",
       "</tr>\n",
       "<tr>\n",
       "  <th>Kurtosis:</th>       <td>62.151</td>   <th>  Cond. No.          </th>  <td>    814.</td>  \n",
       "</tr>\n",
       "</table><br/><br/>Warnings:<br/>[1] Standard Errors assume that the covariance matrix of the errors is correctly specified."
      ],
      "text/plain": [
       "<class 'statsmodels.iolib.summary.Summary'>\n",
       "\"\"\"\n",
       "                            OLS Regression Results                            \n",
       "==============================================================================\n",
       "Dep. Variable:                  price   R-squared:                       0.808\n",
       "Model:                            OLS   Adj. R-squared:                  0.808\n",
       "Method:                 Least Squares   F-statistic:                     955.0\n",
       "Date:                Mon, 20 Apr 2020   Prob (F-statistic):               0.00\n",
       "Time:                        22:02:46   Log-Likelihood:            -2.8955e+05\n",
       "No. Observations:               21597   AIC:                         5.793e+05\n",
       "Df Residuals:                   21501   BIC:                         5.801e+05\n",
       "Df Model:                          95                                         \n",
       "Covariance Type:            nonrobust                                         \n",
       "=================================================================================\n",
       "                    coef    std err          t      P>|t|      [0.025      0.975]\n",
       "---------------------------------------------------------------------------------\n",
       "Intercept      2.423e+05   1.65e+05      1.472      0.141   -8.04e+04    5.65e+05\n",
       "bedrooms       1.545e+04   1359.315     11.368      0.000    1.28e+04    1.81e+04\n",
       "bathrooms      6.338e+04   1813.933     34.940      0.000    5.98e+04    6.69e+04\n",
       "sqft_lot       1.428e+04   1595.049      8.951      0.000    1.12e+04    1.74e+04\n",
       "yr_built      -3.134e+04   1818.300    -17.237      0.000   -3.49e+04   -2.78e+04\n",
       "sqft_living15  4.831e+04   1871.539     25.815      0.000    4.46e+04     5.2e+04\n",
       "sqft_lot15     -125.0014   1652.012     -0.076      0.940   -3363.069    3113.066\n",
       "floors        -2666.6213   1516.357     -1.759      0.079   -5638.793     305.551\n",
       "grade_4       -1.105e+05   1.65e+05     -0.672      0.502   -4.33e+05    2.12e+05\n",
       "grade_5       -1.327e+05   1.62e+05     -0.820      0.412    -4.5e+05    1.85e+05\n",
       "grade_6       -1.073e+05   1.62e+05     -0.664      0.507   -4.24e+05    2.09e+05\n",
       "grade_7       -8.355e+04   1.62e+05     -0.517      0.605      -4e+05    2.33e+05\n",
       "grade_8       -3.256e+04   1.62e+05     -0.201      0.840   -3.49e+05    2.84e+05\n",
       "grade_9        9.566e+04   1.62e+05      0.592      0.554   -2.21e+05    4.13e+05\n",
       "grade_10       2.703e+05   1.62e+05      1.671      0.095   -4.68e+04    5.87e+05\n",
       "grade_11       5.374e+05   1.62e+05      3.318      0.001     2.2e+05    8.55e+05\n",
       "grade_12       1.047e+06   1.63e+05      6.431      0.000    7.28e+05    1.37e+06\n",
       "grade_13       2.378e+06   1.68e+05     14.147      0.000    2.05e+06    2.71e+06\n",
       "cond_2         9.283e+04   3.26e+04      2.850      0.004     2.9e+04    1.57e+05\n",
       "cond_3          1.11e+05   3.03e+04      3.662      0.000    5.16e+04     1.7e+05\n",
       "cond_4         1.332e+05   3.03e+04      4.392      0.000    7.37e+04    1.93e+05\n",
       "cond_5         1.741e+05   3.05e+04      5.707      0.000    1.14e+05    2.34e+05\n",
       "view_1         9.248e+04   9162.669     10.093      0.000    7.45e+04     1.1e+05\n",
       "view_2         7.094e+04   5586.567     12.698      0.000       6e+04    8.19e+04\n",
       "view_3         1.549e+05   7612.012     20.353      0.000     1.4e+05     1.7e+05\n",
       "view_4         3.039e+05   1.15e+04     26.417      0.000    2.81e+05    3.26e+05\n",
       "water_1        6.239e+05   1.66e+04     37.540      0.000    5.91e+05    6.56e+05\n",
       "zip_98002      8876.6787   1.43e+04      0.621      0.534   -1.91e+04    3.69e+04\n",
       "zip_98003     -1.547e+04   1.29e+04     -1.203      0.229   -4.07e+04    9740.141\n",
       "zip_98004      7.573e+05   1.26e+04     60.058      0.000    7.33e+05    7.82e+05\n",
       "zip_98005      2.816e+05   1.52e+04     18.493      0.000    2.52e+05    3.11e+05\n",
       "zip_98006      2.229e+05   1.14e+04     19.581      0.000    2.01e+05    2.45e+05\n",
       "zip_98007      2.252e+05   1.61e+04     14.012      0.000    1.94e+05    2.57e+05\n",
       "zip_98008      2.461e+05   1.29e+04     19.121      0.000    2.21e+05    2.71e+05\n",
       "zip_98010      7.556e+04   1.83e+04      4.127      0.000    3.97e+04    1.11e+05\n",
       "zip_98011      1.277e+05   1.44e+04      8.893      0.000    9.96e+04    1.56e+05\n",
       "zip_98014       1.07e+05   1.71e+04      6.261      0.000    7.35e+04    1.41e+05\n",
       "zip_98019      1.014e+05   1.45e+04      6.977      0.000    7.29e+04     1.3e+05\n",
       "zip_98022     -1.271e+04   1.38e+04     -0.924      0.356   -3.97e+04    1.43e+04\n",
       "zip_98023     -3.856e+04   1.12e+04     -3.453      0.001   -6.04e+04   -1.67e+04\n",
       "zip_98024      1.647e+05   2.02e+04      8.161      0.000    1.25e+05    2.04e+05\n",
       "zip_98027       1.54e+05   1.17e+04     13.147      0.000    1.31e+05    1.77e+05\n",
       "zip_98028      1.244e+05   1.28e+04      9.698      0.000    9.92e+04    1.49e+05\n",
       "zip_98029      1.942e+05   1.25e+04     15.563      0.000     1.7e+05    2.19e+05\n",
       "zip_98030      -284.9398   1.32e+04     -0.022      0.983   -2.61e+04    2.55e+04\n",
       "zip_98031      2325.6694   1.29e+04      0.180      0.857    -2.3e+04    2.77e+04\n",
       "zip_98032     -1363.5185   1.68e+04     -0.081      0.935   -3.42e+04    3.15e+04\n",
       "zip_98033       3.53e+05   1.16e+04     30.543      0.000     3.3e+05    3.76e+05\n",
       "zip_98034      1.849e+05    1.1e+04     16.872      0.000    1.63e+05    2.06e+05\n",
       "zip_98038      3.385e+04   1.08e+04      3.126      0.002    1.26e+04    5.51e+04\n",
       "zip_98039      1.236e+06   2.46e+04     50.149      0.000    1.19e+06    1.28e+06\n",
       "zip_98040      4.873e+05   1.31e+04     37.173      0.000    4.62e+05    5.13e+05\n",
       "zip_98042      5324.0228   1.09e+04      0.486      0.627   -1.61e+04    2.68e+04\n",
       "zip_98045      1.012e+05   1.38e+04      7.315      0.000    7.41e+04    1.28e+05\n",
       "zip_98052      2.245e+05   1.09e+04     20.574      0.000    2.03e+05    2.46e+05\n",
       "zip_98053      2.361e+05   1.18e+04     19.983      0.000    2.13e+05    2.59e+05\n",
       "zip_98055      3.225e+04    1.3e+04      2.478      0.013    6736.916    5.78e+04\n",
       "zip_98056       9.24e+04   1.17e+04      7.893      0.000    6.94e+04    1.15e+05\n",
       "zip_98058      2.736e+04   1.14e+04      2.404      0.016    5052.942    4.97e+04\n",
       "zip_98059      8.453e+04   1.14e+04      7.442      0.000    6.23e+04    1.07e+05\n",
       "zip_98065      1.101e+05   1.26e+04      8.721      0.000    8.53e+04    1.35e+05\n",
       "zip_98070      2166.9891   1.77e+04      0.123      0.902   -3.25e+04    3.68e+04\n",
       "zip_98072      1.558e+05    1.3e+04     11.985      0.000     1.3e+05    1.81e+05\n",
       "zip_98074      1.615e+05   1.16e+04     13.931      0.000    1.39e+05    1.84e+05\n",
       "zip_98075      1.578e+05   1.23e+04     12.840      0.000    1.34e+05    1.82e+05\n",
       "zip_98077      1.105e+05   1.45e+04      7.624      0.000    8.21e+04    1.39e+05\n",
       "zip_98092     -2.797e+04   1.21e+04     -2.304      0.021   -5.18e+04   -4172.879\n",
       "zip_98102       4.28e+05   1.82e+04     23.459      0.000    3.92e+05    4.64e+05\n",
       "zip_98103      3.055e+05   1.11e+04     27.619      0.000    2.84e+05    3.27e+05\n",
       "zip_98105      4.329e+05   1.39e+04     31.109      0.000    4.06e+05     4.6e+05\n",
       "zip_98106       1.05e+05   1.23e+04      8.516      0.000    8.09e+04    1.29e+05\n",
       "zip_98107      2.976e+05   1.33e+04     22.453      0.000    2.72e+05    3.24e+05\n",
       "zip_98108      9.635e+04   1.46e+04      6.589      0.000    6.77e+04    1.25e+05\n",
       "zip_98109      4.612e+05   1.79e+04     25.756      0.000    4.26e+05    4.96e+05\n",
       "zip_98112      5.916e+05   1.34e+04     44.114      0.000    5.65e+05    6.18e+05\n",
       "zip_98115       3.17e+05    1.1e+04     28.832      0.000    2.95e+05    3.39e+05\n",
       "zip_98116       2.65e+05   1.25e+04     21.199      0.000     2.4e+05    2.89e+05\n",
       "zip_98117      2.961e+05   1.11e+04     26.606      0.000    2.74e+05    3.18e+05\n",
       "zip_98118      1.432e+05   1.13e+04     12.718      0.000    1.21e+05    1.65e+05\n",
       "zip_98119      4.361e+05   1.49e+04     29.190      0.000    4.07e+05    4.65e+05\n",
       "zip_98122      2.983e+05    1.3e+04     22.885      0.000    2.73e+05    3.24e+05\n",
       "zip_98125      1.906e+05   1.17e+04     16.266      0.000    1.68e+05    2.14e+05\n",
       "zip_98126       1.79e+05   1.22e+04     14.620      0.000    1.55e+05    2.03e+05\n",
       "zip_98133      1.514e+05   1.12e+04     13.484      0.000    1.29e+05    1.73e+05\n",
       "zip_98136      2.248e+05   1.32e+04     16.975      0.000    1.99e+05    2.51e+05\n",
       "zip_98144       2.52e+05   1.23e+04     20.427      0.000    2.28e+05    2.76e+05\n",
       "zip_98146      9.665e+04   1.28e+04      7.521      0.000    7.15e+04    1.22e+05\n",
       "zip_98148      6.295e+04    2.3e+04      2.734      0.006    1.78e+04    1.08e+05\n",
       "zip_98155      1.373e+05   1.15e+04     11.980      0.000    1.15e+05     1.6e+05\n",
       "zip_98166      6.116e+04   1.33e+04      4.596      0.000    3.51e+04    8.72e+04\n",
       "zip_98168      5.218e+04   1.31e+04      3.979      0.000    2.65e+04    7.79e+04\n",
       "zip_98177       2.06e+05   1.33e+04     15.443      0.000     1.8e+05    2.32e+05\n",
       "zip_98178      2.034e+04   1.32e+04      1.541      0.123   -5527.581    4.62e+04\n",
       "zip_98188      3.001e+04   1.62e+04      1.847      0.065   -1833.123    6.19e+04\n",
       "zip_98198     -5054.0536   1.29e+04     -0.392      0.695   -3.03e+04    2.02e+04\n",
       "zip_98199      3.591e+05   1.26e+04     28.472      0.000    3.34e+05    3.84e+05\n",
       "==============================================================================\n",
       "Omnibus:                    18542.682   Durbin-Watson:                   1.987\n",
       "Prob(Omnibus):                  0.000   Jarque-Bera (JB):          3191126.202\n",
       "Skew:                           3.441   Prob(JB):                         0.00\n",
       "Kurtosis:                      62.151   Cond. No.                         814.\n",
       "==============================================================================\n",
       "\n",
       "Warnings:\n",
       "[1] Standard Errors assume that the covariance matrix of the errors is correctly specified.\n",
       "\"\"\""
      ]
     },
     "execution_count": 366,
     "metadata": {},
     "output_type": "execute_result"
    }
   ],
   "source": [
    "outcome1 = 'price'\n",
    "predictors_1 = data_final.drop('price', axis=1)\n",
    "pred_sum_1 = '+'.join(predictors_1.columns)\n",
    "formula = outcome1 + '~' + pred_sum_1\n",
    "model1 = ols(formula=formula, data=data_final).fit()\n",
    "model1.summary()"
   ]
  },
  {
   "cell_type": "code",
   "execution_count": 367,
   "metadata": {
    "ExecuteTime": {
     "end_time": "2020-04-21T02:02:46.955394Z",
     "start_time": "2020-04-21T02:02:46.947405Z"
    }
   },
   "outputs": [],
   "source": [
    "data_final.drop(['sqft_lot15','floors','grade_4','grade_5','grade_6','grade_7','grade_8','grade_9','grade_10','zip_98002','zip_98003','zip_98022','zip_98030','zip_98031','zip_98032','zip_98042','zip_98055','zip_98058','zip_98070','zip_98092','zip_98168','zip_98178','zip_98188','zip_98198'],axis=1,inplace=True)"
   ]
  },
  {
   "cell_type": "code",
   "execution_count": 368,
   "metadata": {
    "ExecuteTime": {
     "end_time": "2020-04-21T02:02:47.403951Z",
     "start_time": "2020-04-21T02:02:46.957624Z"
    }
   },
   "outputs": [
    {
     "data": {
      "text/html": [
       "<table class=\"simpletable\">\n",
       "<caption>OLS Regression Results</caption>\n",
       "<tr>\n",
       "  <th>Dep. Variable:</th>          <td>price</td>      <th>  R-squared:         </th>  <td>   0.778</td>  \n",
       "</tr>\n",
       "<tr>\n",
       "  <th>Model:</th>                   <td>OLS</td>       <th>  Adj. R-squared:    </th>  <td>   0.777</td>  \n",
       "</tr>\n",
       "<tr>\n",
       "  <th>Method:</th>             <td>Least Squares</td>  <th>  F-statistic:       </th>  <td>   1064.</td>  \n",
       "</tr>\n",
       "<tr>\n",
       "  <th>Date:</th>             <td>Mon, 20 Apr 2020</td> <th>  Prob (F-statistic):</th>   <td>  0.00</td>   \n",
       "</tr>\n",
       "<tr>\n",
       "  <th>Time:</th>                 <td>22:02:47</td>     <th>  Log-Likelihood:    </th> <td>-2.9113e+05</td>\n",
       "</tr>\n",
       "<tr>\n",
       "  <th>No. Observations:</th>      <td> 21597</td>      <th>  AIC:               </th>  <td>5.824e+05</td> \n",
       "</tr>\n",
       "<tr>\n",
       "  <th>Df Residuals:</th>          <td> 21525</td>      <th>  BIC:               </th>  <td>5.830e+05</td> \n",
       "</tr>\n",
       "<tr>\n",
       "  <th>Df Model:</th>              <td>    71</td>      <th>                     </th>      <td> </td>     \n",
       "</tr>\n",
       "<tr>\n",
       "  <th>Covariance Type:</th>      <td>nonrobust</td>    <th>                     </th>      <td> </td>     \n",
       "</tr>\n",
       "</table>\n",
       "<table class=\"simpletable\">\n",
       "<tr>\n",
       "        <td></td>           <th>coef</th>     <th>std err</th>      <th>t</th>      <th>P>|t|</th>  <th>[0.025</th>    <th>0.975]</th>  \n",
       "</tr>\n",
       "<tr>\n",
       "  <th>Intercept</th>     <td> 1.742e+05</td> <td> 3.24e+04</td> <td>    5.369</td> <td> 0.000</td> <td> 1.11e+05</td> <td> 2.38e+05</td>\n",
       "</tr>\n",
       "<tr>\n",
       "  <th>bedrooms</th>      <td> 1.314e+04</td> <td> 1445.521</td> <td>    9.088</td> <td> 0.000</td> <td> 1.03e+04</td> <td>  1.6e+04</td>\n",
       "</tr>\n",
       "<tr>\n",
       "  <th>bathrooms</th>     <td>  8.21e+04</td> <td> 1848.579</td> <td>   44.411</td> <td> 0.000</td> <td> 7.85e+04</td> <td> 8.57e+04</td>\n",
       "</tr>\n",
       "<tr>\n",
       "  <th>sqft_lot</th>      <td> 1.843e+04</td> <td> 1261.263</td> <td>   14.610</td> <td> 0.000</td> <td>  1.6e+04</td> <td> 2.09e+04</td>\n",
       "</tr>\n",
       "<tr>\n",
       "  <th>yr_built</th>      <td>-1.848e+04</td> <td> 1734.860</td> <td>  -10.653</td> <td> 0.000</td> <td>-2.19e+04</td> <td>-1.51e+04</td>\n",
       "</tr>\n",
       "<tr>\n",
       "  <th>sqft_living15</th> <td> 9.385e+04</td> <td> 1760.763</td> <td>   53.302</td> <td> 0.000</td> <td> 9.04e+04</td> <td> 9.73e+04</td>\n",
       "</tr>\n",
       "<tr>\n",
       "  <th>grade_11</th>      <td> 3.954e+05</td> <td> 9399.360</td> <td>   42.065</td> <td> 0.000</td> <td> 3.77e+05</td> <td> 4.14e+05</td>\n",
       "</tr>\n",
       "<tr>\n",
       "  <th>grade_12</th>      <td> 8.545e+05</td> <td> 1.91e+04</td> <td>   44.733</td> <td> 0.000</td> <td> 8.17e+05</td> <td> 8.92e+05</td>\n",
       "</tr>\n",
       "<tr>\n",
       "  <th>grade_13</th>      <td> 2.162e+06</td> <td> 4.88e+04</td> <td>   44.316</td> <td> 0.000</td> <td> 2.07e+06</td> <td> 2.26e+06</td>\n",
       "</tr>\n",
       "<tr>\n",
       "  <th>cond_2</th>        <td> 1.209e+05</td> <td> 3.49e+04</td> <td>    3.463</td> <td> 0.001</td> <td> 5.25e+04</td> <td> 1.89e+05</td>\n",
       "</tr>\n",
       "<tr>\n",
       "  <th>cond_3</th>        <td> 1.449e+05</td> <td> 3.24e+04</td> <td>    4.472</td> <td> 0.000</td> <td> 8.14e+04</td> <td> 2.08e+05</td>\n",
       "</tr>\n",
       "<tr>\n",
       "  <th>cond_4</th>        <td> 1.582e+05</td> <td> 3.24e+04</td> <td>    4.884</td> <td> 0.000</td> <td> 9.47e+04</td> <td> 2.22e+05</td>\n",
       "</tr>\n",
       "<tr>\n",
       "  <th>cond_5</th>        <td> 2.007e+05</td> <td> 3.26e+04</td> <td>    6.157</td> <td> 0.000</td> <td> 1.37e+05</td> <td> 2.65e+05</td>\n",
       "</tr>\n",
       "<tr>\n",
       "  <th>view_1</th>        <td> 8.885e+04</td> <td> 9811.483</td> <td>    9.056</td> <td> 0.000</td> <td> 6.96e+04</td> <td> 1.08e+05</td>\n",
       "</tr>\n",
       "<tr>\n",
       "  <th>view_2</th>        <td> 8.039e+04</td> <td> 5962.544</td> <td>   13.483</td> <td> 0.000</td> <td> 6.87e+04</td> <td> 9.21e+04</td>\n",
       "</tr>\n",
       "<tr>\n",
       "  <th>view_3</th>        <td> 1.735e+05</td> <td> 8118.212</td> <td>   21.377</td> <td> 0.000</td> <td> 1.58e+05</td> <td> 1.89e+05</td>\n",
       "</tr>\n",
       "<tr>\n",
       "  <th>view_4</th>        <td>   3.4e+05</td> <td> 1.23e+04</td> <td>   27.575</td> <td> 0.000</td> <td> 3.16e+05</td> <td> 3.64e+05</td>\n",
       "</tr>\n",
       "<tr>\n",
       "  <th>water_1</th>       <td> 6.257e+05</td> <td> 1.77e+04</td> <td>   35.376</td> <td> 0.000</td> <td> 5.91e+05</td> <td>  6.6e+05</td>\n",
       "</tr>\n",
       "<tr>\n",
       "  <th>zip_98004</th>     <td> 7.968e+05</td> <td> 1.03e+04</td> <td>   77.394</td> <td> 0.000</td> <td> 7.77e+05</td> <td> 8.17e+05</td>\n",
       "</tr>\n",
       "<tr>\n",
       "  <th>zip_98005</th>     <td> 3.083e+05</td> <td> 1.38e+04</td> <td>   22.393</td> <td> 0.000</td> <td> 2.81e+05</td> <td> 3.35e+05</td>\n",
       "</tr>\n",
       "<tr>\n",
       "  <th>zip_98006</th>     <td> 2.512e+05</td> <td> 8493.624</td> <td>   29.570</td> <td> 0.000</td> <td> 2.35e+05</td> <td> 2.68e+05</td>\n",
       "</tr>\n",
       "<tr>\n",
       "  <th>zip_98007</th>     <td> 2.549e+05</td> <td> 1.49e+04</td> <td>   17.134</td> <td> 0.000</td> <td> 2.26e+05</td> <td> 2.84e+05</td>\n",
       "</tr>\n",
       "<tr>\n",
       "  <th>zip_98008</th>     <td>  2.51e+05</td> <td> 1.07e+04</td> <td>   23.497</td> <td> 0.000</td> <td>  2.3e+05</td> <td> 2.72e+05</td>\n",
       "</tr>\n",
       "<tr>\n",
       "  <th>zip_98010</th>     <td>  8.04e+04</td> <td> 1.76e+04</td> <td>    4.576</td> <td> 0.000</td> <td>  4.6e+04</td> <td> 1.15e+05</td>\n",
       "</tr>\n",
       "<tr>\n",
       "  <th>zip_98011</th>     <td> 1.151e+05</td> <td> 1.27e+04</td> <td>    9.036</td> <td> 0.000</td> <td> 9.01e+04</td> <td>  1.4e+05</td>\n",
       "</tr>\n",
       "<tr>\n",
       "  <th>zip_98014</th>     <td> 9.703e+04</td> <td>  1.6e+04</td> <td>    6.074</td> <td> 0.000</td> <td> 6.57e+04</td> <td> 1.28e+05</td>\n",
       "</tr>\n",
       "<tr>\n",
       "  <th>zip_98019</th>     <td>  6.91e+04</td> <td> 1.29e+04</td> <td>    5.354</td> <td> 0.000</td> <td> 4.38e+04</td> <td> 9.44e+04</td>\n",
       "</tr>\n",
       "<tr>\n",
       "  <th>zip_98023</th>     <td>-3.721e+04</td> <td> 8205.709</td> <td>   -4.535</td> <td> 0.000</td> <td>-5.33e+04</td> <td>-2.11e+04</td>\n",
       "</tr>\n",
       "<tr>\n",
       "  <th>zip_98024</th>     <td> 1.595e+05</td> <td> 1.97e+04</td> <td>    8.089</td> <td> 0.000</td> <td> 1.21e+05</td> <td> 1.98e+05</td>\n",
       "</tr>\n",
       "<tr>\n",
       "  <th>zip_98027</th>     <td> 1.602e+05</td> <td> 9029.252</td> <td>   17.739</td> <td> 0.000</td> <td> 1.42e+05</td> <td> 1.78e+05</td>\n",
       "</tr>\n",
       "<tr>\n",
       "  <th>zip_98028</th>     <td> 1.127e+05</td> <td> 1.07e+04</td> <td>   10.577</td> <td> 0.000</td> <td> 9.18e+04</td> <td> 1.34e+05</td>\n",
       "</tr>\n",
       "<tr>\n",
       "  <th>zip_98029</th>     <td> 2.126e+05</td> <td> 1.01e+04</td> <td>   21.000</td> <td> 0.000</td> <td> 1.93e+05</td> <td> 2.32e+05</td>\n",
       "</tr>\n",
       "<tr>\n",
       "  <th>zip_98033</th>     <td>   3.8e+05</td> <td> 8792.653</td> <td>   43.223</td> <td> 0.000</td> <td> 3.63e+05</td> <td> 3.97e+05</td>\n",
       "</tr>\n",
       "<tr>\n",
       "  <th>zip_98034</th>     <td> 1.819e+05</td> <td> 7883.244</td> <td>   23.079</td> <td> 0.000</td> <td> 1.66e+05</td> <td> 1.97e+05</td>\n",
       "</tr>\n",
       "<tr>\n",
       "  <th>zip_98038</th>     <td> 5896.1293</td> <td> 7697.270</td> <td>    0.766</td> <td> 0.444</td> <td>-9191.091</td> <td>  2.1e+04</td>\n",
       "</tr>\n",
       "<tr>\n",
       "  <th>zip_98039</th>     <td> 1.267e+06</td> <td>  2.5e+04</td> <td>   50.713</td> <td> 0.000</td> <td> 1.22e+06</td> <td> 1.32e+06</td>\n",
       "</tr>\n",
       "<tr>\n",
       "  <th>zip_98040</th>     <td> 5.337e+05</td> <td>  1.1e+04</td> <td>   48.671</td> <td> 0.000</td> <td> 5.12e+05</td> <td> 5.55e+05</td>\n",
       "</tr>\n",
       "<tr>\n",
       "  <th>zip_98045</th>     <td> 1.005e+05</td> <td>  1.2e+04</td> <td>    8.353</td> <td> 0.000</td> <td> 7.69e+04</td> <td> 1.24e+05</td>\n",
       "</tr>\n",
       "<tr>\n",
       "  <th>zip_98052</th>     <td> 2.374e+05</td> <td> 7798.039</td> <td>   30.443</td> <td> 0.000</td> <td> 2.22e+05</td> <td> 2.53e+05</td>\n",
       "</tr>\n",
       "<tr>\n",
       "  <th>zip_98053</th>     <td> 2.361e+05</td> <td> 9217.911</td> <td>   25.613</td> <td> 0.000</td> <td> 2.18e+05</td> <td> 2.54e+05</td>\n",
       "</tr>\n",
       "<tr>\n",
       "  <th>zip_98056</th>     <td> 9.422e+04</td> <td> 9021.142</td> <td>   10.444</td> <td> 0.000</td> <td> 7.65e+04</td> <td> 1.12e+05</td>\n",
       "</tr>\n",
       "<tr>\n",
       "  <th>zip_98059</th>     <td> 6.789e+04</td> <td> 8539.276</td> <td>    7.950</td> <td> 0.000</td> <td> 5.12e+04</td> <td> 8.46e+04</td>\n",
       "</tr>\n",
       "<tr>\n",
       "  <th>zip_98065</th>     <td> 7.478e+04</td> <td> 1.04e+04</td> <td>    7.211</td> <td> 0.000</td> <td> 5.45e+04</td> <td> 9.51e+04</td>\n",
       "</tr>\n",
       "<tr>\n",
       "  <th>zip_98072</th>     <td> 1.634e+05</td> <td> 1.09e+04</td> <td>   15.005</td> <td> 0.000</td> <td> 1.42e+05</td> <td> 1.85e+05</td>\n",
       "</tr>\n",
       "<tr>\n",
       "  <th>zip_98074</th>     <td> 2.045e+05</td> <td> 8838.225</td> <td>   23.135</td> <td> 0.000</td> <td> 1.87e+05</td> <td> 2.22e+05</td>\n",
       "</tr>\n",
       "<tr>\n",
       "  <th>zip_98075</th>     <td> 2.055e+05</td> <td> 9845.791</td> <td>   20.868</td> <td> 0.000</td> <td> 1.86e+05</td> <td> 2.25e+05</td>\n",
       "</tr>\n",
       "<tr>\n",
       "  <th>zip_98077</th>     <td>  1.42e+05</td> <td> 1.28e+04</td> <td>   11.066</td> <td> 0.000</td> <td> 1.17e+05</td> <td> 1.67e+05</td>\n",
       "</tr>\n",
       "<tr>\n",
       "  <th>zip_98102</th>     <td> 4.844e+05</td> <td> 1.73e+04</td> <td>   27.949</td> <td> 0.000</td> <td>  4.5e+05</td> <td> 5.18e+05</td>\n",
       "</tr>\n",
       "<tr>\n",
       "  <th>zip_98103</th>     <td> 3.284e+05</td> <td> 7713.175</td> <td>   42.573</td> <td> 0.000</td> <td> 3.13e+05</td> <td> 3.43e+05</td>\n",
       "</tr>\n",
       "<tr>\n",
       "  <th>zip_98105</th>     <td> 4.687e+05</td> <td>  1.2e+04</td> <td>   39.202</td> <td> 0.000</td> <td> 4.45e+05</td> <td> 4.92e+05</td>\n",
       "</tr>\n",
       "<tr>\n",
       "  <th>zip_98106</th>     <td> 1.163e+05</td> <td> 9916.473</td> <td>   11.733</td> <td> 0.000</td> <td> 9.69e+04</td> <td> 1.36e+05</td>\n",
       "</tr>\n",
       "<tr>\n",
       "  <th>zip_98107</th>     <td>  3.14e+05</td> <td> 1.11e+04</td> <td>   28.394</td> <td> 0.000</td> <td> 2.92e+05</td> <td> 3.36e+05</td>\n",
       "</tr>\n",
       "<tr>\n",
       "  <th>zip_98108</th>     <td> 9.855e+04</td> <td>  1.3e+04</td> <td>    7.558</td> <td> 0.000</td> <td>  7.3e+04</td> <td> 1.24e+05</td>\n",
       "</tr>\n",
       "<tr>\n",
       "  <th>zip_98109</th>     <td> 5.037e+05</td> <td>  1.7e+04</td> <td>   29.681</td> <td> 0.000</td> <td>  4.7e+05</td> <td> 5.37e+05</td>\n",
       "</tr>\n",
       "<tr>\n",
       "  <th>zip_98112</th>     <td> 6.539e+05</td> <td> 1.12e+04</td> <td>   58.506</td> <td> 0.000</td> <td> 6.32e+05</td> <td> 6.76e+05</td>\n",
       "</tr>\n",
       "<tr>\n",
       "  <th>zip_98115</th>     <td> 3.352e+05</td> <td> 7798.647</td> <td>   42.985</td> <td> 0.000</td> <td>  3.2e+05</td> <td> 3.51e+05</td>\n",
       "</tr>\n",
       "<tr>\n",
       "  <th>zip_98116</th>     <td>  2.93e+05</td> <td> 1.01e+04</td> <td>   29.133</td> <td> 0.000</td> <td> 2.73e+05</td> <td> 3.13e+05</td>\n",
       "</tr>\n",
       "<tr>\n",
       "  <th>zip_98117</th>     <td> 3.241e+05</td> <td> 7996.247</td> <td>   40.535</td> <td> 0.000</td> <td> 3.08e+05</td> <td>  3.4e+05</td>\n",
       "</tr>\n",
       "<tr>\n",
       "  <th>zip_98118</th>     <td> 1.536e+05</td> <td> 8277.815</td> <td>   18.559</td> <td> 0.000</td> <td> 1.37e+05</td> <td>  1.7e+05</td>\n",
       "</tr>\n",
       "<tr>\n",
       "  <th>zip_98119</th>     <td> 4.804e+05</td> <td> 1.32e+04</td> <td>   36.304</td> <td> 0.000</td> <td> 4.54e+05</td> <td> 5.06e+05</td>\n",
       "</tr>\n",
       "<tr>\n",
       "  <th>zip_98122</th>     <td> 3.352e+05</td> <td> 1.07e+04</td> <td>   31.368</td> <td> 0.000</td> <td> 3.14e+05</td> <td> 3.56e+05</td>\n",
       "</tr>\n",
       "<tr>\n",
       "  <th>zip_98125</th>     <td> 1.934e+05</td> <td> 9025.308</td> <td>   21.427</td> <td> 0.000</td> <td> 1.76e+05</td> <td> 2.11e+05</td>\n",
       "</tr>\n",
       "<tr>\n",
       "  <th>zip_98126</th>     <td> 2.036e+05</td> <td> 9728.427</td> <td>   20.927</td> <td> 0.000</td> <td> 1.85e+05</td> <td> 2.23e+05</td>\n",
       "</tr>\n",
       "<tr>\n",
       "  <th>zip_98133</th>     <td> 1.587e+05</td> <td> 8276.584</td> <td>   19.174</td> <td> 0.000</td> <td> 1.42e+05</td> <td> 1.75e+05</td>\n",
       "</tr>\n",
       "<tr>\n",
       "  <th>zip_98136</th>     <td> 2.448e+05</td> <td> 1.11e+04</td> <td>   21.977</td> <td> 0.000</td> <td> 2.23e+05</td> <td> 2.67e+05</td>\n",
       "</tr>\n",
       "<tr>\n",
       "  <th>zip_98144</th>     <td> 2.675e+05</td> <td> 9831.131</td> <td>   27.207</td> <td> 0.000</td> <td> 2.48e+05</td> <td> 2.87e+05</td>\n",
       "</tr>\n",
       "<tr>\n",
       "  <th>zip_98146</th>     <td>  1.04e+05</td> <td> 1.06e+04</td> <td>    9.783</td> <td> 0.000</td> <td> 8.32e+04</td> <td> 1.25e+05</td>\n",
       "</tr>\n",
       "<tr>\n",
       "  <th>zip_98148</th>     <td> 5.541e+04</td> <td> 2.32e+04</td> <td>    2.393</td> <td> 0.017</td> <td>    1e+04</td> <td> 1.01e+05</td>\n",
       "</tr>\n",
       "<tr>\n",
       "  <th>zip_98155</th>     <td> 1.394e+05</td> <td> 8651.210</td> <td>   16.109</td> <td> 0.000</td> <td> 1.22e+05</td> <td> 1.56e+05</td>\n",
       "</tr>\n",
       "<tr>\n",
       "  <th>zip_98166</th>     <td> 6.926e+04</td> <td> 1.13e+04</td> <td>    6.152</td> <td> 0.000</td> <td> 4.72e+04</td> <td> 9.13e+04</td>\n",
       "</tr>\n",
       "<tr>\n",
       "  <th>zip_98177</th>     <td>  2.23e+05</td> <td> 1.13e+04</td> <td>   19.742</td> <td> 0.000</td> <td> 2.01e+05</td> <td> 2.45e+05</td>\n",
       "</tr>\n",
       "<tr>\n",
       "  <th>zip_98199</th>     <td> 4.031e+05</td> <td> 1.02e+04</td> <td>   39.435</td> <td> 0.000</td> <td> 3.83e+05</td> <td> 4.23e+05</td>\n",
       "</tr>\n",
       "</table>\n",
       "<table class=\"simpletable\">\n",
       "<tr>\n",
       "  <th>Omnibus:</th>       <td>16541.194</td> <th>  Durbin-Watson:     </th>  <td>   1.986</td>  \n",
       "</tr>\n",
       "<tr>\n",
       "  <th>Prob(Omnibus):</th>  <td> 0.000</td>   <th>  Jarque-Bera (JB):  </th> <td>1768606.528</td>\n",
       "</tr>\n",
       "<tr>\n",
       "  <th>Skew:</th>           <td> 2.970</td>   <th>  Prob(JB):          </th>  <td>    0.00</td>  \n",
       "</tr>\n",
       "<tr>\n",
       "  <th>Kurtosis:</th>       <td>46.933</td>   <th>  Cond. No.          </th>  <td>    93.6</td>  \n",
       "</tr>\n",
       "</table><br/><br/>Warnings:<br/>[1] Standard Errors assume that the covariance matrix of the errors is correctly specified."
      ],
      "text/plain": [
       "<class 'statsmodels.iolib.summary.Summary'>\n",
       "\"\"\"\n",
       "                            OLS Regression Results                            \n",
       "==============================================================================\n",
       "Dep. Variable:                  price   R-squared:                       0.778\n",
       "Model:                            OLS   Adj. R-squared:                  0.777\n",
       "Method:                 Least Squares   F-statistic:                     1064.\n",
       "Date:                Mon, 20 Apr 2020   Prob (F-statistic):               0.00\n",
       "Time:                        22:02:47   Log-Likelihood:            -2.9113e+05\n",
       "No. Observations:               21597   AIC:                         5.824e+05\n",
       "Df Residuals:                   21525   BIC:                         5.830e+05\n",
       "Df Model:                          71                                         \n",
       "Covariance Type:            nonrobust                                         \n",
       "=================================================================================\n",
       "                    coef    std err          t      P>|t|      [0.025      0.975]\n",
       "---------------------------------------------------------------------------------\n",
       "Intercept      1.742e+05   3.24e+04      5.369      0.000    1.11e+05    2.38e+05\n",
       "bedrooms       1.314e+04   1445.521      9.088      0.000    1.03e+04     1.6e+04\n",
       "bathrooms       8.21e+04   1848.579     44.411      0.000    7.85e+04    8.57e+04\n",
       "sqft_lot       1.843e+04   1261.263     14.610      0.000     1.6e+04    2.09e+04\n",
       "yr_built      -1.848e+04   1734.860    -10.653      0.000   -2.19e+04   -1.51e+04\n",
       "sqft_living15  9.385e+04   1760.763     53.302      0.000    9.04e+04    9.73e+04\n",
       "grade_11       3.954e+05   9399.360     42.065      0.000    3.77e+05    4.14e+05\n",
       "grade_12       8.545e+05   1.91e+04     44.733      0.000    8.17e+05    8.92e+05\n",
       "grade_13       2.162e+06   4.88e+04     44.316      0.000    2.07e+06    2.26e+06\n",
       "cond_2         1.209e+05   3.49e+04      3.463      0.001    5.25e+04    1.89e+05\n",
       "cond_3         1.449e+05   3.24e+04      4.472      0.000    8.14e+04    2.08e+05\n",
       "cond_4         1.582e+05   3.24e+04      4.884      0.000    9.47e+04    2.22e+05\n",
       "cond_5         2.007e+05   3.26e+04      6.157      0.000    1.37e+05    2.65e+05\n",
       "view_1         8.885e+04   9811.483      9.056      0.000    6.96e+04    1.08e+05\n",
       "view_2         8.039e+04   5962.544     13.483      0.000    6.87e+04    9.21e+04\n",
       "view_3         1.735e+05   8118.212     21.377      0.000    1.58e+05    1.89e+05\n",
       "view_4           3.4e+05   1.23e+04     27.575      0.000    3.16e+05    3.64e+05\n",
       "water_1        6.257e+05   1.77e+04     35.376      0.000    5.91e+05     6.6e+05\n",
       "zip_98004      7.968e+05   1.03e+04     77.394      0.000    7.77e+05    8.17e+05\n",
       "zip_98005      3.083e+05   1.38e+04     22.393      0.000    2.81e+05    3.35e+05\n",
       "zip_98006      2.512e+05   8493.624     29.570      0.000    2.35e+05    2.68e+05\n",
       "zip_98007      2.549e+05   1.49e+04     17.134      0.000    2.26e+05    2.84e+05\n",
       "zip_98008       2.51e+05   1.07e+04     23.497      0.000     2.3e+05    2.72e+05\n",
       "zip_98010       8.04e+04   1.76e+04      4.576      0.000     4.6e+04    1.15e+05\n",
       "zip_98011      1.151e+05   1.27e+04      9.036      0.000    9.01e+04     1.4e+05\n",
       "zip_98014      9.703e+04    1.6e+04      6.074      0.000    6.57e+04    1.28e+05\n",
       "zip_98019       6.91e+04   1.29e+04      5.354      0.000    4.38e+04    9.44e+04\n",
       "zip_98023     -3.721e+04   8205.709     -4.535      0.000   -5.33e+04   -2.11e+04\n",
       "zip_98024      1.595e+05   1.97e+04      8.089      0.000    1.21e+05    1.98e+05\n",
       "zip_98027      1.602e+05   9029.252     17.739      0.000    1.42e+05    1.78e+05\n",
       "zip_98028      1.127e+05   1.07e+04     10.577      0.000    9.18e+04    1.34e+05\n",
       "zip_98029      2.126e+05   1.01e+04     21.000      0.000    1.93e+05    2.32e+05\n",
       "zip_98033        3.8e+05   8792.653     43.223      0.000    3.63e+05    3.97e+05\n",
       "zip_98034      1.819e+05   7883.244     23.079      0.000    1.66e+05    1.97e+05\n",
       "zip_98038      5896.1293   7697.270      0.766      0.444   -9191.091     2.1e+04\n",
       "zip_98039      1.267e+06    2.5e+04     50.713      0.000    1.22e+06    1.32e+06\n",
       "zip_98040      5.337e+05    1.1e+04     48.671      0.000    5.12e+05    5.55e+05\n",
       "zip_98045      1.005e+05    1.2e+04      8.353      0.000    7.69e+04    1.24e+05\n",
       "zip_98052      2.374e+05   7798.039     30.443      0.000    2.22e+05    2.53e+05\n",
       "zip_98053      2.361e+05   9217.911     25.613      0.000    2.18e+05    2.54e+05\n",
       "zip_98056      9.422e+04   9021.142     10.444      0.000    7.65e+04    1.12e+05\n",
       "zip_98059      6.789e+04   8539.276      7.950      0.000    5.12e+04    8.46e+04\n",
       "zip_98065      7.478e+04   1.04e+04      7.211      0.000    5.45e+04    9.51e+04\n",
       "zip_98072      1.634e+05   1.09e+04     15.005      0.000    1.42e+05    1.85e+05\n",
       "zip_98074      2.045e+05   8838.225     23.135      0.000    1.87e+05    2.22e+05\n",
       "zip_98075      2.055e+05   9845.791     20.868      0.000    1.86e+05    2.25e+05\n",
       "zip_98077       1.42e+05   1.28e+04     11.066      0.000    1.17e+05    1.67e+05\n",
       "zip_98102      4.844e+05   1.73e+04     27.949      0.000     4.5e+05    5.18e+05\n",
       "zip_98103      3.284e+05   7713.175     42.573      0.000    3.13e+05    3.43e+05\n",
       "zip_98105      4.687e+05    1.2e+04     39.202      0.000    4.45e+05    4.92e+05\n",
       "zip_98106      1.163e+05   9916.473     11.733      0.000    9.69e+04    1.36e+05\n",
       "zip_98107       3.14e+05   1.11e+04     28.394      0.000    2.92e+05    3.36e+05\n",
       "zip_98108      9.855e+04    1.3e+04      7.558      0.000     7.3e+04    1.24e+05\n",
       "zip_98109      5.037e+05    1.7e+04     29.681      0.000     4.7e+05    5.37e+05\n",
       "zip_98112      6.539e+05   1.12e+04     58.506      0.000    6.32e+05    6.76e+05\n",
       "zip_98115      3.352e+05   7798.647     42.985      0.000     3.2e+05    3.51e+05\n",
       "zip_98116       2.93e+05   1.01e+04     29.133      0.000    2.73e+05    3.13e+05\n",
       "zip_98117      3.241e+05   7996.247     40.535      0.000    3.08e+05     3.4e+05\n",
       "zip_98118      1.536e+05   8277.815     18.559      0.000    1.37e+05     1.7e+05\n",
       "zip_98119      4.804e+05   1.32e+04     36.304      0.000    4.54e+05    5.06e+05\n",
       "zip_98122      3.352e+05   1.07e+04     31.368      0.000    3.14e+05    3.56e+05\n",
       "zip_98125      1.934e+05   9025.308     21.427      0.000    1.76e+05    2.11e+05\n",
       "zip_98126      2.036e+05   9728.427     20.927      0.000    1.85e+05    2.23e+05\n",
       "zip_98133      1.587e+05   8276.584     19.174      0.000    1.42e+05    1.75e+05\n",
       "zip_98136      2.448e+05   1.11e+04     21.977      0.000    2.23e+05    2.67e+05\n",
       "zip_98144      2.675e+05   9831.131     27.207      0.000    2.48e+05    2.87e+05\n",
       "zip_98146       1.04e+05   1.06e+04      9.783      0.000    8.32e+04    1.25e+05\n",
       "zip_98148      5.541e+04   2.32e+04      2.393      0.017       1e+04    1.01e+05\n",
       "zip_98155      1.394e+05   8651.210     16.109      0.000    1.22e+05    1.56e+05\n",
       "zip_98166      6.926e+04   1.13e+04      6.152      0.000    4.72e+04    9.13e+04\n",
       "zip_98177       2.23e+05   1.13e+04     19.742      0.000    2.01e+05    2.45e+05\n",
       "zip_98199      4.031e+05   1.02e+04     39.435      0.000    3.83e+05    4.23e+05\n",
       "==============================================================================\n",
       "Omnibus:                    16541.194   Durbin-Watson:                   1.986\n",
       "Prob(Omnibus):                  0.000   Jarque-Bera (JB):          1768606.528\n",
       "Skew:                           2.970   Prob(JB):                         0.00\n",
       "Kurtosis:                      46.933   Cond. No.                         93.6\n",
       "==============================================================================\n",
       "\n",
       "Warnings:\n",
       "[1] Standard Errors assume that the covariance matrix of the errors is correctly specified.\n",
       "\"\"\""
      ]
     },
     "execution_count": 368,
     "metadata": {},
     "output_type": "execute_result"
    }
   ],
   "source": [
    "outcome2 = 'price'\n",
    "predictors_2 = data_final.drop('price', axis=1)\n",
    "pred_sum_2 = '+'.join(predictors_2.columns)\n",
    "formula = outcome2 + '~' + pred_sum_2\n",
    "model2 = ols(formula=formula, data=data_final).fit()\n",
    "model2.summary()"
   ]
  },
  {
   "cell_type": "code",
   "execution_count": 370,
   "metadata": {
    "ExecuteTime": {
     "end_time": "2020-04-21T02:03:58.876205Z",
     "start_time": "2020-04-21T02:03:58.869294Z"
    }
   },
   "outputs": [],
   "source": [
    "data_final.drop(['zip_98038'],axis=1,inplace=True)"
   ]
  },
  {
   "cell_type": "code",
   "execution_count": 371,
   "metadata": {
    "ExecuteTime": {
     "end_time": "2020-04-21T02:04:01.848802Z",
     "start_time": "2020-04-21T02:04:01.396367Z"
    }
   },
   "outputs": [
    {
     "data": {
      "text/html": [
       "<table class=\"simpletable\">\n",
       "<caption>OLS Regression Results</caption>\n",
       "<tr>\n",
       "  <th>Dep. Variable:</th>          <td>price</td>      <th>  R-squared:         </th>  <td>   0.778</td>  \n",
       "</tr>\n",
       "<tr>\n",
       "  <th>Model:</th>                   <td>OLS</td>       <th>  Adj. R-squared:    </th>  <td>   0.777</td>  \n",
       "</tr>\n",
       "<tr>\n",
       "  <th>Method:</th>             <td>Least Squares</td>  <th>  F-statistic:       </th>  <td>   1079.</td>  \n",
       "</tr>\n",
       "<tr>\n",
       "  <th>Date:</th>             <td>Mon, 20 Apr 2020</td> <th>  Prob (F-statistic):</th>   <td>  0.00</td>   \n",
       "</tr>\n",
       "<tr>\n",
       "  <th>Time:</th>                 <td>22:04:01</td>     <th>  Log-Likelihood:    </th> <td>-2.9113e+05</td>\n",
       "</tr>\n",
       "<tr>\n",
       "  <th>No. Observations:</th>      <td> 21597</td>      <th>  AIC:               </th>  <td>5.824e+05</td> \n",
       "</tr>\n",
       "<tr>\n",
       "  <th>Df Residuals:</th>          <td> 21526</td>      <th>  BIC:               </th>  <td>5.830e+05</td> \n",
       "</tr>\n",
       "<tr>\n",
       "  <th>Df Model:</th>              <td>    70</td>      <th>                     </th>      <td> </td>     \n",
       "</tr>\n",
       "<tr>\n",
       "  <th>Covariance Type:</th>      <td>nonrobust</td>    <th>                     </th>      <td> </td>     \n",
       "</tr>\n",
       "</table>\n",
       "<table class=\"simpletable\">\n",
       "<tr>\n",
       "        <td></td>           <th>coef</th>     <th>std err</th>      <th>t</th>      <th>P>|t|</th>  <th>[0.025</th>    <th>0.975]</th>  \n",
       "</tr>\n",
       "<tr>\n",
       "  <th>Intercept</th>     <td> 1.749e+05</td> <td> 3.24e+04</td> <td>    5.395</td> <td> 0.000</td> <td> 1.11e+05</td> <td> 2.38e+05</td>\n",
       "</tr>\n",
       "<tr>\n",
       "  <th>bedrooms</th>      <td> 1.311e+04</td> <td> 1445.175</td> <td>    9.074</td> <td> 0.000</td> <td> 1.03e+04</td> <td> 1.59e+04</td>\n",
       "</tr>\n",
       "<tr>\n",
       "  <th>bathrooms</th>     <td> 8.212e+04</td> <td> 1848.249</td> <td>   44.433</td> <td> 0.000</td> <td> 7.85e+04</td> <td> 8.57e+04</td>\n",
       "</tr>\n",
       "<tr>\n",
       "  <th>sqft_lot</th>      <td> 1.845e+04</td> <td> 1260.893</td> <td>   14.633</td> <td> 0.000</td> <td>  1.6e+04</td> <td> 2.09e+04</td>\n",
       "</tr>\n",
       "<tr>\n",
       "  <th>yr_built</th>      <td>-1.838e+04</td> <td> 1730.197</td> <td>  -10.626</td> <td> 0.000</td> <td>-2.18e+04</td> <td> -1.5e+04</td>\n",
       "</tr>\n",
       "<tr>\n",
       "  <th>sqft_living15</th> <td> 9.394e+04</td> <td> 1757.267</td> <td>   53.456</td> <td> 0.000</td> <td> 9.05e+04</td> <td> 9.74e+04</td>\n",
       "</tr>\n",
       "<tr>\n",
       "  <th>grade_11</th>      <td> 3.952e+05</td> <td> 9396.318</td> <td>   42.059</td> <td> 0.000</td> <td> 3.77e+05</td> <td> 4.14e+05</td>\n",
       "</tr>\n",
       "<tr>\n",
       "  <th>grade_12</th>      <td> 8.542e+05</td> <td> 1.91e+04</td> <td>   44.727</td> <td> 0.000</td> <td> 8.17e+05</td> <td> 8.92e+05</td>\n",
       "</tr>\n",
       "<tr>\n",
       "  <th>grade_13</th>      <td> 2.162e+06</td> <td> 4.88e+04</td> <td>   44.313</td> <td> 0.000</td> <td> 2.07e+06</td> <td> 2.26e+06</td>\n",
       "</tr>\n",
       "<tr>\n",
       "  <th>cond_2</th>        <td> 1.208e+05</td> <td> 3.49e+04</td> <td>    3.459</td> <td> 0.001</td> <td> 5.23e+04</td> <td> 1.89e+05</td>\n",
       "</tr>\n",
       "<tr>\n",
       "  <th>cond_3</th>        <td> 1.448e+05</td> <td> 3.24e+04</td> <td>    4.471</td> <td> 0.000</td> <td> 8.13e+04</td> <td> 2.08e+05</td>\n",
       "</tr>\n",
       "<tr>\n",
       "  <th>cond_4</th>        <td> 1.581e+05</td> <td> 3.24e+04</td> <td>    4.881</td> <td> 0.000</td> <td> 9.46e+04</td> <td> 2.22e+05</td>\n",
       "</tr>\n",
       "<tr>\n",
       "  <th>cond_5</th>        <td> 2.006e+05</td> <td> 3.26e+04</td> <td>    6.156</td> <td> 0.000</td> <td> 1.37e+05</td> <td> 2.64e+05</td>\n",
       "</tr>\n",
       "<tr>\n",
       "  <th>view_1</th>        <td>  8.87e+04</td> <td> 9809.561</td> <td>    9.043</td> <td> 0.000</td> <td> 6.95e+04</td> <td> 1.08e+05</td>\n",
       "</tr>\n",
       "<tr>\n",
       "  <th>view_2</th>        <td> 8.023e+04</td> <td> 5958.659</td> <td>   13.464</td> <td> 0.000</td> <td> 6.85e+04</td> <td> 9.19e+04</td>\n",
       "</tr>\n",
       "<tr>\n",
       "  <th>view_3</th>        <td> 1.733e+05</td> <td> 8111.552</td> <td>   21.364</td> <td> 0.000</td> <td> 1.57e+05</td> <td> 1.89e+05</td>\n",
       "</tr>\n",
       "<tr>\n",
       "  <th>view_4</th>        <td> 3.399e+05</td> <td> 1.23e+04</td> <td>   27.567</td> <td> 0.000</td> <td> 3.16e+05</td> <td> 3.64e+05</td>\n",
       "</tr>\n",
       "<tr>\n",
       "  <th>water_1</th>       <td> 6.255e+05</td> <td> 1.77e+04</td> <td>   35.372</td> <td> 0.000</td> <td> 5.91e+05</td> <td>  6.6e+05</td>\n",
       "</tr>\n",
       "<tr>\n",
       "  <th>zip_98004</th>     <td>  7.96e+05</td> <td> 1.03e+04</td> <td>   77.662</td> <td> 0.000</td> <td> 7.76e+05</td> <td> 8.16e+05</td>\n",
       "</tr>\n",
       "<tr>\n",
       "  <th>zip_98005</th>     <td> 3.075e+05</td> <td> 1.37e+04</td> <td>   22.394</td> <td> 0.000</td> <td> 2.81e+05</td> <td> 3.34e+05</td>\n",
       "</tr>\n",
       "<tr>\n",
       "  <th>zip_98006</th>     <td> 2.504e+05</td> <td> 8436.537</td> <td>   29.681</td> <td> 0.000</td> <td> 2.34e+05</td> <td> 2.67e+05</td>\n",
       "</tr>\n",
       "<tr>\n",
       "  <th>zip_98007</th>     <td> 2.542e+05</td> <td> 1.48e+04</td> <td>   17.119</td> <td> 0.000</td> <td> 2.25e+05</td> <td> 2.83e+05</td>\n",
       "</tr>\n",
       "<tr>\n",
       "  <th>zip_98008</th>     <td> 2.503e+05</td> <td> 1.06e+04</td> <td>   23.508</td> <td> 0.000</td> <td> 2.29e+05</td> <td> 2.71e+05</td>\n",
       "</tr>\n",
       "<tr>\n",
       "  <th>zip_98010</th>     <td> 7.966e+04</td> <td> 1.75e+04</td> <td>    4.541</td> <td> 0.000</td> <td> 4.53e+04</td> <td> 1.14e+05</td>\n",
       "</tr>\n",
       "<tr>\n",
       "  <th>zip_98011</th>     <td> 1.143e+05</td> <td> 1.27e+04</td> <td>    9.003</td> <td> 0.000</td> <td> 8.94e+04</td> <td> 1.39e+05</td>\n",
       "</tr>\n",
       "<tr>\n",
       "  <th>zip_98014</th>     <td> 9.627e+04</td> <td> 1.59e+04</td> <td>    6.038</td> <td> 0.000</td> <td>  6.5e+04</td> <td> 1.28e+05</td>\n",
       "</tr>\n",
       "<tr>\n",
       "  <th>zip_98019</th>     <td> 6.829e+04</td> <td> 1.29e+04</td> <td>    5.309</td> <td> 0.000</td> <td> 4.31e+04</td> <td> 9.35e+04</td>\n",
       "</tr>\n",
       "<tr>\n",
       "  <th>zip_98023</th>     <td>-3.791e+04</td> <td> 8154.021</td> <td>   -4.650</td> <td> 0.000</td> <td>-5.39e+04</td> <td>-2.19e+04</td>\n",
       "</tr>\n",
       "<tr>\n",
       "  <th>zip_98024</th>     <td> 1.588e+05</td> <td> 1.97e+04</td> <td>    8.061</td> <td> 0.000</td> <td>  1.2e+05</td> <td> 1.97e+05</td>\n",
       "</tr>\n",
       "<tr>\n",
       "  <th>zip_98027</th>     <td> 1.594e+05</td> <td> 8968.444</td> <td>   17.770</td> <td> 0.000</td> <td> 1.42e+05</td> <td> 1.77e+05</td>\n",
       "</tr>\n",
       "<tr>\n",
       "  <th>zip_98028</th>     <td>  1.12e+05</td> <td> 1.06e+04</td> <td>   10.551</td> <td> 0.000</td> <td> 9.12e+04</td> <td> 1.33e+05</td>\n",
       "</tr>\n",
       "<tr>\n",
       "  <th>zip_98029</th>     <td> 2.118e+05</td> <td> 1.01e+04</td> <td>   21.039</td> <td> 0.000</td> <td> 1.92e+05</td> <td> 2.32e+05</td>\n",
       "</tr>\n",
       "<tr>\n",
       "  <th>zip_98033</th>     <td> 3.793e+05</td> <td> 8742.144</td> <td>   43.391</td> <td> 0.000</td> <td> 3.62e+05</td> <td> 3.96e+05</td>\n",
       "</tr>\n",
       "<tr>\n",
       "  <th>zip_98034</th>     <td> 1.812e+05</td> <td> 7831.550</td> <td>   23.143</td> <td> 0.000</td> <td> 1.66e+05</td> <td> 1.97e+05</td>\n",
       "</tr>\n",
       "<tr>\n",
       "  <th>zip_98039</th>     <td> 1.266e+06</td> <td>  2.5e+04</td> <td>   50.723</td> <td> 0.000</td> <td> 1.22e+06</td> <td> 1.32e+06</td>\n",
       "</tr>\n",
       "<tr>\n",
       "  <th>zip_98040</th>     <td>  5.33e+05</td> <td> 1.09e+04</td> <td>   48.784</td> <td> 0.000</td> <td> 5.12e+05</td> <td> 5.54e+05</td>\n",
       "</tr>\n",
       "<tr>\n",
       "  <th>zip_98045</th>     <td> 9.975e+04</td> <td>  1.2e+04</td> <td>    8.319</td> <td> 0.000</td> <td> 7.62e+04</td> <td> 1.23e+05</td>\n",
       "</tr>\n",
       "<tr>\n",
       "  <th>zip_98052</th>     <td> 2.366e+05</td> <td> 7730.312</td> <td>   30.608</td> <td> 0.000</td> <td> 2.21e+05</td> <td> 2.52e+05</td>\n",
       "</tr>\n",
       "<tr>\n",
       "  <th>zip_98053</th>     <td> 2.352e+05</td> <td> 9146.056</td> <td>   25.719</td> <td> 0.000</td> <td> 2.17e+05</td> <td> 2.53e+05</td>\n",
       "</tr>\n",
       "<tr>\n",
       "  <th>zip_98056</th>     <td> 9.353e+04</td> <td> 8976.533</td> <td>   10.420</td> <td> 0.000</td> <td> 7.59e+04</td> <td> 1.11e+05</td>\n",
       "</tr>\n",
       "<tr>\n",
       "  <th>zip_98059</th>     <td>  6.71e+04</td> <td> 8476.393</td> <td>    7.916</td> <td> 0.000</td> <td> 5.05e+04</td> <td> 8.37e+04</td>\n",
       "</tr>\n",
       "<tr>\n",
       "  <th>zip_98065</th>     <td> 7.392e+04</td> <td> 1.03e+04</td> <td>    7.170</td> <td> 0.000</td> <td> 5.37e+04</td> <td> 9.41e+04</td>\n",
       "</tr>\n",
       "<tr>\n",
       "  <th>zip_98072</th>     <td> 1.626e+05</td> <td> 1.08e+04</td> <td>   15.000</td> <td> 0.000</td> <td> 1.41e+05</td> <td> 1.84e+05</td>\n",
       "</tr>\n",
       "<tr>\n",
       "  <th>zip_98074</th>     <td> 2.036e+05</td> <td> 8770.954</td> <td>   23.218</td> <td> 0.000</td> <td> 1.86e+05</td> <td> 2.21e+05</td>\n",
       "</tr>\n",
       "<tr>\n",
       "  <th>zip_98075</th>     <td> 2.046e+05</td> <td> 9777.669</td> <td>   20.923</td> <td> 0.000</td> <td> 1.85e+05</td> <td> 2.24e+05</td>\n",
       "</tr>\n",
       "<tr>\n",
       "  <th>zip_98077</th>     <td> 1.411e+05</td> <td> 1.28e+04</td> <td>   11.042</td> <td> 0.000</td> <td> 1.16e+05</td> <td> 1.66e+05</td>\n",
       "</tr>\n",
       "<tr>\n",
       "  <th>zip_98102</th>     <td> 4.838e+05</td> <td> 1.73e+04</td> <td>   27.944</td> <td> 0.000</td> <td>  4.5e+05</td> <td> 5.18e+05</td>\n",
       "</tr>\n",
       "<tr>\n",
       "  <th>zip_98103</th>     <td> 3.278e+05</td> <td> 7676.615</td> <td>   42.700</td> <td> 0.000</td> <td> 3.13e+05</td> <td> 3.43e+05</td>\n",
       "</tr>\n",
       "<tr>\n",
       "  <th>zip_98105</th>     <td> 4.682e+05</td> <td> 1.19e+04</td> <td>   39.230</td> <td> 0.000</td> <td> 4.45e+05</td> <td> 4.92e+05</td>\n",
       "</tr>\n",
       "<tr>\n",
       "  <th>zip_98106</th>     <td> 1.157e+05</td> <td> 9885.471</td> <td>   11.709</td> <td> 0.000</td> <td> 9.64e+04</td> <td> 1.35e+05</td>\n",
       "</tr>\n",
       "<tr>\n",
       "  <th>zip_98107</th>     <td> 3.134e+05</td> <td>  1.1e+04</td> <td>   28.411</td> <td> 0.000</td> <td> 2.92e+05</td> <td> 3.35e+05</td>\n",
       "</tr>\n",
       "<tr>\n",
       "  <th>zip_98108</th>     <td> 9.796e+04</td> <td>  1.3e+04</td> <td>    7.526</td> <td> 0.000</td> <td> 7.24e+04</td> <td> 1.23e+05</td>\n",
       "</tr>\n",
       "<tr>\n",
       "  <th>zip_98109</th>     <td> 5.031e+05</td> <td>  1.7e+04</td> <td>   29.676</td> <td> 0.000</td> <td>  4.7e+05</td> <td> 5.36e+05</td>\n",
       "</tr>\n",
       "<tr>\n",
       "  <th>zip_98112</th>     <td> 6.533e+05</td> <td> 1.11e+04</td> <td>   58.609</td> <td> 0.000</td> <td> 6.31e+05</td> <td> 6.75e+05</td>\n",
       "</tr>\n",
       "<tr>\n",
       "  <th>zip_98115</th>     <td> 3.347e+05</td> <td> 7763.237</td> <td>   43.108</td> <td> 0.000</td> <td> 3.19e+05</td> <td>  3.5e+05</td>\n",
       "</tr>\n",
       "<tr>\n",
       "  <th>zip_98116</th>     <td> 2.925e+05</td> <td>    1e+04</td> <td>   29.155</td> <td> 0.000</td> <td> 2.73e+05</td> <td> 3.12e+05</td>\n",
       "</tr>\n",
       "<tr>\n",
       "  <th>zip_98117</th>     <td> 3.236e+05</td> <td> 7964.010</td> <td>   40.630</td> <td> 0.000</td> <td> 3.08e+05</td> <td> 3.39e+05</td>\n",
       "</tr>\n",
       "<tr>\n",
       "  <th>zip_98118</th>     <td> 1.531e+05</td> <td> 8245.802</td> <td>   18.563</td> <td> 0.000</td> <td> 1.37e+05</td> <td> 1.69e+05</td>\n",
       "</tr>\n",
       "<tr>\n",
       "  <th>zip_98119</th>     <td> 4.798e+05</td> <td> 1.32e+04</td> <td>   36.319</td> <td> 0.000</td> <td> 4.54e+05</td> <td> 5.06e+05</td>\n",
       "</tr>\n",
       "<tr>\n",
       "  <th>zip_98122</th>     <td> 3.347e+05</td> <td> 1.07e+04</td> <td>   31.394</td> <td> 0.000</td> <td> 3.14e+05</td> <td> 3.56e+05</td>\n",
       "</tr>\n",
       "<tr>\n",
       "  <th>zip_98125</th>     <td> 1.928e+05</td> <td> 8991.191</td> <td>   21.441</td> <td> 0.000</td> <td> 1.75e+05</td> <td>  2.1e+05</td>\n",
       "</tr>\n",
       "<tr>\n",
       "  <th>zip_98126</th>     <td> 2.031e+05</td> <td> 9703.317</td> <td>   20.926</td> <td> 0.000</td> <td> 1.84e+05</td> <td> 2.22e+05</td>\n",
       "</tr>\n",
       "<tr>\n",
       "  <th>zip_98133</th>     <td> 1.581e+05</td> <td> 8238.184</td> <td>   19.189</td> <td> 0.000</td> <td> 1.42e+05</td> <td> 1.74e+05</td>\n",
       "</tr>\n",
       "<tr>\n",
       "  <th>zip_98136</th>     <td> 2.442e+05</td> <td> 1.11e+04</td> <td>   21.974</td> <td> 0.000</td> <td> 2.22e+05</td> <td> 2.66e+05</td>\n",
       "</tr>\n",
       "<tr>\n",
       "  <th>zip_98144</th>     <td> 2.669e+05</td> <td> 9801.292</td> <td>   27.230</td> <td> 0.000</td> <td> 2.48e+05</td> <td> 2.86e+05</td>\n",
       "</tr>\n",
       "<tr>\n",
       "  <th>zip_98146</th>     <td> 1.035e+05</td> <td> 1.06e+04</td> <td>    9.754</td> <td> 0.000</td> <td> 8.27e+04</td> <td> 1.24e+05</td>\n",
       "</tr>\n",
       "<tr>\n",
       "  <th>zip_98148</th>     <td> 5.478e+04</td> <td> 2.31e+04</td> <td>    2.367</td> <td> 0.018</td> <td> 9417.933</td> <td>    1e+05</td>\n",
       "</tr>\n",
       "<tr>\n",
       "  <th>zip_98155</th>     <td> 1.388e+05</td> <td> 8614.165</td> <td>   16.107</td> <td> 0.000</td> <td> 1.22e+05</td> <td> 1.56e+05</td>\n",
       "</tr>\n",
       "<tr>\n",
       "  <th>zip_98166</th>     <td> 6.869e+04</td> <td> 1.12e+04</td> <td>    6.115</td> <td> 0.000</td> <td> 4.67e+04</td> <td> 9.07e+04</td>\n",
       "</tr>\n",
       "<tr>\n",
       "  <th>zip_98177</th>     <td> 2.224e+05</td> <td> 1.13e+04</td> <td>   19.739</td> <td> 0.000</td> <td>    2e+05</td> <td> 2.44e+05</td>\n",
       "</tr>\n",
       "<tr>\n",
       "  <th>zip_98199</th>     <td> 4.025e+05</td> <td> 1.02e+04</td> <td>   39.493</td> <td> 0.000</td> <td> 3.82e+05</td> <td> 4.22e+05</td>\n",
       "</tr>\n",
       "</table>\n",
       "<table class=\"simpletable\">\n",
       "<tr>\n",
       "  <th>Omnibus:</th>       <td>16539.712</td> <th>  Durbin-Watson:     </th>  <td>   1.986</td>  \n",
       "</tr>\n",
       "<tr>\n",
       "  <th>Prob(Omnibus):</th>  <td> 0.000</td>   <th>  Jarque-Bera (JB):  </th> <td>1768820.967</td>\n",
       "</tr>\n",
       "<tr>\n",
       "  <th>Skew:</th>           <td> 2.970</td>   <th>  Prob(JB):          </th>  <td>    0.00</td>  \n",
       "</tr>\n",
       "<tr>\n",
       "  <th>Kurtosis:</th>       <td>46.936</td>   <th>  Cond. No.          </th>  <td>    93.6</td>  \n",
       "</tr>\n",
       "</table><br/><br/>Warnings:<br/>[1] Standard Errors assume that the covariance matrix of the errors is correctly specified."
      ],
      "text/plain": [
       "<class 'statsmodels.iolib.summary.Summary'>\n",
       "\"\"\"\n",
       "                            OLS Regression Results                            \n",
       "==============================================================================\n",
       "Dep. Variable:                  price   R-squared:                       0.778\n",
       "Model:                            OLS   Adj. R-squared:                  0.777\n",
       "Method:                 Least Squares   F-statistic:                     1079.\n",
       "Date:                Mon, 20 Apr 2020   Prob (F-statistic):               0.00\n",
       "Time:                        22:04:01   Log-Likelihood:            -2.9113e+05\n",
       "No. Observations:               21597   AIC:                         5.824e+05\n",
       "Df Residuals:                   21526   BIC:                         5.830e+05\n",
       "Df Model:                          70                                         \n",
       "Covariance Type:            nonrobust                                         \n",
       "=================================================================================\n",
       "                    coef    std err          t      P>|t|      [0.025      0.975]\n",
       "---------------------------------------------------------------------------------\n",
       "Intercept      1.749e+05   3.24e+04      5.395      0.000    1.11e+05    2.38e+05\n",
       "bedrooms       1.311e+04   1445.175      9.074      0.000    1.03e+04    1.59e+04\n",
       "bathrooms      8.212e+04   1848.249     44.433      0.000    7.85e+04    8.57e+04\n",
       "sqft_lot       1.845e+04   1260.893     14.633      0.000     1.6e+04    2.09e+04\n",
       "yr_built      -1.838e+04   1730.197    -10.626      0.000   -2.18e+04    -1.5e+04\n",
       "sqft_living15  9.394e+04   1757.267     53.456      0.000    9.05e+04    9.74e+04\n",
       "grade_11       3.952e+05   9396.318     42.059      0.000    3.77e+05    4.14e+05\n",
       "grade_12       8.542e+05   1.91e+04     44.727      0.000    8.17e+05    8.92e+05\n",
       "grade_13       2.162e+06   4.88e+04     44.313      0.000    2.07e+06    2.26e+06\n",
       "cond_2         1.208e+05   3.49e+04      3.459      0.001    5.23e+04    1.89e+05\n",
       "cond_3         1.448e+05   3.24e+04      4.471      0.000    8.13e+04    2.08e+05\n",
       "cond_4         1.581e+05   3.24e+04      4.881      0.000    9.46e+04    2.22e+05\n",
       "cond_5         2.006e+05   3.26e+04      6.156      0.000    1.37e+05    2.64e+05\n",
       "view_1          8.87e+04   9809.561      9.043      0.000    6.95e+04    1.08e+05\n",
       "view_2         8.023e+04   5958.659     13.464      0.000    6.85e+04    9.19e+04\n",
       "view_3         1.733e+05   8111.552     21.364      0.000    1.57e+05    1.89e+05\n",
       "view_4         3.399e+05   1.23e+04     27.567      0.000    3.16e+05    3.64e+05\n",
       "water_1        6.255e+05   1.77e+04     35.372      0.000    5.91e+05     6.6e+05\n",
       "zip_98004       7.96e+05   1.03e+04     77.662      0.000    7.76e+05    8.16e+05\n",
       "zip_98005      3.075e+05   1.37e+04     22.394      0.000    2.81e+05    3.34e+05\n",
       "zip_98006      2.504e+05   8436.537     29.681      0.000    2.34e+05    2.67e+05\n",
       "zip_98007      2.542e+05   1.48e+04     17.119      0.000    2.25e+05    2.83e+05\n",
       "zip_98008      2.503e+05   1.06e+04     23.508      0.000    2.29e+05    2.71e+05\n",
       "zip_98010      7.966e+04   1.75e+04      4.541      0.000    4.53e+04    1.14e+05\n",
       "zip_98011      1.143e+05   1.27e+04      9.003      0.000    8.94e+04    1.39e+05\n",
       "zip_98014      9.627e+04   1.59e+04      6.038      0.000     6.5e+04    1.28e+05\n",
       "zip_98019      6.829e+04   1.29e+04      5.309      0.000    4.31e+04    9.35e+04\n",
       "zip_98023     -3.791e+04   8154.021     -4.650      0.000   -5.39e+04   -2.19e+04\n",
       "zip_98024      1.588e+05   1.97e+04      8.061      0.000     1.2e+05    1.97e+05\n",
       "zip_98027      1.594e+05   8968.444     17.770      0.000    1.42e+05    1.77e+05\n",
       "zip_98028       1.12e+05   1.06e+04     10.551      0.000    9.12e+04    1.33e+05\n",
       "zip_98029      2.118e+05   1.01e+04     21.039      0.000    1.92e+05    2.32e+05\n",
       "zip_98033      3.793e+05   8742.144     43.391      0.000    3.62e+05    3.96e+05\n",
       "zip_98034      1.812e+05   7831.550     23.143      0.000    1.66e+05    1.97e+05\n",
       "zip_98039      1.266e+06    2.5e+04     50.723      0.000    1.22e+06    1.32e+06\n",
       "zip_98040       5.33e+05   1.09e+04     48.784      0.000    5.12e+05    5.54e+05\n",
       "zip_98045      9.975e+04    1.2e+04      8.319      0.000    7.62e+04    1.23e+05\n",
       "zip_98052      2.366e+05   7730.312     30.608      0.000    2.21e+05    2.52e+05\n",
       "zip_98053      2.352e+05   9146.056     25.719      0.000    2.17e+05    2.53e+05\n",
       "zip_98056      9.353e+04   8976.533     10.420      0.000    7.59e+04    1.11e+05\n",
       "zip_98059       6.71e+04   8476.393      7.916      0.000    5.05e+04    8.37e+04\n",
       "zip_98065      7.392e+04   1.03e+04      7.170      0.000    5.37e+04    9.41e+04\n",
       "zip_98072      1.626e+05   1.08e+04     15.000      0.000    1.41e+05    1.84e+05\n",
       "zip_98074      2.036e+05   8770.954     23.218      0.000    1.86e+05    2.21e+05\n",
       "zip_98075      2.046e+05   9777.669     20.923      0.000    1.85e+05    2.24e+05\n",
       "zip_98077      1.411e+05   1.28e+04     11.042      0.000    1.16e+05    1.66e+05\n",
       "zip_98102      4.838e+05   1.73e+04     27.944      0.000     4.5e+05    5.18e+05\n",
       "zip_98103      3.278e+05   7676.615     42.700      0.000    3.13e+05    3.43e+05\n",
       "zip_98105      4.682e+05   1.19e+04     39.230      0.000    4.45e+05    4.92e+05\n",
       "zip_98106      1.157e+05   9885.471     11.709      0.000    9.64e+04    1.35e+05\n",
       "zip_98107      3.134e+05    1.1e+04     28.411      0.000    2.92e+05    3.35e+05\n",
       "zip_98108      9.796e+04    1.3e+04      7.526      0.000    7.24e+04    1.23e+05\n",
       "zip_98109      5.031e+05    1.7e+04     29.676      0.000     4.7e+05    5.36e+05\n",
       "zip_98112      6.533e+05   1.11e+04     58.609      0.000    6.31e+05    6.75e+05\n",
       "zip_98115      3.347e+05   7763.237     43.108      0.000    3.19e+05     3.5e+05\n",
       "zip_98116      2.925e+05      1e+04     29.155      0.000    2.73e+05    3.12e+05\n",
       "zip_98117      3.236e+05   7964.010     40.630      0.000    3.08e+05    3.39e+05\n",
       "zip_98118      1.531e+05   8245.802     18.563      0.000    1.37e+05    1.69e+05\n",
       "zip_98119      4.798e+05   1.32e+04     36.319      0.000    4.54e+05    5.06e+05\n",
       "zip_98122      3.347e+05   1.07e+04     31.394      0.000    3.14e+05    3.56e+05\n",
       "zip_98125      1.928e+05   8991.191     21.441      0.000    1.75e+05     2.1e+05\n",
       "zip_98126      2.031e+05   9703.317     20.926      0.000    1.84e+05    2.22e+05\n",
       "zip_98133      1.581e+05   8238.184     19.189      0.000    1.42e+05    1.74e+05\n",
       "zip_98136      2.442e+05   1.11e+04     21.974      0.000    2.22e+05    2.66e+05\n",
       "zip_98144      2.669e+05   9801.292     27.230      0.000    2.48e+05    2.86e+05\n",
       "zip_98146      1.035e+05   1.06e+04      9.754      0.000    8.27e+04    1.24e+05\n",
       "zip_98148      5.478e+04   2.31e+04      2.367      0.018    9417.933       1e+05\n",
       "zip_98155      1.388e+05   8614.165     16.107      0.000    1.22e+05    1.56e+05\n",
       "zip_98166      6.869e+04   1.12e+04      6.115      0.000    4.67e+04    9.07e+04\n",
       "zip_98177      2.224e+05   1.13e+04     19.739      0.000       2e+05    2.44e+05\n",
       "zip_98199      4.025e+05   1.02e+04     39.493      0.000    3.82e+05    4.22e+05\n",
       "==============================================================================\n",
       "Omnibus:                    16539.712   Durbin-Watson:                   1.986\n",
       "Prob(Omnibus):                  0.000   Jarque-Bera (JB):          1768820.967\n",
       "Skew:                           2.970   Prob(JB):                         0.00\n",
       "Kurtosis:                      46.936   Cond. No.                         93.6\n",
       "==============================================================================\n",
       "\n",
       "Warnings:\n",
       "[1] Standard Errors assume that the covariance matrix of the errors is correctly specified.\n",
       "\"\"\""
      ]
     },
     "execution_count": 371,
     "metadata": {},
     "output_type": "execute_result"
    }
   ],
   "source": [
    "outcome3 = 'price'\n",
    "predictors_3 = data_final.drop('price', axis=1)\n",
    "pred_sum_3 = '+'.join(predictors_3.columns)\n",
    "formula = outcome2 + '~' + pred_sum_3\n",
    "model3 = ols(formula=formula, data=data_final).fit()\n",
    "model3.summary()"
   ]
  },
  {
   "cell_type": "code",
   "execution_count": null,
   "metadata": {
    "ExecuteTime": {
     "end_time": "2020-04-21T02:02:47.475407Z",
     "start_time": "2020-04-21T02:02:42.484Z"
    }
   },
   "outputs": [],
   "source": [
    "#import statsmodels.api as sm\n",
    "#data_final=sm.add_constant(data_final,prepend=False)\n",
    "# Instantiate model\n",
    "#slr_model=sm.OLS(sale_price,data_final)\n",
    "# fit the beta coefs\n",
    "#model_2=slr_model.fit()\n",
    "#print(model_2.summary())"
   ]
  },
  {
   "cell_type": "code",
   "execution_count": null,
   "metadata": {
    "ExecuteTime": {
     "end_time": "2020-04-21T02:02:47.477135Z",
     "start_time": "2020-04-21T02:02:42.487Z"
    }
   },
   "outputs": [],
   "source": [
    "fig, ax = plt.subplots(figsize=(10, 5))\n",
    "sns.stripplot(x='bedrooms',\n",
    "              y='price',\n",
    "              data=df)\n",
    "plt.title('Number of Bedrooms vs the price ')\n",
    "plt.show();"
   ]
  },
  {
   "cell_type": "code",
   "execution_count": null,
   "metadata": {
    "ExecuteTime": {
     "end_time": "2020-04-21T02:02:47.478884Z",
     "start_time": "2020-04-21T02:02:42.491Z"
    }
   },
   "outputs": [],
   "source": [
    "df.bedrooms.unique()\n"
   ]
  },
  {
   "cell_type": "code",
   "execution_count": null,
   "metadata": {
    "ExecuteTime": {
     "end_time": "2020-04-21T02:02:47.480793Z",
     "start_time": "2020-04-21T02:02:42.495Z"
    }
   },
   "outputs": [],
   "source": [
    "df.loc[df['bedrooms'] == 33]# look at entire bedroom outlier row , house this big would need more bathrooms\n",
    "    "
   ]
  },
  {
   "cell_type": "code",
   "execution_count": null,
   "metadata": {
    "ExecuteTime": {
     "end_time": "2020-04-21T02:02:47.482600Z",
     "start_time": "2020-04-21T02:02:42.497Z"
    }
   },
   "outputs": [],
   "source": [
    "# This row looks like an outlier, so we will drop this and see if this makes a difference to our corelation of bedrooms.\n",
    "df.drop(df[df.bedrooms == 33].index, inplace=True)\n",
    "\n"
   ]
  },
  {
   "cell_type": "code",
   "execution_count": null,
   "metadata": {
    "ExecuteTime": {
     "end_time": "2020-04-21T02:02:47.484772Z",
     "start_time": "2020-04-21T02:02:42.500Z"
    }
   },
   "outputs": [],
   "source": [
    "## model after dropping bedroom=33\n",
    "#import statsmodels.api as sm\n",
    "# Instantiate model\n",
    "#slr_model=sm.OLS(sale_price,data_final)\n",
    "# fit the beta coefs\n",
    "#model_3=slr_model.fit()\n",
    "#print(model_3.summary())\n"
   ]
  },
  {
   "cell_type": "code",
   "execution_count": null,
   "metadata": {
    "ExecuteTime": {
     "end_time": "2020-04-21T02:02:47.487123Z",
     "start_time": "2020-04-21T02:02:42.503Z"
    }
   },
   "outputs": [],
   "source": [
    "fig, ax = plt.subplots(figsize=(10, 5))\n",
    "sns.stripplot(x='bedrooms',\n",
    "              y='price',\n",
    "              data=df)\n",
    "plt.title('number of floors to the price ')\n",
    "plt.show()\n"
   ]
  },
  {
   "cell_type": "markdown",
   "metadata": {},
   "source": [
    "Dropping the house that has 33 rooms didn't make any difference. It is only one row out of 21596.\n",
    "\n",
    "The negative β coefficient for floor is interpreted that increasing the number of floors corresponds to a decrease of roughly $ 2,720  in Sale Price. I got a negative β coefficient for 'condition' category but the p-value was high supporting the null hypothesis. Therefore 'condition' of the house is not good feature to be considered. I will drop these predictors"
   ]
  },
  {
   "cell_type": "code",
   "execution_count": null,
   "metadata": {
    "ExecuteTime": {
     "end_time": "2020-04-21T02:02:47.489336Z",
     "start_time": "2020-04-21T02:02:42.508Z"
    }
   },
   "outputs": [],
   "source": [
    "### Dropping columns with p value >0.05\n",
    "data_final.drop(['floors','cond_2','cond_3','cond_4'], axis=1,inplace=True)\n"
   ]
  },
  {
   "cell_type": "code",
   "execution_count": null,
   "metadata": {
    "ExecuteTime": {
     "end_time": "2020-04-21T02:02:47.491275Z",
     "start_time": "2020-04-21T02:02:42.511Z"
    }
   },
   "outputs": [],
   "source": [
    "# Checking the model again after dropping bad predictors\n",
    "#import statsmodels.api as sm\n",
    "# Instantiate model\n",
    "#slr_model=sm.OLS(sale_price,data_final)\n",
    "# fit the beta coefs\n",
    "#model_4=slr_model.fit()\n",
    "#print(model_4.summary())"
   ]
  },
  {
   "cell_type": "code",
   "execution_count": null,
   "metadata": {
    "ExecuteTime": {
     "end_time": "2020-04-21T02:02:47.492934Z",
     "start_time": "2020-04-21T02:02:42.514Z"
    }
   },
   "outputs": [],
   "source": [
    "sns.countplot(df.bedrooms,order=df['bedrooms'].value_counts().index)"
   ]
  },
  {
   "cell_type": "code",
   "execution_count": null,
   "metadata": {
    "ExecuteTime": {
     "end_time": "2020-04-21T02:02:47.494995Z",
     "start_time": "2020-04-21T02:02:42.518Z"
    }
   },
   "outputs": [],
   "source": [
    "#import statsmodels.api as sm\n",
    "\n",
    "#sale_price=df['price'].values\n",
    "# use year built to predict price:add constant for intercept\n",
    "#data_final=sm.add_constant(data_final,prepend=False)\n",
    "\n",
    "# Instantiate model\n",
    "#slr_model=sm.OLS(sale_price,data_final)\n",
    "\n",
    "# fit the beta coefs\n",
    "#model_2=slr_model.fit()\n",
    "#print(model_2.summary())\n",
    "\n"
   ]
  },
  {
   "cell_type": "code",
   "execution_count": null,
   "metadata": {
    "ExecuteTime": {
     "end_time": "2020-04-21T02:02:47.496465Z",
     "start_time": "2020-04-21T02:02:42.520Z"
    }
   },
   "outputs": [],
   "source": [
    "#import statsmodels.api as sm\n",
    "\n",
    "#sale_price=df['price'].values\n",
    "# use year built to predict price:add constant for intercept\n",
    "#year_built=sm.add_constant(df['yr_built'],prepend=False)\n",
    "\n",
    "# Instantiate model\n",
    "#slr_model=sm.OLS(sale_price,year_built)\n",
    "\n",
    "# fit the beta coefs\n",
    "#model_1=slr_model.fit()\n",
    "#print(model_1.summary())\n",
    "\n",
    "\n"
   ]
  },
  {
   "cell_type": "markdown",
   "metadata": {},
   "source": [
    "The null hypothesis for a year built is beta =zero\n",
    "Model 1 Output The β coefficient for YearBuilt is significant according to the t-stat and p-value. Thus, I can reject the null hypothesis and accept the alternative hypothesis.Therefore year built is a feature. "
   ]
  },
  {
   "cell_type": "code",
   "execution_count": null,
   "metadata": {
    "ExecuteTime": {
     "end_time": "2020-04-21T02:02:47.498035Z",
     "start_time": "2020-04-21T02:02:42.524Z"
    }
   },
   "outputs": [],
   "source": [
    "#import statsmodels.api as sm\n",
    "#from statsmodels.formula.api import ols\n",
    "#output = 'price'\n",
    "#predictors = df.drop('price', axis=1)\n",
    "#pred_sum = \"+\".join(predictors.columns)\n",
    "#formula = output + \"~\" + predictors\n",
    "#model = ols(formula= formula, data=df).fit()\n",
    "#model.summary()\n",
    "\n",
    " # assign target to new variable\n"
   ]
  },
  {
   "cell_type": "code",
   "execution_count": null,
   "metadata": {
    "ExecuteTime": {
     "end_time": "2020-04-21T02:02:47.499825Z",
     "start_time": "2020-04-21T02:02:42.527Z"
    }
   },
   "outputs": [],
   "source": [
    "#dir(pp)"
   ]
  },
  {
   "cell_type": "code",
   "execution_count": null,
   "metadata": {
    "ExecuteTime": {
     "end_time": "2020-04-21T02:02:47.501668Z",
     "start_time": "2020-04-21T02:02:42.530Z"
    }
   },
   "outputs": [],
   "source": [
    "#profile=pp.ProfileReport(df)"
   ]
  },
  {
   "cell_type": "code",
   "execution_count": null,
   "metadata": {
    "ExecuteTime": {
     "end_time": "2020-04-21T02:02:47.503472Z",
     "start_time": "2020-04-21T02:02:42.533Z"
    }
   },
   "outputs": [],
   "source": [
    "#saving our profile\n",
    "#profile.to_file(outputfile='myprofile.html')"
   ]
  },
  {
   "cell_type": "code",
   "execution_count": null,
   "metadata": {
    "ExecuteTime": {
     "end_time": "2020-04-21T02:02:47.504916Z",
     "start_time": "2020-04-21T02:02:42.536Z"
    }
   },
   "outputs": [],
   "source": [
    "#pp.describe(df)"
   ]
  },
  {
   "cell_type": "markdown",
   "metadata": {},
   "source": [
    "We have 21 variables for  21597 houses. The total missing data is about 1.4% of my data and must be addressed.There is no duplicate data. I have 19 numerical inputs and 2 Categorical columns that are  sqft_basement(with 425 inputs of '?'and data column in format // // //. The columns waterfront, view and yr_renovated have missing data. Some encouraging columns are 'grade' that is normal distributed. first look of suggested work normalizing many features because of their diffrent scales.Grade is described as \"overall grade given to the housing unit, based on King County grading system\n",
    "\n",
    "sqft_above - square footage of house apart from basement\""
   ]
  },
  {
   "cell_type": "code",
   "execution_count": null,
   "metadata": {
    "ExecuteTime": {
     "end_time": "2020-04-21T02:02:47.506241Z",
     "start_time": "2020-04-21T02:02:42.539Z"
    }
   },
   "outputs": [],
   "source": [
    "plt.figure(figsize = (12,8))\n",
    "g=sns.lmplot(x=\"sqft_living\", y=\"price\", aspect=1.8,\n",
    "                    data=df, hue=\"floors\", fit_reg=False)\n",
    "g.set_titles(\"Floors by sqft_living and price\", fontsize=15)\n",
    "g.set_xlabels(\"Sqft Living\")\n",
    "g.set_ylabels(\"Price(US)\")\n",
    "plt.show()\n"
   ]
  },
  {
   "cell_type": "markdown",
   "metadata": {},
   "source": [
    "### Different Prediction Models"
   ]
  },
  {
   "cell_type": "markdown",
   "metadata": {},
   "source": [
    "We import train_test_split. This splits the data into required ratio (ex: 80–20), of which a certain ratio is considered for training the data, and the rest for testing the data. The data is trained to predict a line and then the test data is used to see if the line fits perfectly or not.\n",
    "PolynomialFeatures generates a new feature matrix consisting of all polynomial combinations of the features with degree less than or equal to the specified degree.\n",
    "The metrics is imported as the metric module implements functions assessing prediction error for specific purposes.\n",
    "In KNeighborsRegressor the target is predicted by local interpolation of the targets associated of the nearest neighbors in the training set."
   ]
  },
  {
   "cell_type": "code",
   "execution_count": 372,
   "metadata": {
    "ExecuteTime": {
     "end_time": "2020-04-21T02:07:43.105656Z",
     "start_time": "2020-04-21T02:07:43.055591Z"
    }
   },
   "outputs": [],
   "source": [
    "from sklearn.model_selection import train_test_split\n",
    "from sklearn import linear_model\n",
    "from sklearn.neighbors import KNeighborsRegressor\n",
    "from sklearn.preprocessing import PolynomialFeatures\n",
    "from sklearn import metrics\n",
    "from mpl_toolkits.mplot3d import Axes3D\n",
    "%matplotlib inline"
   ]
  },
  {
   "cell_type": "markdown",
   "metadata": {},
   "source": [
    "Here we splitting the data into 80:20 ratio of which train_size is 80%, test_size is 20%. train_test_split splits arrays or matrices into random train and test subsets. That means that everytime you run it without specifying random_state , you will get a different result, this is expected behavior. In order to get the same train ans test subsets we declare a random state. Here the x is ‘sqft_living’ and y is ‘price’. We are reshaping the x_train and y_train and the data is fitted. The x_test and y_test are used to predict the accuracy of the model. Here first we are calculating the squared mean error of y_test. The squared mean error for training and test are found. The intercept and coefficient of the line are found."
   ]
  },
  {
   "cell_type": "code",
   "execution_count": null,
   "metadata": {
    "ExecuteTime": {
     "end_time": "2020-04-21T02:02:47.508948Z",
     "start_time": "2020-04-21T02:02:42.547Z"
    }
   },
   "outputs": [],
   "source": [
    "df.head()"
   ]
  },
  {
   "cell_type": "code",
   "execution_count": 373,
   "metadata": {
    "ExecuteTime": {
     "end_time": "2020-04-21T02:07:47.313660Z",
     "start_time": "2020-04-21T02:07:47.295576Z"
    }
   },
   "outputs": [
    {
     "name": "stdout",
     "output_type": "stream",
     "text": [
      "16197 5400 16197 5400\n"
     ]
    }
   ],
   "source": [
    "feature_cols=['bedrooms','bathrooms','sqft_lot','floors','waterfront','view','condition','grade','sqft_basement','yr_built','yr_renovated','zipcode','lat','long','sqft_living15','sqft_lot15']\n",
    "\n",
    "X=df[feature_cols]\n",
    "\n",
    "y=df['price']\n",
    "# import train test split\n",
    "from sklearn.model_selection import train_test_split\n",
    "X_train, X_test, y_train, y_test = train_test_split(X, y)\n",
    "# A brief preview of our train test split\n",
    "print(len(X_train), len(X_test), len(y_train), len(y_test))\n"
   ]
  },
  {
   "cell_type": "markdown",
   "metadata": {},
   "source": [
    "Apply your model to the train set"
   ]
  },
  {
   "cell_type": "code",
   "execution_count": 374,
   "metadata": {
    "ExecuteTime": {
     "end_time": "2020-04-21T02:08:00.616624Z",
     "start_time": "2020-04-21T02:08:00.612558Z"
    }
   },
   "outputs": [],
   "source": [
    "from sklearn.linear_model import LinearRegression\n",
    "linreg = LinearRegression()"
   ]
  },
  {
   "cell_type": "code",
   "execution_count": 375,
   "metadata": {
    "ExecuteTime": {
     "end_time": "2020-04-21T02:08:04.384065Z",
     "start_time": "2020-04-21T02:08:04.366588Z"
    }
   },
   "outputs": [
    {
     "data": {
      "text/plain": [
       "LinearRegression(copy_X=True, fit_intercept=True, n_jobs=None, normalize=False)"
      ]
     },
     "execution_count": 375,
     "metadata": {},
     "output_type": "execute_result"
    },
    {
     "data": {
      "text/plain": [
       "LinearRegression(copy_X=True, fit_intercept=True, n_jobs=1, normalize=False)"
      ]
     },
     "execution_count": 375,
     "metadata": {},
     "output_type": "execute_result"
    },
    {
     "name": "stdout",
     "output_type": "stream",
     "text": [
      "12989641.49394272\n",
      "[-8.35048341e+03  9.55567285e+04  2.62295130e-01  2.86296919e+04\n",
      "  6.58693127e+05  4.94127797e+04  2.26737382e+04  1.41299590e+05\n",
      "  4.85397441e+01 -3.22391940e+03  2.18613450e+01 -5.29056914e+02\n",
      "  5.59417923e+05 -1.44024765e+05  8.89843610e+01 -1.85606838e-01]\n"
     ]
    },
    {
     "data": {
      "text/plain": [
       "<zip at 0x1c2759e548>"
      ]
     },
     "execution_count": 375,
     "metadata": {},
     "output_type": "execute_result"
    }
   ],
   "source": [
    "linreg.fit(X_train, y_train)\n",
    "LinearRegression(copy_X=True, fit_intercept=True, n_jobs=1, normalize=False)\n",
    "print (linreg.intercept_)\n",
    "print(linreg.coef_)\n",
    "zip(feature_cols,linreg.coef_)\n"
   ]
  },
  {
   "cell_type": "markdown",
   "metadata": {},
   "source": [
    "Calculate predictions on training and test sets"
   ]
  },
  {
   "cell_type": "code",
   "execution_count": 376,
   "metadata": {
    "ExecuteTime": {
     "end_time": "2020-04-21T02:09:20.311493Z",
     "start_time": "2020-04-21T02:09:20.305445Z"
    }
   },
   "outputs": [],
   "source": [
    "y_hat_train = linreg.predict(X_train)\n",
    "y_hat_test = linreg.predict(X_test)"
   ]
  },
  {
   "cell_type": "markdown",
   "metadata": {},
   "source": [
    "Calculate training and test residuals"
   ]
  },
  {
   "cell_type": "code",
   "execution_count": 377,
   "metadata": {
    "ExecuteTime": {
     "end_time": "2020-04-21T02:09:38.122453Z",
     "start_time": "2020-04-21T02:09:38.114127Z"
    }
   },
   "outputs": [],
   "source": [
    "train_residuals = y_hat_train - y_train\n",
    "test_residuals = y_hat_test - y_test"
   ]
  },
  {
   "cell_type": "markdown",
   "metadata": {},
   "source": [
    "### Calculate the Mean Squared Error (MSE)\n",
    "A good way to compare overall performance is to compare the mean squarred error for the predicted values on the training and test sets."
   ]
  },
  {
   "cell_type": "code",
   "execution_count": 378,
   "metadata": {
    "ExecuteTime": {
     "end_time": "2020-04-21T02:09:44.410635Z",
     "start_time": "2020-04-21T02:09:44.403656Z"
    }
   },
   "outputs": [
    {
     "name": "stdout",
     "output_type": "stream",
     "text": [
      "Train Mean Squarred Error: 44854466127.88497\n",
      "Test Mean Squarred Error: 45561286911.64015\n"
     ]
    }
   ],
   "source": [
    "from sklearn.metrics import mean_squared_error\n",
    "train_mse = mean_squared_error(y_train, y_hat_train)\n",
    "test_mse = mean_squared_error(y_test, y_hat_test)\n",
    "print('Train Mean Squarred Error:', train_mse)\n",
    "print('Test Mean Squarred Error:', test_mse)"
   ]
  },
  {
   "cell_type": "markdown",
   "metadata": {},
   "source": [
    "my test error is substantially worse than the train error, this is a sign that the model doesn't generalize well to future cases."
   ]
  },
  {
   "cell_type": "code",
   "execution_count": null,
   "metadata": {
    "ExecuteTime": {
     "end_time": "2020-04-21T02:02:47.522337Z",
     "start_time": "2020-04-21T02:02:42.570Z"
    }
   },
   "outputs": [],
   "source": [
    "train_data,test_data=train_test_split(df,train_size=0.8,random_state=3)\n",
    "reg=linear_model.LinearRegression()\n",
    "x_train=np.array(train_data['sqft_living']).reshape(-1,1)\n",
    "y_train=np.array(train_data['price']).reshape(-1,1)\n",
    "reg.fit(x_train,y_train)\n",
    "\n",
    "x_test=np.array(test_data['sqft_living']).reshape(-1,1)\n",
    "y_test=np.array(test_data['price']).reshape(-1,1)\n",
    "pred=reg.predict(x_test)\n",
    "print('linear model')\n",
    "mean_squared_error=metrics.mean_squared_error(y_test,pred)\n",
    "print('Sqaured mean error', round(np.sqrt(mean_squared_error),2))\n",
    "print('R squared training',round(reg.score(x_train,y_train),3))\n",
    "print('R sqaured testing',round(reg.score(x_test,y_test),3) )\n",
    "print('intercept',reg.intercept_)\n",
    "print('coefficient',reg.coef_)"
   ]
  },
  {
   "cell_type": "markdown",
   "metadata": {},
   "source": [
    "boxplot is plotted of grade,bedrooms,bathrooms with respect to the price"
   ]
  },
  {
   "cell_type": "code",
   "execution_count": null,
   "metadata": {
    "ExecuteTime": {
     "end_time": "2020-04-21T02:02:47.523650Z",
     "start_time": "2020-04-21T02:02:42.573Z"
    }
   },
   "outputs": [],
   "source": [
    "ig,ax=plt.subplots(2,1,figsize=(15,10))\n",
    "sns.boxplot(x=train_data['grade'],y=train_data['price'],ax=ax[0])\n",
    "sns.boxplot(x=train_data['bedrooms'],y=train_data['price'],ax=ax[1])\n",
    "_ , axes = plt.subplots(1, 1, figsize=(15,10))\n",
    "sns.boxplot(x=train_data['bathrooms'],y=train_data['price'])"
   ]
  },
  {
   "cell_type": "markdown",
   "metadata": {},
   "source": [
    "The features we are considering are ‘bedrooms’, ‘grade’, ‘sqft_living’ and ‘sqft_above’. These are considered are one feature namely features1. Now the data is fitted into the model and test_data of features1 are used for prediction. Mean squared error is calculated for y_test. The mean squared error is rounded of upto 2 decimals. R squared error for both training and test is calculated. The intercept of the line is calculated along with coefficient of individual feature."
   ]
  },
  {
   "cell_type": "code",
   "execution_count": null,
   "metadata": {
    "ExecuteTime": {
     "end_time": "2020-04-21T02:02:47.525244Z",
     "start_time": "2020-04-21T02:02:42.577Z"
    }
   },
   "outputs": [],
   "source": [
    "features1=['bedrooms','grade','sqft_living','sqft_above','bathrooms','sqft_lot','floors','lat']\n",
    "reg=linear_model.LinearRegression()\n",
    "reg.fit(train_data[features1],train_data['price'])\n",
    "pred=reg.predict(test_data[features1])\n",
    "print('complex_model 1')\n",
    "mean_squared_error=metrics.mean_squared_error(y_test,pred)\n",
    "print('mean squared error(MSE)', round(np.sqrt(mean_squared_error),2))\n",
    "print('R squared training',round(reg.score(train_data[features1],train_data['price']),3))\n",
    "print('R squared training', round(reg.score(test_data[features1],test_data['price']),3))\n",
    "print('Intercept: ', reg.intercept_)\n",
    "print('Coefficient:', reg.coef_)"
   ]
  },
  {
   "cell_type": "markdown",
   "metadata": {},
   "source": [
    "The features we are considering are ‘bedrooms’, ’bathrooms’, ’sqft_living’, ’sqft_lot’, ’floors’, ’waterfront’, ’view’, ’grade’, ’sqft_above’, ’sqft_basement’, ’lat’,’sqft_living15'. These are considered are one feature namely features2. Now the data is fitted into the model and test_data of features2 are used for prediction. Mean squared error is calculated for y_test. The mean squared error is rounded of upto 2 decimals. R squared error for both training and test is calculated. The intercept of the line is calculated along with coefficient of individual feature."
   ]
  },
  {
   "cell_type": "code",
   "execution_count": null,
   "metadata": {
    "ExecuteTime": {
     "end_time": "2020-04-21T02:02:47.526708Z",
     "start_time": "2020-04-21T02:02:42.581Z"
    }
   },
   "outputs": [],
   "source": [
    "features2 = ['bedrooms','bathrooms','sqft_living','sqft_lot','floors','waterfront','view','grade','sqft_above','sqft_basement','lat','sqft_living15']\n",
    "reg= linear_model.LinearRegression()\n",
    "reg.fit(train_data[features1],train_data['price'])\n",
    "pred = reg.predict(test_data[features1])\n",
    "print('Complex Model_2')\n",
    "mean_squared_error = metrics.mean_squared_error(y_test, pred)\n",
    "print('Mean Squared Error (MSE) ', round(np.sqrt(mean_squared_error), 2))\n",
    "print('R-squared (training) ', round(reg.score(train_data[features1], train_data['price']), 3))\n",
    "print('R-squared (testing) ', round(reg.score(test_data[features1], test_data['price']), 3))\n",
    "print('Intercept: ', reg.intercept_)\n",
    "print('Coefficient:', reg.coef_)"
   ]
  },
  {
   "cell_type": "markdown",
   "metadata": {},
   "source": [
    "### Polynomial Regression\n",
    "Polynomial Regression is a form of linear regression in which the relationship between the independent variable x and dependent variable y is modeled as an nth degree polynomial. Polynomial regression fits a nonlinear relationship between the value of x and the corresponding conditional mean of y, denoted E(y |x).\n",
    "For degree=2, the linear modelis built. The mean squared error is calculated and r squared is found for training and testing."
   ]
  },
  {
   "cell_type": "code",
   "execution_count": null,
   "metadata": {
    "ExecuteTime": {
     "end_time": "2020-04-21T02:02:47.528452Z",
     "start_time": "2020-04-21T02:02:42.584Z"
    }
   },
   "outputs": [],
   "source": [
    "polyfeat=PolynomialFeatures(degree=2)\n",
    "xtrain_poly=polyfeat.fit_transform(train_data[features1])\n",
    "xtest_poly=polyfeat.fit_transform(test_data[features1])\n",
    "\n",
    "poly=linear_model.LinearRegression()\n",
    "poly.fit(xtrain_poly,train_data['price'])\n",
    "polypred=poly.predict(xtest_poly)\n",
    "\n",
    "print('Complex Model_3')\n",
    "mean_squared_error = metrics.mean_squared_error(test_data['price'], polypred)\n",
    "print('Mean Squared Error (MSE) ', round(np.sqrt(mean_squared_error), 2))\n",
    "print('R-squared (training) ', round(poly.score(xtrain_poly, train_data['price']), 3))\n",
    "print('R-squared (testing) ', round(poly.score(xtest_poly, test_data['price']), 3))"
   ]
  },
  {
   "cell_type": "markdown",
   "metadata": {},
   "source": [
    "For degree=3, the linear model is built. The mean squared error is calculated and r squared is found for training and testing."
   ]
  },
  {
   "cell_type": "code",
   "execution_count": null,
   "metadata": {
    "ExecuteTime": {
     "end_time": "2020-04-21T02:02:47.530030Z",
     "start_time": "2020-04-21T02:02:42.588Z"
    }
   },
   "outputs": [],
   "source": [
    "polyfeat=PolynomialFeatures(degree=3)\n",
    "xtrain_poly=polyfeat.fit_transform(train_data[features1])\n",
    "xtest_poly=polyfeat.fit_transform(test_data[features1])\n",
    "\n",
    "poly=linear_model.LinearRegression()\n",
    "poly.fit(xtrain_poly,train_data['price'])\n",
    "polypred=poly.predict(xtest_poly)\n",
    "\n",
    "print('complex model_4')\n",
    "mean_squared_error=metrics.mean_squared_error(test_data['price'],polypred)\n",
    "print('Mean Squared Error (MSE) ', round(np.sqrt(mean_squared_error), 2))\n",
    "print('R-squared (training) ', round(poly.score(xtrain_poly, train_data['price']), 3))\n",
    "print('R-squared (testing) ', round(poly.score(xtest_poly, test_data['price']), 3))"
   ]
  },
  {
   "cell_type": "code",
   "execution_count": null,
   "metadata": {
    "ExecuteTime": {
     "end_time": "2020-04-21T02:02:47.532360Z",
     "start_time": "2020-04-21T02:02:42.591Z"
    }
   },
   "outputs": [],
   "source": [
    "#df=df[df['price']<=2000000]\n",
    "#df.value_counts()"
   ]
  },
  {
   "cell_type": "code",
   "execution_count": null,
   "metadata": {
    "ExecuteTime": {
     "end_time": "2020-04-21T02:02:47.534305Z",
     "start_time": "2020-04-21T02:02:42.594Z"
    }
   },
   "outputs": [],
   "source": [
    "df_features = list(df.columns) ## listing the features \n",
    "print(df_features)\n",
    "print(len(df_features))"
   ]
  },
  {
   "cell_type": "markdown",
   "metadata": {},
   "source": [
    "###### Condition is “Building Condition” and is “relative to age and grade”. It has values between 1 and 5, where 1 indicates a worn-out property and 5 indicates a very good condition. Grade has an index from 1 to 13, where 1-3 falls short of building construction and design, 7 has an average level of construction and design, and 11-13 have a high quality level of construction and design. View - An index from 0 to 4 of how good the view of the property is.\n"
   ]
  },
  {
   "cell_type": "markdown",
   "metadata": {},
   "source": [
    "#### we have 21 features with 21597 inputs"
   ]
  },
  {
   "cell_type": "markdown",
   "metadata": {},
   "source": [
    "## Exploring the Data for Housing Sales"
   ]
  },
  {
   "cell_type": "code",
   "execution_count": null,
   "metadata": {
    "ExecuteTime": {
     "end_time": "2020-04-21T02:02:47.537027Z",
     "start_time": "2020-04-21T02:02:42.598Z"
    }
   },
   "outputs": [],
   "source": [
    "# ploting all the features to check for normality and find what features are caterogical\n",
    "## plots show bar indicates that they might be caterogical such as condition,floors,view,waterfront,yr renovated,\n",
    "## some features skewed to the right and some to the left\n",
    "df.hist(figsize=(20,15));"
   ]
  },
  {
   "cell_type": "markdown",
   "metadata": {},
   "source": [
    "### investigating into each feature"
   ]
  },
  {
   "cell_type": "markdown",
   "metadata": {},
   "source": [
    "#### Year built\n",
    "since the year built is one of the most important factors for buying a house. This feature must be analyzed deeply "
   ]
  },
  {
   "cell_type": "code",
   "execution_count": null,
   "metadata": {},
   "outputs": [],
   "source": []
  },
  {
   "cell_type": "code",
   "execution_count": null,
   "metadata": {
    "ExecuteTime": {
     "end_time": "2020-04-21T02:02:47.538844Z",
     "start_time": "2020-04-21T02:02:42.603Z"
    }
   },
   "outputs": [],
   "source": [
    "df_year=df[['yr_built']]>1950\n",
    "\n",
    "df['yr_built'].hist()"
   ]
  },
  {
   "cell_type": "markdown",
   "metadata": {},
   "source": [
    "## A linear model using statsmodels"
   ]
  },
  {
   "cell_type": "code",
   "execution_count": null,
   "metadata": {
    "ExecuteTime": {
     "end_time": "2020-04-21T02:02:47.540897Z",
     "start_time": "2020-04-21T02:02:42.607Z"
    }
   },
   "outputs": [],
   "source": [
    "#df_ols = pd.concat([bedrooms, bathrooms, sqft_lot, zipcode,yr_built], axis=1)\n",
    "#df_ols.head()\n",
    "#formula = 'price ~ bedrooms+bathrooms+sqft_living+floors+waterfront+view+condition+grade+sqft_above+sqft_basement+yr_built+yr_renovated+zipcode+lat+long+sqft_living15+sqft_lot15'\n",
    "#model = ols(formula=formula, data=df_ols).fit()\n",
    "#import statsmodels.api as sm\n",
    "#X_int = sm.add_constant(X)\n",
    "#model = sm.OLS(y,X_int).fit()\n",
    "#model.summary()"
   ]
  },
  {
   "cell_type": "markdown",
   "metadata": {},
   "source": [
    "## Linear regression using scikit-learn"
   ]
  },
  {
   "cell_type": "code",
   "execution_count": null,
   "metadata": {
    "ExecuteTime": {
     "end_time": "2020-04-21T02:02:47.542898Z",
     "start_time": "2020-04-21T02:02:42.611Z"
    }
   },
   "outputs": [],
   "source": [
    "from sklearn.preprocessing import StandardScaler\n"
   ]
  },
  {
   "cell_type": "code",
   "execution_count": null,
   "metadata": {
    "ExecuteTime": {
     "end_time": "2020-04-21T02:02:47.544879Z",
     "start_time": "2020-04-21T02:02:42.615Z"
    }
   },
   "outputs": [],
   "source": [
    "from sklearn.preprocessing import StandardScaler #Transforming data \n",
    "scaler = StandardScaler()\n",
    "con_df_norm = scaler.fit_transform(con_df)\n",
    "con_df_scaler = pd.DataFrame(con_df_norm, columns = ['price','sqft_above', 'sqft_basement', 'sqft_living15', 'lat'])\n",
    "\n",
    "con_df_scaler.head()"
   ]
  },
  {
   "cell_type": "markdown",
   "metadata": {},
   "source": [
    "### Feature ranking with recursive feature elimination\n",
    "Scikit-learn also provides a few functionalities for feature selection. Their Feature Ranking with Recursive Feature Elimination selects the pre-specified  𝑛  most important features. This means you must specify the number of features to retail. If this number is not provided, half are used by default. See here for more information on how the algorithm works."
   ]
  },
  {
   "cell_type": "code",
   "execution_count": null,
   "metadata": {
    "ExecuteTime": {
     "end_time": "2020-04-21T02:02:47.548038Z",
     "start_time": "2020-04-21T02:02:42.619Z"
    }
   },
   "outputs": [],
   "source": [
    "#from sklearn.datasets import make_friedman1\n",
    "from sklearn.feature_selection import RFE\n",
    "from sklearn.linear_model import LinearRegression\n",
    "\n",
    "linreg = LinearRegression()\n",
    "selector = RFE(linreg, n_features_to_select=3)\n",
    "selector = selector.fit(predictors, data_fin['mpg'])"
   ]
  },
  {
   "cell_type": "markdown",
   "metadata": {
    "ExecuteTime": {
     "end_time": "2020-04-16T22:36:01.450556Z",
     "start_time": "2020-04-16T22:36:01.447013Z"
    }
   },
   "source": [
    "### Calling \n",
    "the support_ attribute tells you which variables are selected\n",
    "\n",
    "Calling `.ranking_` shows the ranking of the features, selected features are assigned rank 1\n",
    "\n",
    "By calling `.estimator_` on the RFE object, you can get access to the parameter estimates through `.coef_` and `.intercept`.\n"
   ]
  },
  {
   "cell_type": "code",
   "execution_count": null,
   "metadata": {
    "ExecuteTime": {
     "end_time": "2020-04-21T02:02:47.549873Z",
     "start_time": "2020-04-21T02:02:42.624Z"
    }
   },
   "outputs": [],
   "source": [
    "selector.support_ "
   ]
  },
  {
   "cell_type": "code",
   "execution_count": null,
   "metadata": {
    "ExecuteTime": {
     "end_time": "2020-04-21T02:02:47.551154Z",
     "start_time": "2020-04-21T02:02:42.628Z"
    }
   },
   "outputs": [],
   "source": [
    "selector.ranking_\n",
    "### array([1, 1, 2, 1])\n"
   ]
  },
  {
   "cell_type": "code",
   "execution_count": null,
   "metadata": {
    "ExecuteTime": {
     "end_time": "2020-04-21T02:02:47.552935Z",
     "start_time": "2020-04-21T02:02:42.631Z"
    }
   },
   "outputs": [],
   "source": [
    "estimators = selector.estimator_\n",
    "print(estimators.coef_)\n",
    "print(estimators.intercept_)\n",
    "\n",
    "## [ 5.11183657 -5.95285464  1.53951788]\n",
    "#20.841013816401656\n",
    "## "
   ]
  },
  {
   "cell_type": "markdown",
   "metadata": {},
   "source": [
    " ### Note that the regression coefficients and intercept are slightly different. \n",
    "    \n",
    "    This is because only the three most important features were used in the model instead of the original four features. \n",
    "    \n",
    "    If you pass n_features_to_select=4, you should get the original coefficients."
   ]
  },
  {
   "cell_type": "markdown",
   "metadata": {},
   "source": [
    "**Model Evaluation**\n",
    "\n",
    "Scikit-learn has a very useful function, train_test_split(). The optional argument test_size makes it possible to choose the size of the test set and the training set. Since the observations are randomly assigned to the training and test splits each time you run train_test_split(), you can also pass an optional random_state argument to obtain reproducible results. This will ensure your training and test sets are always the same.\n",
    "\n"
   ]
  },
  {
   "cell_type": "code",
   "execution_count": null,
   "metadata": {
    "ExecuteTime": {
     "end_time": "2020-04-21T02:02:47.554371Z",
     "start_time": "2020-04-21T02:02:42.635Z"
    }
   },
   "outputs": [],
   "source": [
    "from sklearn.model_selection import train_test_split\n",
    "X_train, X_test, y_train, y_test = train_test_split(X, y, test_size=0.2, random_state=42)"
   ]
  },
  {
   "cell_type": "code",
   "execution_count": null,
   "metadata": {
    "ExecuteTime": {
     "end_time": "2020-04-21T02:02:47.555634Z",
     "start_time": "2020-04-21T02:02:42.638Z"
    }
   },
   "outputs": [],
   "source": [
    "from sklearn.linear_model import LinearRegression\n",
    "linreg = LinearRegression()\n",
    "linreg.fit(X_train, y_train)\n",
    "\n",
    "y_hat_train = linreg.predict(X_train)\n",
    "y_hat_test = linreg.predict(X_test)"
   ]
  },
  {
   "cell_type": "code",
   "execution_count": null,
   "metadata": {
    "ExecuteTime": {
     "end_time": "2020-04-21T02:02:47.557064Z",
     "start_time": "2020-04-21T02:02:42.641Z"
    }
   },
   "outputs": [],
   "source": [
    "##***\n",
    "#hello\n",
    "##***   how to write text in jupyter *** up and down, how to make bold limit the word between ** before and after ###"
   ]
  },
  {
   "cell_type": "markdown",
   "metadata": {},
   "source": [
    "***\n",
    "You can also do this directly using sklearn's mean_squared_error() function:\n",
    "***"
   ]
  },
  {
   "cell_type": "code",
   "execution_count": null,
   "metadata": {
    "ExecuteTime": {
     "end_time": "2020-04-21T02:02:47.558792Z",
     "start_time": "2020-04-21T02:02:42.645Z"
    }
   },
   "outputs": [],
   "source": [
    "from sklearn.metrics import mean_squared_error\n",
    "\n",
    "train_mse = mean_squared_error(y_train, y_hat_train)\n",
    "test_mse = mean_squared_error(y_test, y_hat_test)\n",
    "print('Train Mean Squarred Error:', train_mse)\n",
    "print('Test Mean Squarred Error:', test_mse)\n",
    "## Train Mean Squarred Error: 16.79026189951861\n",
    "##Test Mean Squarred Error: 16.50002062788149\n"
   ]
  },
  {
   "cell_type": "markdown",
   "metadata": {},
   "source": [
    "****\n",
    "Great, there does not seem to be a big difference between the train and test MSE! \n",
    "If your test error is substantially worse than the train error, this is a sign that the model doesn't generalize well to future cases.\n",
    "\n",
    "***"
   ]
  },
  {
   "cell_type": "markdown",
   "metadata": {},
   "source": [
    "## kfold cross validation"
   ]
  },
  {
   "cell_type": "code",
   "execution_count": null,
   "metadata": {
    "ExecuteTime": {
     "end_time": "2020-04-21T02:02:47.560485Z",
     "start_time": "2020-04-21T02:02:42.649Z"
    }
   },
   "outputs": [],
   "source": [
    "from sklearn.metrics import mean_squared_error\n",
    "from sklearn.model_selection import cross_val_score\n",
    "\n",
    "cv_5_results  = np.mean(cross_val_score(linreg, X, y, cv=5,  scoring='neg_mean_squared_error'))\n",
    "cv_10_results = np.mean(cross_val_score(linreg, X, y, cv=10, scoring='neg_mean_squared_error'))\n",
    "cv_20_results = np.mean(cross_val_score(linreg, X, y, cv=20, scoring='neg_mean_squared_error'))"
   ]
  },
  {
   "cell_type": "code",
   "execution_count": null,
   "metadata": {
    "ExecuteTime": {
     "end_time": "2020-04-21T02:02:47.562376Z",
     "start_time": "2020-04-21T02:02:42.652Z"
    }
   },
   "outputs": [],
   "source": [
    "from sklearn.metrics import mean_squared_error\n",
    "from sklearn.model_selection import cross_val_score\n",
    "\n",
    "cv_5_results = cross_val_score(linreg, X, y, cv=5, scoring='neg_mean_squared_error')"
   ]
  },
  {
   "cell_type": "code",
   "execution_count": null,
   "metadata": {},
   "outputs": [],
   "source": []
  },
  {
   "cell_type": "code",
   "execution_count": null,
   "metadata": {},
   "outputs": [],
   "source": []
  }
 ],
 "metadata": {
  "kernelspec": {
   "display_name": "Python [conda env:learn-env] *",
   "language": "python",
   "name": "conda-env-learn-env-py"
  },
  "language_info": {
   "codemirror_mode": {
    "name": "ipython",
    "version": 3
   },
   "file_extension": ".py",
   "mimetype": "text/x-python",
   "name": "python",
   "nbconvert_exporter": "python",
   "pygments_lexer": "ipython3",
   "version": "3.6.9"
  },
  "toc": {
   "base_numbering": 1,
   "nav_menu": {},
   "number_sections": true,
   "sideBar": true,
   "skip_h1_title": false,
   "title_cell": "Table of Contents",
   "title_sidebar": "Contents",
   "toc_cell": true,
   "toc_position": {},
   "toc_section_display": true,
   "toc_window_display": false
  },
  "varInspector": {
   "cols": {
    "lenName": 16,
    "lenType": 16,
    "lenVar": 40
   },
   "kernels_config": {
    "python": {
     "delete_cmd_postfix": "",
     "delete_cmd_prefix": "del ",
     "library": "var_list.py",
     "varRefreshCmd": "print(var_dic_list())"
    },
    "r": {
     "delete_cmd_postfix": ") ",
     "delete_cmd_prefix": "rm(",
     "library": "var_list.r",
     "varRefreshCmd": "cat(var_dic_list()) "
    }
   },
   "types_to_exclude": [
    "module",
    "function",
    "builtin_function_or_method",
    "instance",
    "_Feature"
   ],
   "window_display": false
  }
 },
 "nbformat": 4,
 "nbformat_minor": 2
}
